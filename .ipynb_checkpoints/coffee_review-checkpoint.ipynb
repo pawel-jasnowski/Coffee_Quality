{
 "cells": [
  {
   "cell_type": "markdown",
   "id": "25cbb15d",
   "metadata": {},
   "source": [
    "## This dataset is from Coffee Quality Institute - January 2018. CSV file contains an arabica coffee pre-cleaned dataset. Dataset was done by James LeDoux - https://github.com/jldbc/coffee-quality-database. Im interested only in arabica coffee and its quality. I would like to explore this dataset and see what stands behind quality of arabica coffee. Each coffee in this dataset has been reviewed by Coffee Cuper - specialized reviewer that gives coffee quality points. Let 's have some coffee and let 's dive into data ... "
   ]
  },
  {
   "cell_type": "code",
   "execution_count": 1,
   "id": "27fb0fda",
   "metadata": {},
   "outputs": [
    {
     "name": "stderr",
     "output_type": "stream",
     "text": [
      "C:\\Users\\JASNYP\\AppData\\Local\\Temp\\ipykernel_21124\\2580967145.py:4: DeprecationWarning: `import pandas_profiling` is going to be deprecated by April 1st. Please use `import ydata_profiling` instead.\n",
      "  from pandas_profiling import ProfileReport #EDA tool\n"
     ]
    }
   ],
   "source": [
    "#import modules\n",
    "import pandas as pd\n",
    "import numpy as np\n",
    "from pandas_profiling import ProfileReport #EDA tool\n",
    "import matplotlib.pyplot as plt\n",
    "import seaborn as sns \n",
    "\n",
    "%matplotlib inline"
   ]
  },
  {
   "cell_type": "code",
   "execution_count": 2,
   "id": "3a431b7f",
   "metadata": {},
   "outputs": [],
   "source": [
    "#dataset loading\n",
    "raw_data = pd.read_csv('coffee_reviews_dataset/arabica_data_cleaned.csv', index_col = 0)"
   ]
  },
  {
   "cell_type": "code",
   "execution_count": 3,
   "id": "eda7c9c9",
   "metadata": {},
   "outputs": [],
   "source": [
    "df = raw_data.copy()"
   ]
  },
  {
   "cell_type": "code",
   "execution_count": 4,
   "id": "31cff01c",
   "metadata": {},
   "outputs": [
    {
     "data": {
      "text/html": [
       "<div>\n",
       "<style scoped>\n",
       "    .dataframe tbody tr th:only-of-type {\n",
       "        vertical-align: middle;\n",
       "    }\n",
       "\n",
       "    .dataframe tbody tr th {\n",
       "        vertical-align: top;\n",
       "    }\n",
       "\n",
       "    .dataframe thead th {\n",
       "        text-align: right;\n",
       "    }\n",
       "</style>\n",
       "<table border=\"1\" class=\"dataframe\">\n",
       "  <thead>\n",
       "    <tr style=\"text-align: right;\">\n",
       "      <th></th>\n",
       "      <th>Species</th>\n",
       "      <th>Owner</th>\n",
       "      <th>Country.of.Origin</th>\n",
       "      <th>Farm.Name</th>\n",
       "      <th>Lot.Number</th>\n",
       "      <th>Mill</th>\n",
       "      <th>ICO.Number</th>\n",
       "      <th>Company</th>\n",
       "      <th>Altitude</th>\n",
       "      <th>Region</th>\n",
       "      <th>...</th>\n",
       "      <th>Color</th>\n",
       "      <th>Category.Two.Defects</th>\n",
       "      <th>Expiration</th>\n",
       "      <th>Certification.Body</th>\n",
       "      <th>Certification.Address</th>\n",
       "      <th>Certification.Contact</th>\n",
       "      <th>unit_of_measurement</th>\n",
       "      <th>altitude_low_meters</th>\n",
       "      <th>altitude_high_meters</th>\n",
       "      <th>altitude_mean_meters</th>\n",
       "    </tr>\n",
       "  </thead>\n",
       "  <tbody>\n",
       "    <tr>\n",
       "      <th>1</th>\n",
       "      <td>Arabica</td>\n",
       "      <td>metad plc</td>\n",
       "      <td>Ethiopia</td>\n",
       "      <td>metad plc</td>\n",
       "      <td>NaN</td>\n",
       "      <td>metad plc</td>\n",
       "      <td>2014/2015</td>\n",
       "      <td>metad agricultural developmet plc</td>\n",
       "      <td>1950-2200</td>\n",
       "      <td>guji-hambela</td>\n",
       "      <td>...</td>\n",
       "      <td>Green</td>\n",
       "      <td>0</td>\n",
       "      <td>April 3rd, 2016</td>\n",
       "      <td>METAD Agricultural Development plc</td>\n",
       "      <td>309fcf77415a3661ae83e027f7e5f05dad786e44</td>\n",
       "      <td>19fef5a731de2db57d16da10287413f5f99bc2dd</td>\n",
       "      <td>m</td>\n",
       "      <td>1950.0</td>\n",
       "      <td>2200.0</td>\n",
       "      <td>2075.0</td>\n",
       "    </tr>\n",
       "    <tr>\n",
       "      <th>2</th>\n",
       "      <td>Arabica</td>\n",
       "      <td>metad plc</td>\n",
       "      <td>Ethiopia</td>\n",
       "      <td>metad plc</td>\n",
       "      <td>NaN</td>\n",
       "      <td>metad plc</td>\n",
       "      <td>2014/2015</td>\n",
       "      <td>metad agricultural developmet plc</td>\n",
       "      <td>1950-2200</td>\n",
       "      <td>guji-hambela</td>\n",
       "      <td>...</td>\n",
       "      <td>Green</td>\n",
       "      <td>1</td>\n",
       "      <td>April 3rd, 2016</td>\n",
       "      <td>METAD Agricultural Development plc</td>\n",
       "      <td>309fcf77415a3661ae83e027f7e5f05dad786e44</td>\n",
       "      <td>19fef5a731de2db57d16da10287413f5f99bc2dd</td>\n",
       "      <td>m</td>\n",
       "      <td>1950.0</td>\n",
       "      <td>2200.0</td>\n",
       "      <td>2075.0</td>\n",
       "    </tr>\n",
       "    <tr>\n",
       "      <th>3</th>\n",
       "      <td>Arabica</td>\n",
       "      <td>grounds for health admin</td>\n",
       "      <td>Guatemala</td>\n",
       "      <td>san marcos barrancas \"san cristobal cuch</td>\n",
       "      <td>NaN</td>\n",
       "      <td>NaN</td>\n",
       "      <td>NaN</td>\n",
       "      <td>NaN</td>\n",
       "      <td>1600 - 1800 m</td>\n",
       "      <td>NaN</td>\n",
       "      <td>...</td>\n",
       "      <td>NaN</td>\n",
       "      <td>0</td>\n",
       "      <td>May 31st, 2011</td>\n",
       "      <td>Specialty Coffee Association</td>\n",
       "      <td>36d0d00a3724338ba7937c52a378d085f2172daa</td>\n",
       "      <td>0878a7d4b9d35ddbf0fe2ce69a2062cceb45a660</td>\n",
       "      <td>m</td>\n",
       "      <td>1600.0</td>\n",
       "      <td>1800.0</td>\n",
       "      <td>1700.0</td>\n",
       "    </tr>\n",
       "    <tr>\n",
       "      <th>4</th>\n",
       "      <td>Arabica</td>\n",
       "      <td>yidnekachew dabessa</td>\n",
       "      <td>Ethiopia</td>\n",
       "      <td>yidnekachew dabessa coffee plantation</td>\n",
       "      <td>NaN</td>\n",
       "      <td>wolensu</td>\n",
       "      <td>NaN</td>\n",
       "      <td>yidnekachew debessa coffee plantation</td>\n",
       "      <td>1800-2200</td>\n",
       "      <td>oromia</td>\n",
       "      <td>...</td>\n",
       "      <td>Green</td>\n",
       "      <td>2</td>\n",
       "      <td>March 25th, 2016</td>\n",
       "      <td>METAD Agricultural Development plc</td>\n",
       "      <td>309fcf77415a3661ae83e027f7e5f05dad786e44</td>\n",
       "      <td>19fef5a731de2db57d16da10287413f5f99bc2dd</td>\n",
       "      <td>m</td>\n",
       "      <td>1800.0</td>\n",
       "      <td>2200.0</td>\n",
       "      <td>2000.0</td>\n",
       "    </tr>\n",
       "    <tr>\n",
       "      <th>5</th>\n",
       "      <td>Arabica</td>\n",
       "      <td>metad plc</td>\n",
       "      <td>Ethiopia</td>\n",
       "      <td>metad plc</td>\n",
       "      <td>NaN</td>\n",
       "      <td>metad plc</td>\n",
       "      <td>2014/2015</td>\n",
       "      <td>metad agricultural developmet plc</td>\n",
       "      <td>1950-2200</td>\n",
       "      <td>guji-hambela</td>\n",
       "      <td>...</td>\n",
       "      <td>Green</td>\n",
       "      <td>2</td>\n",
       "      <td>April 3rd, 2016</td>\n",
       "      <td>METAD Agricultural Development plc</td>\n",
       "      <td>309fcf77415a3661ae83e027f7e5f05dad786e44</td>\n",
       "      <td>19fef5a731de2db57d16da10287413f5f99bc2dd</td>\n",
       "      <td>m</td>\n",
       "      <td>1950.0</td>\n",
       "      <td>2200.0</td>\n",
       "      <td>2075.0</td>\n",
       "    </tr>\n",
       "  </tbody>\n",
       "</table>\n",
       "<p>5 rows × 43 columns</p>\n",
       "</div>"
      ],
      "text/plain": [
       "   Species                     Owner Country.of.Origin  \\\n",
       "1  Arabica                 metad plc          Ethiopia   \n",
       "2  Arabica                 metad plc          Ethiopia   \n",
       "3  Arabica  grounds for health admin         Guatemala   \n",
       "4  Arabica       yidnekachew dabessa          Ethiopia   \n",
       "5  Arabica                 metad plc          Ethiopia   \n",
       "\n",
       "                                  Farm.Name Lot.Number       Mill ICO.Number  \\\n",
       "1                                 metad plc        NaN  metad plc  2014/2015   \n",
       "2                                 metad plc        NaN  metad plc  2014/2015   \n",
       "3  san marcos barrancas \"san cristobal cuch        NaN        NaN        NaN   \n",
       "4     yidnekachew dabessa coffee plantation        NaN    wolensu        NaN   \n",
       "5                                 metad plc        NaN  metad plc  2014/2015   \n",
       "\n",
       "                                 Company       Altitude        Region  ...  \\\n",
       "1      metad agricultural developmet plc      1950-2200  guji-hambela  ...   \n",
       "2      metad agricultural developmet plc      1950-2200  guji-hambela  ...   \n",
       "3                                    NaN  1600 - 1800 m           NaN  ...   \n",
       "4  yidnekachew debessa coffee plantation      1800-2200        oromia  ...   \n",
       "5      metad agricultural developmet plc      1950-2200  guji-hambela  ...   \n",
       "\n",
       "   Color  Category.Two.Defects        Expiration  \\\n",
       "1  Green                     0   April 3rd, 2016   \n",
       "2  Green                     1   April 3rd, 2016   \n",
       "3    NaN                     0    May 31st, 2011   \n",
       "4  Green                     2  March 25th, 2016   \n",
       "5  Green                     2   April 3rd, 2016   \n",
       "\n",
       "                   Certification.Body  \\\n",
       "1  METAD Agricultural Development plc   \n",
       "2  METAD Agricultural Development plc   \n",
       "3        Specialty Coffee Association   \n",
       "4  METAD Agricultural Development plc   \n",
       "5  METAD Agricultural Development plc   \n",
       "\n",
       "                      Certification.Address  \\\n",
       "1  309fcf77415a3661ae83e027f7e5f05dad786e44   \n",
       "2  309fcf77415a3661ae83e027f7e5f05dad786e44   \n",
       "3  36d0d00a3724338ba7937c52a378d085f2172daa   \n",
       "4  309fcf77415a3661ae83e027f7e5f05dad786e44   \n",
       "5  309fcf77415a3661ae83e027f7e5f05dad786e44   \n",
       "\n",
       "                      Certification.Contact unit_of_measurement  \\\n",
       "1  19fef5a731de2db57d16da10287413f5f99bc2dd                   m   \n",
       "2  19fef5a731de2db57d16da10287413f5f99bc2dd                   m   \n",
       "3  0878a7d4b9d35ddbf0fe2ce69a2062cceb45a660                   m   \n",
       "4  19fef5a731de2db57d16da10287413f5f99bc2dd                   m   \n",
       "5  19fef5a731de2db57d16da10287413f5f99bc2dd                   m   \n",
       "\n",
       "  altitude_low_meters altitude_high_meters  altitude_mean_meters  \n",
       "1              1950.0               2200.0                2075.0  \n",
       "2              1950.0               2200.0                2075.0  \n",
       "3              1600.0               1800.0                1700.0  \n",
       "4              1800.0               2200.0                2000.0  \n",
       "5              1950.0               2200.0                2075.0  \n",
       "\n",
       "[5 rows x 43 columns]"
      ]
     },
     "execution_count": 4,
     "metadata": {},
     "output_type": "execute_result"
    }
   ],
   "source": [
    "df.head()"
   ]
  },
  {
   "cell_type": "markdown",
   "id": "dab77733",
   "metadata": {},
   "source": [
    "## Quick look at info()."
   ]
  },
  {
   "cell_type": "code",
   "execution_count": 5,
   "id": "044ff9f1",
   "metadata": {},
   "outputs": [
    {
     "name": "stdout",
     "output_type": "stream",
     "text": [
      "<class 'pandas.core.frame.DataFrame'>\n",
      "Int64Index: 1311 entries, 1 to 1312\n",
      "Data columns (total 43 columns):\n",
      " #   Column                 Non-Null Count  Dtype  \n",
      "---  ------                 --------------  -----  \n",
      " 0   Species                1311 non-null   object \n",
      " 1   Owner                  1304 non-null   object \n",
      " 2   Country.of.Origin      1310 non-null   object \n",
      " 3   Farm.Name              955 non-null    object \n",
      " 4   Lot.Number             270 non-null    object \n",
      " 5   Mill                   1001 non-null   object \n",
      " 6   ICO.Number             1165 non-null   object \n",
      " 7   Company                1102 non-null   object \n",
      " 8   Altitude               1088 non-null   object \n",
      " 9   Region                 1254 non-null   object \n",
      " 10  Producer               1081 non-null   object \n",
      " 11  Number.of.Bags         1311 non-null   int64  \n",
      " 12  Bag.Weight             1311 non-null   object \n",
      " 13  In.Country.Partner     1311 non-null   object \n",
      " 14  Harvest.Year           1264 non-null   object \n",
      " 15  Grading.Date           1311 non-null   object \n",
      " 16  Owner.1                1304 non-null   object \n",
      " 17  Variety                1110 non-null   object \n",
      " 18  Processing.Method      1159 non-null   object \n",
      " 19  Aroma                  1311 non-null   float64\n",
      " 20  Flavor                 1311 non-null   float64\n",
      " 21  Aftertaste             1311 non-null   float64\n",
      " 22  Acidity                1311 non-null   float64\n",
      " 23  Body                   1311 non-null   float64\n",
      " 24  Balance                1311 non-null   float64\n",
      " 25  Uniformity             1311 non-null   float64\n",
      " 26  Clean.Cup              1311 non-null   float64\n",
      " 27  Sweetness              1311 non-null   float64\n",
      " 28  Cupper.Points          1311 non-null   float64\n",
      " 29  Total.Cup.Points       1311 non-null   float64\n",
      " 30  Moisture               1311 non-null   float64\n",
      " 31  Category.One.Defects   1311 non-null   int64  \n",
      " 32  Quakers                1310 non-null   float64\n",
      " 33  Color                  1095 non-null   object \n",
      " 34  Category.Two.Defects   1311 non-null   int64  \n",
      " 35  Expiration             1311 non-null   object \n",
      " 36  Certification.Body     1311 non-null   object \n",
      " 37  Certification.Address  1311 non-null   object \n",
      " 38  Certification.Contact  1311 non-null   object \n",
      " 39  unit_of_measurement    1311 non-null   object \n",
      " 40  altitude_low_meters    1084 non-null   float64\n",
      " 41  altitude_high_meters   1084 non-null   float64\n",
      " 42  altitude_mean_meters   1084 non-null   float64\n",
      "dtypes: float64(16), int64(3), object(24)\n",
      "memory usage: 450.7+ KB\n"
     ]
    }
   ],
   "source": [
    "df.info()"
   ]
  },
  {
   "cell_type": "code",
   "execution_count": 6,
   "id": "d2ba88f0",
   "metadata": {},
   "outputs": [
    {
     "data": {
      "text/plain": [
       "Species                     0\n",
       "Owner                       7\n",
       "Country.of.Origin           1\n",
       "Farm.Name                 356\n",
       "Lot.Number               1041\n",
       "Mill                      310\n",
       "ICO.Number                146\n",
       "Company                   209\n",
       "Altitude                  223\n",
       "Region                     57\n",
       "Producer                  230\n",
       "Number.of.Bags              0\n",
       "Bag.Weight                  0\n",
       "In.Country.Partner          0\n",
       "Harvest.Year               47\n",
       "Grading.Date                0\n",
       "Owner.1                     7\n",
       "Variety                   201\n",
       "Processing.Method         152\n",
       "Aroma                       0\n",
       "Flavor                      0\n",
       "Aftertaste                  0\n",
       "Acidity                     0\n",
       "Body                        0\n",
       "Balance                     0\n",
       "Uniformity                  0\n",
       "Clean.Cup                   0\n",
       "Sweetness                   0\n",
       "Cupper.Points               0\n",
       "Total.Cup.Points            0\n",
       "Moisture                    0\n",
       "Category.One.Defects        0\n",
       "Quakers                     1\n",
       "Color                     216\n",
       "Category.Two.Defects        0\n",
       "Expiration                  0\n",
       "Certification.Body          0\n",
       "Certification.Address       0\n",
       "Certification.Contact       0\n",
       "unit_of_measurement         0\n",
       "altitude_low_meters       227\n",
       "altitude_high_meters      227\n",
       "altitude_mean_meters      227\n",
       "dtype: int64"
      ]
     },
     "execution_count": 6,
     "metadata": {},
     "output_type": "execute_result"
    }
   ],
   "source": [
    "df.isnull().sum() #some null values ?"
   ]
  },
  {
   "cell_type": "markdown",
   "id": "8cbf63f4",
   "metadata": {},
   "source": [
    "## Quick look at 'variety' column. Maybe some Gesha inside ? "
   ]
  },
  {
   "cell_type": "code",
   "execution_count": 7,
   "id": "7aa2c4e2",
   "metadata": {},
   "outputs": [
    {
     "data": {
      "text/plain": [
       "Caturra                  256\n",
       "Bourbon                  226\n",
       "Typica                   211\n",
       "Other                    108\n",
       "Catuai                    74\n",
       "Hawaiian Kona             44\n",
       "Yellow Bourbon            35\n",
       "Mundo Novo                33\n",
       "Catimor                   20\n",
       "SL14                      17\n",
       "SL28                      15\n",
       "Pacas                     13\n",
       "Gesha                     12\n",
       "SL34                       8\n",
       "Pacamara                   8\n",
       "Arusha                     5\n",
       "Peaberry                   5\n",
       "Sumatra                    3\n",
       "Mandheling                 3\n",
       "Ruiru 11                   2\n",
       "Blue Mountain              2\n",
       "Ethiopian Yirgacheffe      2\n",
       "Java                       2\n",
       "Ethiopian Heirlooms        1\n",
       "Moka Peaberry              1\n",
       "Sulawesi                   1\n",
       "Sumatra Lintong            1\n",
       "Marigojipe                 1\n",
       "Pache Comun                1\n",
       "Name: Variety, dtype: int64"
      ]
     },
     "execution_count": 7,
     "metadata": {},
     "output_type": "execute_result"
    }
   ],
   "source": [
    "df.Variety.value_counts() #variety of coffee its something that Im interesting in"
   ]
  },
  {
   "cell_type": "markdown",
   "id": "6231d075",
   "metadata": {},
   "source": [
    "## I`m using Pandas Profile Report for some quick EDA. ( Its good for 'not so big' datasets)"
   ]
  },
  {
   "cell_type": "code",
   "execution_count": null,
   "id": "531672c7",
   "metadata": {},
   "outputs": [],
   "source": [
    "report = ProfileReport(df, title='Coffee Review Report')\n",
    "report.to_file(\"coffee review report.html\")"
   ]
  },
  {
   "cell_type": "markdown",
   "id": "c289f5b9",
   "metadata": {},
   "source": [
    "## Data cleaning."
   ]
  },
  {
   "cell_type": "code",
   "execution_count": 8,
   "id": "d6f830da",
   "metadata": {},
   "outputs": [
    {
     "data": {
      "text/plain": [
       "Index(['Species', 'Owner', 'Country.of.Origin', 'Farm.Name', 'Lot.Number',\n",
       "       'Mill', 'ICO.Number', 'Company', 'Altitude', 'Region', 'Producer',\n",
       "       'Number.of.Bags', 'Bag.Weight', 'In.Country.Partner', 'Harvest.Year',\n",
       "       'Grading.Date', 'Owner.1', 'Variety', 'Processing.Method', 'Aroma',\n",
       "       'Flavor', 'Aftertaste', 'Acidity', 'Body', 'Balance', 'Uniformity',\n",
       "       'Clean.Cup', 'Sweetness', 'Cupper.Points', 'Total.Cup.Points',\n",
       "       'Moisture', 'Category.One.Defects', 'Quakers', 'Color',\n",
       "       'Category.Two.Defects', 'Expiration', 'Certification.Body',\n",
       "       'Certification.Address', 'Certification.Contact', 'unit_of_measurement',\n",
       "       'altitude_low_meters', 'altitude_high_meters', 'altitude_mean_meters'],\n",
       "      dtype='object')"
      ]
     },
     "execution_count": 8,
     "metadata": {},
     "output_type": "execute_result"
    }
   ],
   "source": [
    "df.columns"
   ]
  },
  {
   "cell_type": "code",
   "execution_count": 9,
   "id": "78471ada",
   "metadata": {},
   "outputs": [
    {
     "name": "stderr",
     "output_type": "stream",
     "text": [
      "C:\\Users\\JASNYP\\AppData\\Local\\Temp\\ipykernel_21124\\503401136.py:1: FutureWarning: The default value of regex will change from True to False in a future version. In addition, single character regular expressions will *not* be treated as literal strings when regex=True.\n",
      "  df.columns = df.columns.str.replace('.', '_').str.lower()\n"
     ]
    }
   ],
   "source": [
    "df.columns = df.columns.str.replace('.', '_').str.lower()"
   ]
  },
  {
   "cell_type": "code",
   "execution_count": 10,
   "id": "e9f8326b",
   "metadata": {},
   "outputs": [
    {
     "data": {
      "text/html": [
       "<div>\n",
       "<style scoped>\n",
       "    .dataframe tbody tr th:only-of-type {\n",
       "        vertical-align: middle;\n",
       "    }\n",
       "\n",
       "    .dataframe tbody tr th {\n",
       "        vertical-align: top;\n",
       "    }\n",
       "\n",
       "    .dataframe thead th {\n",
       "        text-align: right;\n",
       "    }\n",
       "</style>\n",
       "<table border=\"1\" class=\"dataframe\">\n",
       "  <thead>\n",
       "    <tr style=\"text-align: right;\">\n",
       "      <th></th>\n",
       "      <th>species</th>\n",
       "      <th>owner</th>\n",
       "      <th>country_of_origin</th>\n",
       "      <th>farm_name</th>\n",
       "      <th>lot_number</th>\n",
       "      <th>mill</th>\n",
       "      <th>ico_number</th>\n",
       "      <th>company</th>\n",
       "      <th>altitude</th>\n",
       "      <th>region</th>\n",
       "      <th>...</th>\n",
       "      <th>color</th>\n",
       "      <th>category_two_defects</th>\n",
       "      <th>expiration</th>\n",
       "      <th>certification_body</th>\n",
       "      <th>certification_address</th>\n",
       "      <th>certification_contact</th>\n",
       "      <th>unit_of_measurement</th>\n",
       "      <th>altitude_low_meters</th>\n",
       "      <th>altitude_high_meters</th>\n",
       "      <th>altitude_mean_meters</th>\n",
       "    </tr>\n",
       "  </thead>\n",
       "  <tbody>\n",
       "    <tr>\n",
       "      <th>1</th>\n",
       "      <td>Arabica</td>\n",
       "      <td>metad plc</td>\n",
       "      <td>Ethiopia</td>\n",
       "      <td>metad plc</td>\n",
       "      <td>NaN</td>\n",
       "      <td>metad plc</td>\n",
       "      <td>2014/2015</td>\n",
       "      <td>metad agricultural developmet plc</td>\n",
       "      <td>1950-2200</td>\n",
       "      <td>guji-hambela</td>\n",
       "      <td>...</td>\n",
       "      <td>Green</td>\n",
       "      <td>0</td>\n",
       "      <td>April 3rd, 2016</td>\n",
       "      <td>METAD Agricultural Development plc</td>\n",
       "      <td>309fcf77415a3661ae83e027f7e5f05dad786e44</td>\n",
       "      <td>19fef5a731de2db57d16da10287413f5f99bc2dd</td>\n",
       "      <td>m</td>\n",
       "      <td>1950.0</td>\n",
       "      <td>2200.0</td>\n",
       "      <td>2075.0</td>\n",
       "    </tr>\n",
       "    <tr>\n",
       "      <th>2</th>\n",
       "      <td>Arabica</td>\n",
       "      <td>metad plc</td>\n",
       "      <td>Ethiopia</td>\n",
       "      <td>metad plc</td>\n",
       "      <td>NaN</td>\n",
       "      <td>metad plc</td>\n",
       "      <td>2014/2015</td>\n",
       "      <td>metad agricultural developmet plc</td>\n",
       "      <td>1950-2200</td>\n",
       "      <td>guji-hambela</td>\n",
       "      <td>...</td>\n",
       "      <td>Green</td>\n",
       "      <td>1</td>\n",
       "      <td>April 3rd, 2016</td>\n",
       "      <td>METAD Agricultural Development plc</td>\n",
       "      <td>309fcf77415a3661ae83e027f7e5f05dad786e44</td>\n",
       "      <td>19fef5a731de2db57d16da10287413f5f99bc2dd</td>\n",
       "      <td>m</td>\n",
       "      <td>1950.0</td>\n",
       "      <td>2200.0</td>\n",
       "      <td>2075.0</td>\n",
       "    </tr>\n",
       "    <tr>\n",
       "      <th>3</th>\n",
       "      <td>Arabica</td>\n",
       "      <td>grounds for health admin</td>\n",
       "      <td>Guatemala</td>\n",
       "      <td>san marcos barrancas \"san cristobal cuch</td>\n",
       "      <td>NaN</td>\n",
       "      <td>NaN</td>\n",
       "      <td>NaN</td>\n",
       "      <td>NaN</td>\n",
       "      <td>1600 - 1800 m</td>\n",
       "      <td>NaN</td>\n",
       "      <td>...</td>\n",
       "      <td>NaN</td>\n",
       "      <td>0</td>\n",
       "      <td>May 31st, 2011</td>\n",
       "      <td>Specialty Coffee Association</td>\n",
       "      <td>36d0d00a3724338ba7937c52a378d085f2172daa</td>\n",
       "      <td>0878a7d4b9d35ddbf0fe2ce69a2062cceb45a660</td>\n",
       "      <td>m</td>\n",
       "      <td>1600.0</td>\n",
       "      <td>1800.0</td>\n",
       "      <td>1700.0</td>\n",
       "    </tr>\n",
       "    <tr>\n",
       "      <th>4</th>\n",
       "      <td>Arabica</td>\n",
       "      <td>yidnekachew dabessa</td>\n",
       "      <td>Ethiopia</td>\n",
       "      <td>yidnekachew dabessa coffee plantation</td>\n",
       "      <td>NaN</td>\n",
       "      <td>wolensu</td>\n",
       "      <td>NaN</td>\n",
       "      <td>yidnekachew debessa coffee plantation</td>\n",
       "      <td>1800-2200</td>\n",
       "      <td>oromia</td>\n",
       "      <td>...</td>\n",
       "      <td>Green</td>\n",
       "      <td>2</td>\n",
       "      <td>March 25th, 2016</td>\n",
       "      <td>METAD Agricultural Development plc</td>\n",
       "      <td>309fcf77415a3661ae83e027f7e5f05dad786e44</td>\n",
       "      <td>19fef5a731de2db57d16da10287413f5f99bc2dd</td>\n",
       "      <td>m</td>\n",
       "      <td>1800.0</td>\n",
       "      <td>2200.0</td>\n",
       "      <td>2000.0</td>\n",
       "    </tr>\n",
       "    <tr>\n",
       "      <th>5</th>\n",
       "      <td>Arabica</td>\n",
       "      <td>metad plc</td>\n",
       "      <td>Ethiopia</td>\n",
       "      <td>metad plc</td>\n",
       "      <td>NaN</td>\n",
       "      <td>metad plc</td>\n",
       "      <td>2014/2015</td>\n",
       "      <td>metad agricultural developmet plc</td>\n",
       "      <td>1950-2200</td>\n",
       "      <td>guji-hambela</td>\n",
       "      <td>...</td>\n",
       "      <td>Green</td>\n",
       "      <td>2</td>\n",
       "      <td>April 3rd, 2016</td>\n",
       "      <td>METAD Agricultural Development plc</td>\n",
       "      <td>309fcf77415a3661ae83e027f7e5f05dad786e44</td>\n",
       "      <td>19fef5a731de2db57d16da10287413f5f99bc2dd</td>\n",
       "      <td>m</td>\n",
       "      <td>1950.0</td>\n",
       "      <td>2200.0</td>\n",
       "      <td>2075.0</td>\n",
       "    </tr>\n",
       "  </tbody>\n",
       "</table>\n",
       "<p>5 rows × 43 columns</p>\n",
       "</div>"
      ],
      "text/plain": [
       "   species                     owner country_of_origin  \\\n",
       "1  Arabica                 metad plc          Ethiopia   \n",
       "2  Arabica                 metad plc          Ethiopia   \n",
       "3  Arabica  grounds for health admin         Guatemala   \n",
       "4  Arabica       yidnekachew dabessa          Ethiopia   \n",
       "5  Arabica                 metad plc          Ethiopia   \n",
       "\n",
       "                                  farm_name lot_number       mill ico_number  \\\n",
       "1                                 metad plc        NaN  metad plc  2014/2015   \n",
       "2                                 metad plc        NaN  metad plc  2014/2015   \n",
       "3  san marcos barrancas \"san cristobal cuch        NaN        NaN        NaN   \n",
       "4     yidnekachew dabessa coffee plantation        NaN    wolensu        NaN   \n",
       "5                                 metad plc        NaN  metad plc  2014/2015   \n",
       "\n",
       "                                 company       altitude        region  ...  \\\n",
       "1      metad agricultural developmet plc      1950-2200  guji-hambela  ...   \n",
       "2      metad agricultural developmet plc      1950-2200  guji-hambela  ...   \n",
       "3                                    NaN  1600 - 1800 m           NaN  ...   \n",
       "4  yidnekachew debessa coffee plantation      1800-2200        oromia  ...   \n",
       "5      metad agricultural developmet plc      1950-2200  guji-hambela  ...   \n",
       "\n",
       "   color  category_two_defects        expiration  \\\n",
       "1  Green                     0   April 3rd, 2016   \n",
       "2  Green                     1   April 3rd, 2016   \n",
       "3    NaN                     0    May 31st, 2011   \n",
       "4  Green                     2  March 25th, 2016   \n",
       "5  Green                     2   April 3rd, 2016   \n",
       "\n",
       "                   certification_body  \\\n",
       "1  METAD Agricultural Development plc   \n",
       "2  METAD Agricultural Development plc   \n",
       "3        Specialty Coffee Association   \n",
       "4  METAD Agricultural Development plc   \n",
       "5  METAD Agricultural Development plc   \n",
       "\n",
       "                      certification_address  \\\n",
       "1  309fcf77415a3661ae83e027f7e5f05dad786e44   \n",
       "2  309fcf77415a3661ae83e027f7e5f05dad786e44   \n",
       "3  36d0d00a3724338ba7937c52a378d085f2172daa   \n",
       "4  309fcf77415a3661ae83e027f7e5f05dad786e44   \n",
       "5  309fcf77415a3661ae83e027f7e5f05dad786e44   \n",
       "\n",
       "                      certification_contact unit_of_measurement  \\\n",
       "1  19fef5a731de2db57d16da10287413f5f99bc2dd                   m   \n",
       "2  19fef5a731de2db57d16da10287413f5f99bc2dd                   m   \n",
       "3  0878a7d4b9d35ddbf0fe2ce69a2062cceb45a660                   m   \n",
       "4  19fef5a731de2db57d16da10287413f5f99bc2dd                   m   \n",
       "5  19fef5a731de2db57d16da10287413f5f99bc2dd                   m   \n",
       "\n",
       "  altitude_low_meters altitude_high_meters  altitude_mean_meters  \n",
       "1              1950.0               2200.0                2075.0  \n",
       "2              1950.0               2200.0                2075.0  \n",
       "3              1600.0               1800.0                1700.0  \n",
       "4              1800.0               2200.0                2000.0  \n",
       "5              1950.0               2200.0                2075.0  \n",
       "\n",
       "[5 rows x 43 columns]"
      ]
     },
     "execution_count": 10,
     "metadata": {},
     "output_type": "execute_result"
    }
   ],
   "source": [
    "df.head()"
   ]
  },
  {
   "cell_type": "markdown",
   "id": "8e853e1a",
   "metadata": {},
   "source": [
    "## I want to keep information only about owner / country / coffee descriptors and altitude of farm."
   ]
  },
  {
   "cell_type": "code",
   "execution_count": 11,
   "id": "12c24bc5",
   "metadata": {},
   "outputs": [],
   "source": [
    "df = df [['owner', 'country_of_origin','variety','processing_method', 'aroma', 'flavor', 'aftertaste', 'acidity', 'body', 'balance', 'uniformity', 'clean_cup', 'sweetness', 'cupper_points', 'total_cup_points', 'altitude_mean_meters' ]]"
   ]
  },
  {
   "cell_type": "code",
   "execution_count": 12,
   "id": "a720981d",
   "metadata": {
    "scrolled": true
   },
   "outputs": [
    {
     "data": {
      "text/html": [
       "<div>\n",
       "<style scoped>\n",
       "    .dataframe tbody tr th:only-of-type {\n",
       "        vertical-align: middle;\n",
       "    }\n",
       "\n",
       "    .dataframe tbody tr th {\n",
       "        vertical-align: top;\n",
       "    }\n",
       "\n",
       "    .dataframe thead th {\n",
       "        text-align: right;\n",
       "    }\n",
       "</style>\n",
       "<table border=\"1\" class=\"dataframe\">\n",
       "  <thead>\n",
       "    <tr style=\"text-align: right;\">\n",
       "      <th></th>\n",
       "      <th>owner</th>\n",
       "      <th>country_of_origin</th>\n",
       "      <th>variety</th>\n",
       "      <th>processing_method</th>\n",
       "      <th>aroma</th>\n",
       "      <th>flavor</th>\n",
       "      <th>aftertaste</th>\n",
       "      <th>acidity</th>\n",
       "      <th>body</th>\n",
       "      <th>balance</th>\n",
       "      <th>uniformity</th>\n",
       "      <th>clean_cup</th>\n",
       "      <th>sweetness</th>\n",
       "      <th>cupper_points</th>\n",
       "      <th>total_cup_points</th>\n",
       "      <th>altitude_mean_meters</th>\n",
       "    </tr>\n",
       "  </thead>\n",
       "  <tbody>\n",
       "    <tr>\n",
       "      <th>1</th>\n",
       "      <td>metad plc</td>\n",
       "      <td>Ethiopia</td>\n",
       "      <td>NaN</td>\n",
       "      <td>Washed / Wet</td>\n",
       "      <td>8.67</td>\n",
       "      <td>8.83</td>\n",
       "      <td>8.67</td>\n",
       "      <td>8.75</td>\n",
       "      <td>8.50</td>\n",
       "      <td>8.42</td>\n",
       "      <td>10.0</td>\n",
       "      <td>10.0</td>\n",
       "      <td>10.0</td>\n",
       "      <td>8.75</td>\n",
       "      <td>90.58</td>\n",
       "      <td>2075.0</td>\n",
       "    </tr>\n",
       "    <tr>\n",
       "      <th>2</th>\n",
       "      <td>metad plc</td>\n",
       "      <td>Ethiopia</td>\n",
       "      <td>Other</td>\n",
       "      <td>Washed / Wet</td>\n",
       "      <td>8.75</td>\n",
       "      <td>8.67</td>\n",
       "      <td>8.50</td>\n",
       "      <td>8.58</td>\n",
       "      <td>8.42</td>\n",
       "      <td>8.42</td>\n",
       "      <td>10.0</td>\n",
       "      <td>10.0</td>\n",
       "      <td>10.0</td>\n",
       "      <td>8.58</td>\n",
       "      <td>89.92</td>\n",
       "      <td>2075.0</td>\n",
       "    </tr>\n",
       "    <tr>\n",
       "      <th>3</th>\n",
       "      <td>grounds for health admin</td>\n",
       "      <td>Guatemala</td>\n",
       "      <td>Bourbon</td>\n",
       "      <td>NaN</td>\n",
       "      <td>8.42</td>\n",
       "      <td>8.50</td>\n",
       "      <td>8.42</td>\n",
       "      <td>8.42</td>\n",
       "      <td>8.33</td>\n",
       "      <td>8.42</td>\n",
       "      <td>10.0</td>\n",
       "      <td>10.0</td>\n",
       "      <td>10.0</td>\n",
       "      <td>9.25</td>\n",
       "      <td>89.75</td>\n",
       "      <td>1700.0</td>\n",
       "    </tr>\n",
       "    <tr>\n",
       "      <th>4</th>\n",
       "      <td>yidnekachew dabessa</td>\n",
       "      <td>Ethiopia</td>\n",
       "      <td>NaN</td>\n",
       "      <td>Natural / Dry</td>\n",
       "      <td>8.17</td>\n",
       "      <td>8.58</td>\n",
       "      <td>8.42</td>\n",
       "      <td>8.42</td>\n",
       "      <td>8.50</td>\n",
       "      <td>8.25</td>\n",
       "      <td>10.0</td>\n",
       "      <td>10.0</td>\n",
       "      <td>10.0</td>\n",
       "      <td>8.67</td>\n",
       "      <td>89.00</td>\n",
       "      <td>2000.0</td>\n",
       "    </tr>\n",
       "    <tr>\n",
       "      <th>5</th>\n",
       "      <td>metad plc</td>\n",
       "      <td>Ethiopia</td>\n",
       "      <td>Other</td>\n",
       "      <td>Washed / Wet</td>\n",
       "      <td>8.25</td>\n",
       "      <td>8.50</td>\n",
       "      <td>8.25</td>\n",
       "      <td>8.50</td>\n",
       "      <td>8.42</td>\n",
       "      <td>8.33</td>\n",
       "      <td>10.0</td>\n",
       "      <td>10.0</td>\n",
       "      <td>10.0</td>\n",
       "      <td>8.58</td>\n",
       "      <td>88.83</td>\n",
       "      <td>2075.0</td>\n",
       "    </tr>\n",
       "  </tbody>\n",
       "</table>\n",
       "</div>"
      ],
      "text/plain": [
       "                      owner country_of_origin  variety processing_method  \\\n",
       "1                 metad plc          Ethiopia      NaN      Washed / Wet   \n",
       "2                 metad plc          Ethiopia    Other      Washed / Wet   \n",
       "3  grounds for health admin         Guatemala  Bourbon               NaN   \n",
       "4       yidnekachew dabessa          Ethiopia      NaN     Natural / Dry   \n",
       "5                 metad plc          Ethiopia    Other      Washed / Wet   \n",
       "\n",
       "   aroma  flavor  aftertaste  acidity  body  balance  uniformity  clean_cup  \\\n",
       "1   8.67    8.83        8.67     8.75  8.50     8.42        10.0       10.0   \n",
       "2   8.75    8.67        8.50     8.58  8.42     8.42        10.0       10.0   \n",
       "3   8.42    8.50        8.42     8.42  8.33     8.42        10.0       10.0   \n",
       "4   8.17    8.58        8.42     8.42  8.50     8.25        10.0       10.0   \n",
       "5   8.25    8.50        8.25     8.50  8.42     8.33        10.0       10.0   \n",
       "\n",
       "   sweetness  cupper_points  total_cup_points  altitude_mean_meters  \n",
       "1       10.0           8.75             90.58                2075.0  \n",
       "2       10.0           8.58             89.92                2075.0  \n",
       "3       10.0           9.25             89.75                1700.0  \n",
       "4       10.0           8.67             89.00                2000.0  \n",
       "5       10.0           8.58             88.83                2075.0  "
      ]
     },
     "execution_count": 12,
     "metadata": {},
     "output_type": "execute_result"
    }
   ],
   "source": [
    "df.head()"
   ]
  },
  {
   "cell_type": "code",
   "execution_count": 13,
   "id": "b64a8402",
   "metadata": {
    "scrolled": true
   },
   "outputs": [
    {
     "data": {
      "text/plain": [
       "(1311, 16)"
      ]
     },
     "execution_count": 13,
     "metadata": {},
     "output_type": "execute_result"
    }
   ],
   "source": [
    "df.shape"
   ]
  },
  {
   "cell_type": "markdown",
   "id": "13ad94ee",
   "metadata": {},
   "source": [
    "## Let`s look once again at the report from Pandas Profiling."
   ]
  },
  {
   "cell_type": "code",
   "execution_count": null,
   "id": "5fead5c5",
   "metadata": {},
   "outputs": [],
   "source": [
    "report_2 = ProfileReport(df, title='Coffee Review Report 2')\n",
    "report_2.to_file(\"coffee review report_2.html\")"
   ]
  },
  {
   "cell_type": "markdown",
   "id": "220a8fe4",
   "metadata": {},
   "source": [
    "## Still we have some missing cells ( 588cells ) \n",
    "## No duplicated rows\n",
    "## 4 categorical and 12 numerical variable types\n",
    "## Some great correlation between aroma / flavor / acidity and other descriptors\n",
    "\n",
    "## Data cleaning part two"
   ]
  },
  {
   "cell_type": "code",
   "execution_count": 14,
   "id": "c98ab56f",
   "metadata": {},
   "outputs": [
    {
     "data": {
      "text/plain": [
       "7"
      ]
     },
     "execution_count": 14,
     "metadata": {},
     "output_type": "execute_result"
    }
   ],
   "source": [
    "df.owner.isna().sum()"
   ]
  },
  {
   "cell_type": "code",
   "execution_count": 15,
   "id": "a3b6c853",
   "metadata": {},
   "outputs": [
    {
     "data": {
      "text/html": [
       "<div>\n",
       "<style scoped>\n",
       "    .dataframe tbody tr th:only-of-type {\n",
       "        vertical-align: middle;\n",
       "    }\n",
       "\n",
       "    .dataframe tbody tr th {\n",
       "        vertical-align: top;\n",
       "    }\n",
       "\n",
       "    .dataframe thead th {\n",
       "        text-align: right;\n",
       "    }\n",
       "</style>\n",
       "<table border=\"1\" class=\"dataframe\">\n",
       "  <thead>\n",
       "    <tr style=\"text-align: right;\">\n",
       "      <th></th>\n",
       "      <th>owner</th>\n",
       "      <th>country_of_origin</th>\n",
       "      <th>variety</th>\n",
       "      <th>processing_method</th>\n",
       "      <th>aroma</th>\n",
       "      <th>flavor</th>\n",
       "      <th>aftertaste</th>\n",
       "      <th>acidity</th>\n",
       "      <th>body</th>\n",
       "      <th>balance</th>\n",
       "      <th>uniformity</th>\n",
       "      <th>clean_cup</th>\n",
       "      <th>sweetness</th>\n",
       "      <th>cupper_points</th>\n",
       "      <th>total_cup_points</th>\n",
       "      <th>altitude_mean_meters</th>\n",
       "    </tr>\n",
       "  </thead>\n",
       "  <tbody>\n",
       "    <tr>\n",
       "      <th>1</th>\n",
       "      <td>metad plc</td>\n",
       "      <td>Ethiopia</td>\n",
       "      <td>NaN</td>\n",
       "      <td>Washed / Wet</td>\n",
       "      <td>8.67</td>\n",
       "      <td>8.83</td>\n",
       "      <td>8.67</td>\n",
       "      <td>8.75</td>\n",
       "      <td>8.50</td>\n",
       "      <td>8.42</td>\n",
       "      <td>10.0</td>\n",
       "      <td>10.0</td>\n",
       "      <td>10.0</td>\n",
       "      <td>8.75</td>\n",
       "      <td>90.58</td>\n",
       "      <td>2075.0</td>\n",
       "    </tr>\n",
       "    <tr>\n",
       "      <th>2</th>\n",
       "      <td>metad plc</td>\n",
       "      <td>Ethiopia</td>\n",
       "      <td>Other</td>\n",
       "      <td>Washed / Wet</td>\n",
       "      <td>8.75</td>\n",
       "      <td>8.67</td>\n",
       "      <td>8.50</td>\n",
       "      <td>8.58</td>\n",
       "      <td>8.42</td>\n",
       "      <td>8.42</td>\n",
       "      <td>10.0</td>\n",
       "      <td>10.0</td>\n",
       "      <td>10.0</td>\n",
       "      <td>8.58</td>\n",
       "      <td>89.92</td>\n",
       "      <td>2075.0</td>\n",
       "    </tr>\n",
       "    <tr>\n",
       "      <th>3</th>\n",
       "      <td>grounds for health admin</td>\n",
       "      <td>Guatemala</td>\n",
       "      <td>Bourbon</td>\n",
       "      <td>NaN</td>\n",
       "      <td>8.42</td>\n",
       "      <td>8.50</td>\n",
       "      <td>8.42</td>\n",
       "      <td>8.42</td>\n",
       "      <td>8.33</td>\n",
       "      <td>8.42</td>\n",
       "      <td>10.0</td>\n",
       "      <td>10.0</td>\n",
       "      <td>10.0</td>\n",
       "      <td>9.25</td>\n",
       "      <td>89.75</td>\n",
       "      <td>1700.0</td>\n",
       "    </tr>\n",
       "    <tr>\n",
       "      <th>4</th>\n",
       "      <td>yidnekachew dabessa</td>\n",
       "      <td>Ethiopia</td>\n",
       "      <td>NaN</td>\n",
       "      <td>Natural / Dry</td>\n",
       "      <td>8.17</td>\n",
       "      <td>8.58</td>\n",
       "      <td>8.42</td>\n",
       "      <td>8.42</td>\n",
       "      <td>8.50</td>\n",
       "      <td>8.25</td>\n",
       "      <td>10.0</td>\n",
       "      <td>10.0</td>\n",
       "      <td>10.0</td>\n",
       "      <td>8.67</td>\n",
       "      <td>89.00</td>\n",
       "      <td>2000.0</td>\n",
       "    </tr>\n",
       "    <tr>\n",
       "      <th>5</th>\n",
       "      <td>metad plc</td>\n",
       "      <td>Ethiopia</td>\n",
       "      <td>Other</td>\n",
       "      <td>Washed / Wet</td>\n",
       "      <td>8.25</td>\n",
       "      <td>8.50</td>\n",
       "      <td>8.25</td>\n",
       "      <td>8.50</td>\n",
       "      <td>8.42</td>\n",
       "      <td>8.33</td>\n",
       "      <td>10.0</td>\n",
       "      <td>10.0</td>\n",
       "      <td>10.0</td>\n",
       "      <td>8.58</td>\n",
       "      <td>88.83</td>\n",
       "      <td>2075.0</td>\n",
       "    </tr>\n",
       "  </tbody>\n",
       "</table>\n",
       "</div>"
      ],
      "text/plain": [
       "                      owner country_of_origin  variety processing_method  \\\n",
       "1                 metad plc          Ethiopia      NaN      Washed / Wet   \n",
       "2                 metad plc          Ethiopia    Other      Washed / Wet   \n",
       "3  grounds for health admin         Guatemala  Bourbon               NaN   \n",
       "4       yidnekachew dabessa          Ethiopia      NaN     Natural / Dry   \n",
       "5                 metad plc          Ethiopia    Other      Washed / Wet   \n",
       "\n",
       "   aroma  flavor  aftertaste  acidity  body  balance  uniformity  clean_cup  \\\n",
       "1   8.67    8.83        8.67     8.75  8.50     8.42        10.0       10.0   \n",
       "2   8.75    8.67        8.50     8.58  8.42     8.42        10.0       10.0   \n",
       "3   8.42    8.50        8.42     8.42  8.33     8.42        10.0       10.0   \n",
       "4   8.17    8.58        8.42     8.42  8.50     8.25        10.0       10.0   \n",
       "5   8.25    8.50        8.25     8.50  8.42     8.33        10.0       10.0   \n",
       "\n",
       "   sweetness  cupper_points  total_cup_points  altitude_mean_meters  \n",
       "1       10.0           8.75             90.58                2075.0  \n",
       "2       10.0           8.58             89.92                2075.0  \n",
       "3       10.0           9.25             89.75                1700.0  \n",
       "4       10.0           8.67             89.00                2000.0  \n",
       "5       10.0           8.58             88.83                2075.0  "
      ]
     },
     "execution_count": 15,
     "metadata": {},
     "output_type": "execute_result"
    }
   ],
   "source": [
    "df.owner = df.owner.fillna('unknown')\n",
    "df.head()"
   ]
  },
  {
   "cell_type": "code",
   "execution_count": 16,
   "id": "bcaccab1",
   "metadata": {},
   "outputs": [
    {
     "data": {
      "text/plain": [
       "1"
      ]
     },
     "execution_count": 16,
     "metadata": {},
     "output_type": "execute_result"
    }
   ],
   "source": [
    "df.country_of_origin.isna().sum()"
   ]
  },
  {
   "cell_type": "code",
   "execution_count": 17,
   "id": "8893646c",
   "metadata": {},
   "outputs": [
    {
     "data": {
      "text/html": [
       "<div>\n",
       "<style scoped>\n",
       "    .dataframe tbody tr th:only-of-type {\n",
       "        vertical-align: middle;\n",
       "    }\n",
       "\n",
       "    .dataframe tbody tr th {\n",
       "        vertical-align: top;\n",
       "    }\n",
       "\n",
       "    .dataframe thead th {\n",
       "        text-align: right;\n",
       "    }\n",
       "</style>\n",
       "<table border=\"1\" class=\"dataframe\">\n",
       "  <thead>\n",
       "    <tr style=\"text-align: right;\">\n",
       "      <th></th>\n",
       "      <th>owner</th>\n",
       "      <th>country_of_origin</th>\n",
       "      <th>variety</th>\n",
       "      <th>processing_method</th>\n",
       "      <th>aroma</th>\n",
       "      <th>flavor</th>\n",
       "      <th>aftertaste</th>\n",
       "      <th>acidity</th>\n",
       "      <th>body</th>\n",
       "      <th>balance</th>\n",
       "      <th>uniformity</th>\n",
       "      <th>clean_cup</th>\n",
       "      <th>sweetness</th>\n",
       "      <th>cupper_points</th>\n",
       "      <th>total_cup_points</th>\n",
       "      <th>altitude_mean_meters</th>\n",
       "    </tr>\n",
       "  </thead>\n",
       "  <tbody>\n",
       "    <tr>\n",
       "      <th>1198</th>\n",
       "      <td>racafe &amp; cia s.c.a</td>\n",
       "      <td>NaN</td>\n",
       "      <td>NaN</td>\n",
       "      <td>NaN</td>\n",
       "      <td>6.75</td>\n",
       "      <td>6.75</td>\n",
       "      <td>6.42</td>\n",
       "      <td>6.83</td>\n",
       "      <td>7.58</td>\n",
       "      <td>7.5</td>\n",
       "      <td>10.0</td>\n",
       "      <td>10.0</td>\n",
       "      <td>10.0</td>\n",
       "      <td>7.25</td>\n",
       "      <td>79.08</td>\n",
       "      <td>NaN</td>\n",
       "    </tr>\n",
       "  </tbody>\n",
       "</table>\n",
       "</div>"
      ],
      "text/plain": [
       "                   owner country_of_origin variety processing_method  aroma  \\\n",
       "1198  racafe & cia s.c.a               NaN     NaN               NaN   6.75   \n",
       "\n",
       "      flavor  aftertaste  acidity  body  balance  uniformity  clean_cup  \\\n",
       "1198    6.75        6.42     6.83  7.58      7.5        10.0       10.0   \n",
       "\n",
       "      sweetness  cupper_points  total_cup_points  altitude_mean_meters  \n",
       "1198       10.0           7.25             79.08                   NaN  "
      ]
     },
     "execution_count": 17,
     "metadata": {},
     "output_type": "execute_result"
    }
   ],
   "source": [
    "df[df.country_of_origin.isna()] # we are missing important things about that coffee - let`s drop it"
   ]
  },
  {
   "cell_type": "code",
   "execution_count": 18,
   "id": "61076f26",
   "metadata": {},
   "outputs": [],
   "source": [
    "df = df.drop(index=1198) ## drop that row "
   ]
  },
  {
   "cell_type": "code",
   "execution_count": 19,
   "id": "a97cd4ca",
   "metadata": {},
   "outputs": [
    {
     "data": {
      "text/plain": [
       "200"
      ]
     },
     "execution_count": 19,
     "metadata": {},
     "output_type": "execute_result"
    }
   ],
   "source": [
    "df.variety.isna().sum()"
   ]
  },
  {
   "cell_type": "code",
   "execution_count": 20,
   "id": "568e3653",
   "metadata": {},
   "outputs": [],
   "source": [
    "df.variety = df.variety.fillna('unknown') "
   ]
  },
  {
   "cell_type": "code",
   "execution_count": 21,
   "id": "53d0a5c0",
   "metadata": {},
   "outputs": [
    {
     "data": {
      "text/plain": [
       "151"
      ]
     },
     "execution_count": 21,
     "metadata": {},
     "output_type": "execute_result"
    }
   ],
   "source": [
    "df.processing_method.isna().sum()"
   ]
  },
  {
   "cell_type": "code",
   "execution_count": 22,
   "id": "9432d00e",
   "metadata": {},
   "outputs": [
    {
     "data": {
      "text/html": [
       "<div>\n",
       "<style scoped>\n",
       "    .dataframe tbody tr th:only-of-type {\n",
       "        vertical-align: middle;\n",
       "    }\n",
       "\n",
       "    .dataframe tbody tr th {\n",
       "        vertical-align: top;\n",
       "    }\n",
       "\n",
       "    .dataframe thead th {\n",
       "        text-align: right;\n",
       "    }\n",
       "</style>\n",
       "<table border=\"1\" class=\"dataframe\">\n",
       "  <thead>\n",
       "    <tr style=\"text-align: right;\">\n",
       "      <th></th>\n",
       "      <th>owner</th>\n",
       "      <th>country_of_origin</th>\n",
       "      <th>variety</th>\n",
       "      <th>processing_method</th>\n",
       "      <th>aroma</th>\n",
       "      <th>flavor</th>\n",
       "      <th>aftertaste</th>\n",
       "      <th>acidity</th>\n",
       "      <th>body</th>\n",
       "      <th>balance</th>\n",
       "      <th>uniformity</th>\n",
       "      <th>clean_cup</th>\n",
       "      <th>sweetness</th>\n",
       "      <th>cupper_points</th>\n",
       "      <th>total_cup_points</th>\n",
       "      <th>altitude_mean_meters</th>\n",
       "    </tr>\n",
       "  </thead>\n",
       "  <tbody>\n",
       "    <tr>\n",
       "      <th>1</th>\n",
       "      <td>metad plc</td>\n",
       "      <td>Ethiopia</td>\n",
       "      <td>unknown</td>\n",
       "      <td>Washed / Wet</td>\n",
       "      <td>8.67</td>\n",
       "      <td>8.83</td>\n",
       "      <td>8.67</td>\n",
       "      <td>8.75</td>\n",
       "      <td>8.50</td>\n",
       "      <td>8.42</td>\n",
       "      <td>10.0</td>\n",
       "      <td>10.0</td>\n",
       "      <td>10.0</td>\n",
       "      <td>8.75</td>\n",
       "      <td>90.58</td>\n",
       "      <td>2075.0</td>\n",
       "    </tr>\n",
       "    <tr>\n",
       "      <th>2</th>\n",
       "      <td>metad plc</td>\n",
       "      <td>Ethiopia</td>\n",
       "      <td>Other</td>\n",
       "      <td>Washed / Wet</td>\n",
       "      <td>8.75</td>\n",
       "      <td>8.67</td>\n",
       "      <td>8.50</td>\n",
       "      <td>8.58</td>\n",
       "      <td>8.42</td>\n",
       "      <td>8.42</td>\n",
       "      <td>10.0</td>\n",
       "      <td>10.0</td>\n",
       "      <td>10.0</td>\n",
       "      <td>8.58</td>\n",
       "      <td>89.92</td>\n",
       "      <td>2075.0</td>\n",
       "    </tr>\n",
       "    <tr>\n",
       "      <th>3</th>\n",
       "      <td>grounds for health admin</td>\n",
       "      <td>Guatemala</td>\n",
       "      <td>Bourbon</td>\n",
       "      <td>unknown</td>\n",
       "      <td>8.42</td>\n",
       "      <td>8.50</td>\n",
       "      <td>8.42</td>\n",
       "      <td>8.42</td>\n",
       "      <td>8.33</td>\n",
       "      <td>8.42</td>\n",
       "      <td>10.0</td>\n",
       "      <td>10.0</td>\n",
       "      <td>10.0</td>\n",
       "      <td>9.25</td>\n",
       "      <td>89.75</td>\n",
       "      <td>1700.0</td>\n",
       "    </tr>\n",
       "    <tr>\n",
       "      <th>4</th>\n",
       "      <td>yidnekachew dabessa</td>\n",
       "      <td>Ethiopia</td>\n",
       "      <td>unknown</td>\n",
       "      <td>Natural / Dry</td>\n",
       "      <td>8.17</td>\n",
       "      <td>8.58</td>\n",
       "      <td>8.42</td>\n",
       "      <td>8.42</td>\n",
       "      <td>8.50</td>\n",
       "      <td>8.25</td>\n",
       "      <td>10.0</td>\n",
       "      <td>10.0</td>\n",
       "      <td>10.0</td>\n",
       "      <td>8.67</td>\n",
       "      <td>89.00</td>\n",
       "      <td>2000.0</td>\n",
       "    </tr>\n",
       "    <tr>\n",
       "      <th>5</th>\n",
       "      <td>metad plc</td>\n",
       "      <td>Ethiopia</td>\n",
       "      <td>Other</td>\n",
       "      <td>Washed / Wet</td>\n",
       "      <td>8.25</td>\n",
       "      <td>8.50</td>\n",
       "      <td>8.25</td>\n",
       "      <td>8.50</td>\n",
       "      <td>8.42</td>\n",
       "      <td>8.33</td>\n",
       "      <td>10.0</td>\n",
       "      <td>10.0</td>\n",
       "      <td>10.0</td>\n",
       "      <td>8.58</td>\n",
       "      <td>88.83</td>\n",
       "      <td>2075.0</td>\n",
       "    </tr>\n",
       "  </tbody>\n",
       "</table>\n",
       "</div>"
      ],
      "text/plain": [
       "                      owner country_of_origin  variety processing_method  \\\n",
       "1                 metad plc          Ethiopia  unknown      Washed / Wet   \n",
       "2                 metad plc          Ethiopia    Other      Washed / Wet   \n",
       "3  grounds for health admin         Guatemala  Bourbon           unknown   \n",
       "4       yidnekachew dabessa          Ethiopia  unknown     Natural / Dry   \n",
       "5                 metad plc          Ethiopia    Other      Washed / Wet   \n",
       "\n",
       "   aroma  flavor  aftertaste  acidity  body  balance  uniformity  clean_cup  \\\n",
       "1   8.67    8.83        8.67     8.75  8.50     8.42        10.0       10.0   \n",
       "2   8.75    8.67        8.50     8.58  8.42     8.42        10.0       10.0   \n",
       "3   8.42    8.50        8.42     8.42  8.33     8.42        10.0       10.0   \n",
       "4   8.17    8.58        8.42     8.42  8.50     8.25        10.0       10.0   \n",
       "5   8.25    8.50        8.25     8.50  8.42     8.33        10.0       10.0   \n",
       "\n",
       "   sweetness  cupper_points  total_cup_points  altitude_mean_meters  \n",
       "1       10.0           8.75             90.58                2075.0  \n",
       "2       10.0           8.58             89.92                2075.0  \n",
       "3       10.0           9.25             89.75                1700.0  \n",
       "4       10.0           8.67             89.00                2000.0  \n",
       "5       10.0           8.58             88.83                2075.0  "
      ]
     },
     "execution_count": 22,
     "metadata": {},
     "output_type": "execute_result"
    }
   ],
   "source": [
    "df.processing_method = df.processing_method.fillna('unknown')\n",
    "df.head()"
   ]
  },
  {
   "cell_type": "markdown",
   "id": "44fd34c8",
   "metadata": {},
   "source": [
    "## Let`s find out something about total cup points - It should be a total sum of all the descriptors."
   ]
  },
  {
   "cell_type": "code",
   "execution_count": 23,
   "id": "4ef094ef",
   "metadata": {},
   "outputs": [
    {
     "data": {
      "text/html": [
       "<div>\n",
       "<style scoped>\n",
       "    .dataframe tbody tr th:only-of-type {\n",
       "        vertical-align: middle;\n",
       "    }\n",
       "\n",
       "    .dataframe tbody tr th {\n",
       "        vertical-align: top;\n",
       "    }\n",
       "\n",
       "    .dataframe thead th {\n",
       "        text-align: right;\n",
       "    }\n",
       "</style>\n",
       "<table border=\"1\" class=\"dataframe\">\n",
       "  <thead>\n",
       "    <tr style=\"text-align: right;\">\n",
       "      <th></th>\n",
       "      <th>owner</th>\n",
       "      <th>country_of_origin</th>\n",
       "      <th>variety</th>\n",
       "      <th>processing_method</th>\n",
       "      <th>aroma</th>\n",
       "      <th>flavor</th>\n",
       "      <th>aftertaste</th>\n",
       "      <th>acidity</th>\n",
       "      <th>body</th>\n",
       "      <th>balance</th>\n",
       "      <th>uniformity</th>\n",
       "      <th>clean_cup</th>\n",
       "      <th>sweetness</th>\n",
       "      <th>cupper_points</th>\n",
       "      <th>total_cup_points</th>\n",
       "      <th>altitude_mean_meters</th>\n",
       "    </tr>\n",
       "  </thead>\n",
       "  <tbody>\n",
       "    <tr>\n",
       "      <th>2</th>\n",
       "      <td>metad plc</td>\n",
       "      <td>Ethiopia</td>\n",
       "      <td>Other</td>\n",
       "      <td>Washed / Wet</td>\n",
       "      <td>8.75</td>\n",
       "      <td>8.67</td>\n",
       "      <td>8.50</td>\n",
       "      <td>8.58</td>\n",
       "      <td>8.42</td>\n",
       "      <td>8.42</td>\n",
       "      <td>10.00</td>\n",
       "      <td>10.0</td>\n",
       "      <td>10.00</td>\n",
       "      <td>8.58</td>\n",
       "      <td>89.92</td>\n",
       "      <td>2075.0</td>\n",
       "    </tr>\n",
       "    <tr>\n",
       "      <th>5</th>\n",
       "      <td>metad plc</td>\n",
       "      <td>Ethiopia</td>\n",
       "      <td>Other</td>\n",
       "      <td>Washed / Wet</td>\n",
       "      <td>8.25</td>\n",
       "      <td>8.50</td>\n",
       "      <td>8.25</td>\n",
       "      <td>8.50</td>\n",
       "      <td>8.42</td>\n",
       "      <td>8.33</td>\n",
       "      <td>10.00</td>\n",
       "      <td>10.0</td>\n",
       "      <td>10.00</td>\n",
       "      <td>8.58</td>\n",
       "      <td>88.83</td>\n",
       "      <td>2075.0</td>\n",
       "    </tr>\n",
       "    <tr>\n",
       "      <th>6</th>\n",
       "      <td>ji-ae ahn</td>\n",
       "      <td>Brazil</td>\n",
       "      <td>unknown</td>\n",
       "      <td>Natural / Dry</td>\n",
       "      <td>8.58</td>\n",
       "      <td>8.42</td>\n",
       "      <td>8.42</td>\n",
       "      <td>8.50</td>\n",
       "      <td>8.25</td>\n",
       "      <td>8.33</td>\n",
       "      <td>10.00</td>\n",
       "      <td>10.0</td>\n",
       "      <td>10.00</td>\n",
       "      <td>8.33</td>\n",
       "      <td>88.83</td>\n",
       "      <td>NaN</td>\n",
       "    </tr>\n",
       "    <tr>\n",
       "      <th>7</th>\n",
       "      <td>hugo valdivia</td>\n",
       "      <td>Peru</td>\n",
       "      <td>Other</td>\n",
       "      <td>Washed / Wet</td>\n",
       "      <td>8.42</td>\n",
       "      <td>8.50</td>\n",
       "      <td>8.33</td>\n",
       "      <td>8.50</td>\n",
       "      <td>8.25</td>\n",
       "      <td>8.25</td>\n",
       "      <td>10.00</td>\n",
       "      <td>10.0</td>\n",
       "      <td>10.00</td>\n",
       "      <td>8.50</td>\n",
       "      <td>88.75</td>\n",
       "      <td>NaN</td>\n",
       "    </tr>\n",
       "    <tr>\n",
       "      <th>9</th>\n",
       "      <td>ethiopia commodity exchange</td>\n",
       "      <td>Ethiopia</td>\n",
       "      <td>unknown</td>\n",
       "      <td>unknown</td>\n",
       "      <td>8.67</td>\n",
       "      <td>8.67</td>\n",
       "      <td>8.58</td>\n",
       "      <td>8.42</td>\n",
       "      <td>8.33</td>\n",
       "      <td>8.42</td>\n",
       "      <td>9.33</td>\n",
       "      <td>10.0</td>\n",
       "      <td>9.33</td>\n",
       "      <td>8.67</td>\n",
       "      <td>88.42</td>\n",
       "      <td>1635.0</td>\n",
       "    </tr>\n",
       "    <tr>\n",
       "      <th>...</th>\n",
       "      <td>...</td>\n",
       "      <td>...</td>\n",
       "      <td>...</td>\n",
       "      <td>...</td>\n",
       "      <td>...</td>\n",
       "      <td>...</td>\n",
       "      <td>...</td>\n",
       "      <td>...</td>\n",
       "      <td>...</td>\n",
       "      <td>...</td>\n",
       "      <td>...</td>\n",
       "      <td>...</td>\n",
       "      <td>...</td>\n",
       "      <td>...</td>\n",
       "      <td>...</td>\n",
       "      <td>...</td>\n",
       "    </tr>\n",
       "    <tr>\n",
       "      <th>1306</th>\n",
       "      <td>cadexsa</td>\n",
       "      <td>Honduras</td>\n",
       "      <td>Catuai</td>\n",
       "      <td>Washed / Wet</td>\n",
       "      <td>7.00</td>\n",
       "      <td>6.33</td>\n",
       "      <td>6.17</td>\n",
       "      <td>6.50</td>\n",
       "      <td>6.67</td>\n",
       "      <td>6.17</td>\n",
       "      <td>8.00</td>\n",
       "      <td>8.0</td>\n",
       "      <td>8.00</td>\n",
       "      <td>6.33</td>\n",
       "      <td>69.17</td>\n",
       "      <td>1450.0</td>\n",
       "    </tr>\n",
       "    <tr>\n",
       "      <th>1307</th>\n",
       "      <td>juan carlos garcia lopez</td>\n",
       "      <td>Mexico</td>\n",
       "      <td>Bourbon</td>\n",
       "      <td>Washed / Wet</td>\n",
       "      <td>7.08</td>\n",
       "      <td>6.83</td>\n",
       "      <td>6.25</td>\n",
       "      <td>7.42</td>\n",
       "      <td>7.25</td>\n",
       "      <td>6.75</td>\n",
       "      <td>10.00</td>\n",
       "      <td>0.0</td>\n",
       "      <td>10.00</td>\n",
       "      <td>6.75</td>\n",
       "      <td>68.33</td>\n",
       "      <td>900.0</td>\n",
       "    </tr>\n",
       "    <tr>\n",
       "      <th>1308</th>\n",
       "      <td>myriam kaplan-pasternak</td>\n",
       "      <td>Haiti</td>\n",
       "      <td>Typica</td>\n",
       "      <td>Natural / Dry</td>\n",
       "      <td>6.75</td>\n",
       "      <td>6.58</td>\n",
       "      <td>6.42</td>\n",
       "      <td>6.67</td>\n",
       "      <td>7.08</td>\n",
       "      <td>6.67</td>\n",
       "      <td>9.33</td>\n",
       "      <td>6.0</td>\n",
       "      <td>6.00</td>\n",
       "      <td>6.42</td>\n",
       "      <td>67.92</td>\n",
       "      <td>350.0</td>\n",
       "    </tr>\n",
       "    <tr>\n",
       "      <th>1309</th>\n",
       "      <td>exportadora atlantic, s.a.</td>\n",
       "      <td>Nicaragua</td>\n",
       "      <td>Caturra</td>\n",
       "      <td>Other</td>\n",
       "      <td>7.25</td>\n",
       "      <td>6.58</td>\n",
       "      <td>6.33</td>\n",
       "      <td>6.25</td>\n",
       "      <td>6.42</td>\n",
       "      <td>6.08</td>\n",
       "      <td>6.00</td>\n",
       "      <td>6.0</td>\n",
       "      <td>6.00</td>\n",
       "      <td>6.17</td>\n",
       "      <td>63.08</td>\n",
       "      <td>1100.0</td>\n",
       "    </tr>\n",
       "    <tr>\n",
       "      <th>1312</th>\n",
       "      <td>bismarck castro</td>\n",
       "      <td>Honduras</td>\n",
       "      <td>Caturra</td>\n",
       "      <td>unknown</td>\n",
       "      <td>0.00</td>\n",
       "      <td>0.00</td>\n",
       "      <td>0.00</td>\n",
       "      <td>0.00</td>\n",
       "      <td>0.00</td>\n",
       "      <td>0.00</td>\n",
       "      <td>0.00</td>\n",
       "      <td>0.0</td>\n",
       "      <td>0.00</td>\n",
       "      <td>0.00</td>\n",
       "      <td>0.00</td>\n",
       "      <td>1400.0</td>\n",
       "    </tr>\n",
       "  </tbody>\n",
       "</table>\n",
       "<p>635 rows × 16 columns</p>\n",
       "</div>"
      ],
      "text/plain": [
       "                            owner country_of_origin  variety  \\\n",
       "2                       metad plc          Ethiopia    Other   \n",
       "5                       metad plc          Ethiopia    Other   \n",
       "6                       ji-ae ahn            Brazil  unknown   \n",
       "7                   hugo valdivia              Peru    Other   \n",
       "9     ethiopia commodity exchange          Ethiopia  unknown   \n",
       "...                           ...               ...      ...   \n",
       "1306                      cadexsa          Honduras   Catuai   \n",
       "1307     juan carlos garcia lopez            Mexico  Bourbon   \n",
       "1308      myriam kaplan-pasternak             Haiti   Typica   \n",
       "1309   exportadora atlantic, s.a.         Nicaragua  Caturra   \n",
       "1312              bismarck castro          Honduras  Caturra   \n",
       "\n",
       "     processing_method  aroma  flavor  aftertaste  acidity  body  balance  \\\n",
       "2         Washed / Wet   8.75    8.67        8.50     8.58  8.42     8.42   \n",
       "5         Washed / Wet   8.25    8.50        8.25     8.50  8.42     8.33   \n",
       "6        Natural / Dry   8.58    8.42        8.42     8.50  8.25     8.33   \n",
       "7         Washed / Wet   8.42    8.50        8.33     8.50  8.25     8.25   \n",
       "9              unknown   8.67    8.67        8.58     8.42  8.33     8.42   \n",
       "...                ...    ...     ...         ...      ...   ...      ...   \n",
       "1306      Washed / Wet   7.00    6.33        6.17     6.50  6.67     6.17   \n",
       "1307      Washed / Wet   7.08    6.83        6.25     7.42  7.25     6.75   \n",
       "1308     Natural / Dry   6.75    6.58        6.42     6.67  7.08     6.67   \n",
       "1309             Other   7.25    6.58        6.33     6.25  6.42     6.08   \n",
       "1312           unknown   0.00    0.00        0.00     0.00  0.00     0.00   \n",
       "\n",
       "      uniformity  clean_cup  sweetness  cupper_points  total_cup_points  \\\n",
       "2          10.00       10.0      10.00           8.58             89.92   \n",
       "5          10.00       10.0      10.00           8.58             88.83   \n",
       "6          10.00       10.0      10.00           8.33             88.83   \n",
       "7          10.00       10.0      10.00           8.50             88.75   \n",
       "9           9.33       10.0       9.33           8.67             88.42   \n",
       "...          ...        ...        ...            ...               ...   \n",
       "1306        8.00        8.0       8.00           6.33             69.17   \n",
       "1307       10.00        0.0      10.00           6.75             68.33   \n",
       "1308        9.33        6.0       6.00           6.42             67.92   \n",
       "1309        6.00        6.0       6.00           6.17             63.08   \n",
       "1312        0.00        0.0       0.00           0.00              0.00   \n",
       "\n",
       "      altitude_mean_meters  \n",
       "2                   2075.0  \n",
       "5                   2075.0  \n",
       "6                      NaN  \n",
       "7                      NaN  \n",
       "9                   1635.0  \n",
       "...                    ...  \n",
       "1306                1450.0  \n",
       "1307                 900.0  \n",
       "1308                 350.0  \n",
       "1309                1100.0  \n",
       "1312                1400.0  \n",
       "\n",
       "[635 rows x 16 columns]"
      ]
     },
     "execution_count": 23,
     "metadata": {},
     "output_type": "execute_result"
    }
   ],
   "source": [
    "df[df.total_cup_points == df.aroma + df.flavor + df.aftertaste + df.acidity + df.body + df.balance + df.uniformity + df.clean_cup + df.sweetness + df.cupper_points]"
   ]
  },
  {
   "cell_type": "markdown",
   "id": "7b0a980f",
   "metadata": {},
   "source": [
    "## There is something wrong with those points - only 635 rows are properly saved. I would leave it as it as for now."
   ]
  },
  {
   "cell_type": "code",
   "execution_count": 24,
   "id": "20f0911f",
   "metadata": {},
   "outputs": [
    {
     "data": {
      "text/plain": [
       "Mexico                          236\n",
       "Colombia                        183\n",
       "Guatemala                       181\n",
       "Brazil                          132\n",
       "Taiwan                           75\n",
       "United States (Hawaii)           73\n",
       "Honduras                         53\n",
       "Costa Rica                       51\n",
       "Ethiopia                         44\n",
       "Tanzania, United Republic Of     40\n",
       "Thailand                         32\n",
       "Uganda                           26\n",
       "Nicaragua                        26\n",
       "Kenya                            25\n",
       "El Salvador                      21\n",
       "Indonesia                        20\n",
       "China                            16\n",
       "Malawi                           11\n",
       "Peru                             10\n",
       "United States                     8\n",
       "Myanmar                           8\n",
       "Vietnam                           7\n",
       "Haiti                             6\n",
       "Philippines                       5\n",
       "Panama                            4\n",
       "United States (Puerto Rico)       4\n",
       "Laos                              3\n",
       "Burundi                           2\n",
       "Ecuador                           1\n",
       "Rwanda                            1\n",
       "Japan                             1\n",
       "Zambia                            1\n",
       "Papua New Guinea                  1\n",
       "Mauritius                         1\n",
       "Cote d?Ivoire                     1\n",
       "India                             1\n",
       "Name: country_of_origin, dtype: int64"
      ]
     },
     "execution_count": 24,
     "metadata": {},
     "output_type": "execute_result"
    }
   ],
   "source": [
    "df.country_of_origin.value_counts() # "
   ]
  },
  {
   "cell_type": "code",
   "execution_count": 25,
   "id": "dd496106",
   "metadata": {},
   "outputs": [],
   "source": [
    "df.loc[(df.country_of_origin == 'United States (Hawaii)'),'country_of_origin' ] = 'Hawaii'"
   ]
  },
  {
   "cell_type": "code",
   "execution_count": 26,
   "id": "b6c1a8c1",
   "metadata": {},
   "outputs": [],
   "source": [
    "df.loc[(df.country_of_origin == 'Tanzania, United Republic Of'),'country_of_origin' ] = 'Tanzania'"
   ]
  },
  {
   "cell_type": "code",
   "execution_count": 27,
   "id": "17968b05",
   "metadata": {},
   "outputs": [],
   "source": [
    "df.loc[(df.country_of_origin == 'United States (Puerto Rico)'),'country_of_origin' ] = 'Puerto Rico'"
   ]
  },
  {
   "cell_type": "code",
   "execution_count": 28,
   "id": "0764793b",
   "metadata": {},
   "outputs": [
    {
     "data": {
      "text/plain": [
       "Mexico              236\n",
       "Colombia            183\n",
       "Guatemala           181\n",
       "Brazil              132\n",
       "Taiwan               75\n",
       "Hawaii               73\n",
       "Honduras             53\n",
       "Costa Rica           51\n",
       "Ethiopia             44\n",
       "Tanzania             40\n",
       "Thailand             32\n",
       "Uganda               26\n",
       "Nicaragua            26\n",
       "Kenya                25\n",
       "El Salvador          21\n",
       "Indonesia            20\n",
       "China                16\n",
       "Malawi               11\n",
       "Peru                 10\n",
       "United States         8\n",
       "Myanmar               8\n",
       "Vietnam               7\n",
       "Haiti                 6\n",
       "Philippines           5\n",
       "Panama                4\n",
       "Puerto Rico           4\n",
       "Laos                  3\n",
       "Burundi               2\n",
       "Ecuador               1\n",
       "Rwanda                1\n",
       "Japan                 1\n",
       "Zambia                1\n",
       "Papua New Guinea      1\n",
       "Mauritius             1\n",
       "Cote d?Ivoire         1\n",
       "India                 1\n",
       "Name: country_of_origin, dtype: int64"
      ]
     },
     "execution_count": 28,
     "metadata": {},
     "output_type": "execute_result"
    }
   ],
   "source": [
    "df.country_of_origin.value_counts()"
   ]
  },
  {
   "cell_type": "markdown",
   "id": "d2e608bb",
   "metadata": {},
   "source": [
    "## Altitude_mean_meters is giving us information about how high above the sea level is the farm. Usually farms are located in the mountians but not as high as 10 000 meters above the sea level. Let`s clean that data."
   ]
  },
  {
   "cell_type": "code",
   "execution_count": 29,
   "id": "d1f80138",
   "metadata": {},
   "outputs": [
    {
     "data": {
      "text/plain": [
       "count      1084.000000\n",
       "mean       1784.196379\n",
       "std        8767.016913\n",
       "min           1.000000\n",
       "25%        1100.000000\n",
       "50%        1310.640000\n",
       "75%        1600.000000\n",
       "max      190164.000000\n",
       "Name: altitude_mean_meters, dtype: float64"
      ]
     },
     "execution_count": 29,
     "metadata": {},
     "output_type": "execute_result"
    }
   ],
   "source": [
    "df.altitude_mean_meters.describe()"
   ]
  },
  {
   "cell_type": "markdown",
   "id": "4b20d278",
   "metadata": {},
   "source": [
    "## Min (1) and max (190164.000000) value of altitude is somehow wrong ... Lets replace all 'funny values' with the median value for country of origin. Altitude is not the most important value in our dataset but I need to fix those values as well. Let 's look at outliers in altitude_mean_meters column. It looks like almost every country has got some wrong numbers at altitude_mean_meters column. I will try to fix it"
   ]
  },
  {
   "cell_type": "code",
   "execution_count": 30,
   "id": "c660b9d2",
   "metadata": {},
   "outputs": [
    {
     "data": {
      "image/png": "[encoded data removed]",
      "text/plain": [
       "<Figure size 640x480 with 1 Axes>"
      ]
     },
     "metadata": {},
     "output_type": "display_data"
    }
   ],
   "source": [
    "plt.plot(df.altitude_mean_meters)\n",
    "plt.xlabel('index')\n",
    "plt.ylabel('altitude_mean_meters')\n",
    "plt.show()"
   ]
  },
  {
   "cell_type": "code",
   "execution_count": 31,
   "id": "af303f36",
   "metadata": {},
   "outputs": [
    {
     "data": {
      "image/png": "[encoded data removed]",
      "text/plain": [
       "<Figure size 640x480 with 1 Axes>"
      ]
     },
     "metadata": {},
     "output_type": "display_data"
    }
   ],
   "source": [
    "sns.boxplot(y = df.altitude_mean_meters ) # lets look at outliers \n",
    "plt.show()"
   ]
  },
  {
   "cell_type": "code",
   "execution_count": 32,
   "id": "57d737a6",
   "metadata": {},
   "outputs": [
    {
     "data": {
      "text/plain": [
       "<AxesSubplot: >"
      ]
     },
     "execution_count": 32,
     "metadata": {},
     "output_type": "execute_result"
    },
    {
     "data": {
      "image/png": "[encoded data removed]",
      "text/plain": [
       "<Figure size 600x400 with 1 Axes>"
      ]
     },
     "metadata": {},
     "output_type": "display_data"
    }
   ],
   "source": [
    "plt.figure(figsize=(6,4))\n",
    "df.boxplot(column=['altitude_mean_meters'])"
   ]
  },
  {
   "cell_type": "code",
   "execution_count": 33,
   "id": "86432d1b",
   "metadata": {},
   "outputs": [
    {
     "data": {
      "text/plain": [
       "226"
      ]
     },
     "execution_count": 33,
     "metadata": {},
     "output_type": "execute_result"
    }
   ],
   "source": [
    "df.altitude_mean_meters.isna().sum() # do we have some missing values ? "
   ]
  },
  {
   "cell_type": "code",
   "execution_count": 34,
   "id": "941d6691",
   "metadata": {},
   "outputs": [
    {
     "data": {
      "text/plain": [
       "array(['Brazil', 'Peru', 'Ethiopia', 'Nicaragua', 'Tanzania', 'Hawaii',\n",
       "       'Uganda', 'Guatemala', 'Colombia', 'Kenya', 'Thailand',\n",
       "       'Costa Rica', 'Indonesia', 'Taiwan', 'Mexico', 'El Salvador',\n",
       "       'Honduras', 'India'], dtype=object)"
      ]
     },
     "execution_count": 34,
     "metadata": {},
     "output_type": "execute_result"
    }
   ],
   "source": [
    "countries_nan = df[df.altitude_mean_meters.isna()].country_of_origin.unique()\n",
    "countries_nan  # missing values are in those countries "
   ]
  },
  {
   "cell_type": "code",
   "execution_count": 35,
   "id": "01083ff3",
   "metadata": {},
   "outputs": [
    {
     "data": {
      "text/plain": [
       "count       2.000000\n",
       "mean     1300.000000\n",
       "std       141.421356\n",
       "min      1200.000000\n",
       "25%      1250.000000\n",
       "50%      1300.000000\n",
       "75%      1350.000000\n",
       "max      1400.000000\n",
       "Name: altitude_mean_meters, dtype: float64"
      ]
     },
     "execution_count": 35,
     "metadata": {},
     "output_type": "execute_result"
    }
   ],
   "source": [
    "df[df.country_of_origin == \"Peru\"].altitude_mean_meters.describe() # quick check "
   ]
  },
  {
   "cell_type": "code",
   "execution_count": 36,
   "id": "eb13307b",
   "metadata": {},
   "outputs": [
    {
     "name": "stdout",
     "output_type": "stream",
     "text": [
      "Brazil: 1000.0\n",
      "Peru: 1300.0\n",
      "Ethiopia: 1800.0\n",
      "Nicaragua: 1100.0\n",
      "Tanzania: 1600.0\n",
      "Hawaii: 518.1600000000001\n",
      "Uganda: 1675.0\n",
      "Guatemala: 1395.4012\n",
      "Colombia: 1750.0\n",
      "Kenya: 1754.0\n",
      "Thailand: 1000.0\n",
      "Costa Rica: 1300.0\n",
      "Indonesia: 1350.0\n",
      "Taiwan: 750.0\n",
      "Mexico: 1250.0\n",
      "El Salvador: 1350.0\n",
      "Honduras: 1400.0\n",
      "India: nan\n"
     ]
    },
    {
     "name": "stderr",
     "output_type": "stream",
     "text": [
      "C:\\Users\\JASNYP\\Desktop\\Python Projects\\coffee_reviews\\venv\\lib\\site-packages\\numpy\\lib\\nanfunctions.py:1215: RuntimeWarning: Mean of empty slice\n",
      "  return np.nanmean(a, axis, out=out, keepdims=keepdims)\n"
     ]
    }
   ],
   "source": [
    "for country in countries_nan:\n",
    "    median_value = df[df.country_of_origin == f'{country}'].altitude_mean_meters.median()\n",
    "    print(f'{country}: {median_value}')"
   ]
  },
  {
   "cell_type": "code",
   "execution_count": 37,
   "id": "bbcb0eae",
   "metadata": {},
   "outputs": [
    {
     "name": "stderr",
     "output_type": "stream",
     "text": [
      "C:\\Users\\JASNYP\\Desktop\\Python Projects\\coffee_reviews\\venv\\lib\\site-packages\\numpy\\lib\\nanfunctions.py:1215: RuntimeWarning: Mean of empty slice\n",
      "  return np.nanmean(a, axis, out=out, keepdims=keepdims)\n"
     ]
    },
    {
     "data": {
      "text/plain": [
       "1"
      ]
     },
     "execution_count": 37,
     "metadata": {},
     "output_type": "execute_result"
    }
   ],
   "source": [
    "for country in countries_nan:\n",
    "    median_value = df[df.country_of_origin == f'{country}'].altitude_mean_meters.median()\n",
    "    df.loc[df.country_of_origin == f'{country}', 'altitude_mean_meters'] = df.loc[df.country_of_origin == f'{country}', 'altitude_mean_meters'].fillna(median_value)\n",
    "    \n",
    "df.altitude_mean_meters.isna().sum()"
   ]
  },
  {
   "cell_type": "code",
   "execution_count": 38,
   "id": "ef9d45af",
   "metadata": {},
   "outputs": [
    {
     "data": {
      "text/html": [
       "<div>\n",
       "<style scoped>\n",
       "    .dataframe tbody tr th:only-of-type {\n",
       "        vertical-align: middle;\n",
       "    }\n",
       "\n",
       "    .dataframe tbody tr th {\n",
       "        vertical-align: top;\n",
       "    }\n",
       "\n",
       "    .dataframe thead th {\n",
       "        text-align: right;\n",
       "    }\n",
       "</style>\n",
       "<table border=\"1\" class=\"dataframe\">\n",
       "  <thead>\n",
       "    <tr style=\"text-align: right;\">\n",
       "      <th></th>\n",
       "      <th>owner</th>\n",
       "      <th>country_of_origin</th>\n",
       "      <th>variety</th>\n",
       "      <th>processing_method</th>\n",
       "      <th>aroma</th>\n",
       "      <th>flavor</th>\n",
       "      <th>aftertaste</th>\n",
       "      <th>acidity</th>\n",
       "      <th>body</th>\n",
       "      <th>balance</th>\n",
       "      <th>uniformity</th>\n",
       "      <th>clean_cup</th>\n",
       "      <th>sweetness</th>\n",
       "      <th>cupper_points</th>\n",
       "      <th>total_cup_points</th>\n",
       "      <th>altitude_mean_meters</th>\n",
       "    </tr>\n",
       "  </thead>\n",
       "  <tbody>\n",
       "    <tr>\n",
       "      <th>1261</th>\n",
       "      <td>joshua marsceau</td>\n",
       "      <td>India</td>\n",
       "      <td>unknown</td>\n",
       "      <td>Natural / Dry</td>\n",
       "      <td>7.67</td>\n",
       "      <td>7.33</td>\n",
       "      <td>7.17</td>\n",
       "      <td>6.67</td>\n",
       "      <td>7.17</td>\n",
       "      <td>7.42</td>\n",
       "      <td>9.33</td>\n",
       "      <td>10.0</td>\n",
       "      <td>6.67</td>\n",
       "      <td>7.42</td>\n",
       "      <td>76.83</td>\n",
       "      <td>NaN</td>\n",
       "    </tr>\n",
       "  </tbody>\n",
       "</table>\n",
       "</div>"
      ],
      "text/plain": [
       "                owner country_of_origin  variety processing_method  aroma  \\\n",
       "1261  joshua marsceau             India  unknown     Natural / Dry   7.67   \n",
       "\n",
       "      flavor  aftertaste  acidity  body  balance  uniformity  clean_cup  \\\n",
       "1261    7.33        7.17     6.67  7.17     7.42        9.33       10.0   \n",
       "\n",
       "      sweetness  cupper_points  total_cup_points  altitude_mean_meters  \n",
       "1261       6.67           7.42             76.83                   NaN  "
      ]
     },
     "execution_count": 38,
     "metadata": {},
     "output_type": "execute_result"
    }
   ],
   "source": [
    "df[df.altitude_mean_meters.isna()]"
   ]
  },
  {
   "cell_type": "code",
   "execution_count": 39,
   "id": "708dfce4",
   "metadata": {},
   "outputs": [],
   "source": [
    "df.drop(index = 1261, inplace = True)"
   ]
  },
  {
   "cell_type": "code",
   "execution_count": 40,
   "id": "218a98f2",
   "metadata": {},
   "outputs": [
    {
     "data": {
      "text/plain": [
       "0"
      ]
     },
     "execution_count": 40,
     "metadata": {},
     "output_type": "execute_result"
    }
   ],
   "source": [
    "df.altitude_mean_meters.isna().sum()"
   ]
  },
  {
   "cell_type": "code",
   "execution_count": 41,
   "id": "1de0554d",
   "metadata": {},
   "outputs": [
    {
     "data": {
      "text/plain": [
       "array(['Ethiopia', 'Guatemala', 'Brazil', 'Peru', 'United States',\n",
       "       'Hawaii', 'Indonesia', 'China', 'Costa Rica', 'Mexico', 'Uganda',\n",
       "       'Honduras', 'Taiwan', 'Nicaragua', 'Tanzania', 'Kenya', 'Thailand',\n",
       "       'Colombia', 'Panama', 'Papua New Guinea', 'El Salvador', 'Japan',\n",
       "       'Ecuador', 'Puerto Rico', 'Haiti', 'Burundi', 'Vietnam',\n",
       "       'Philippines', 'Rwanda', 'Malawi', 'Laos', 'Zambia', 'Myanmar',\n",
       "       'Mauritius', 'Cote d?Ivoire'], dtype=object)"
      ]
     },
     "execution_count": 41,
     "metadata": {},
     "output_type": "execute_result"
    }
   ],
   "source": [
    "df.country_of_origin.unique()"
   ]
  },
  {
   "cell_type": "code",
   "execution_count": 42,
   "id": "98a4204b",
   "metadata": {},
   "outputs": [
    {
     "data": {
      "text/plain": [
       "count      1309.000000\n",
       "mean       1666.922280\n",
       "std        7984.028255\n",
       "min           1.000000\n",
       "25%        1000.000000\n",
       "50%        1310.640000\n",
       "75%        1600.000000\n",
       "max      190164.000000\n",
       "Name: altitude_mean_meters, dtype: float64"
      ]
     },
     "execution_count": 42,
     "metadata": {},
     "output_type": "execute_result"
    }
   ],
   "source": [
    "df.altitude_mean_meters.describe() # let`s look again at min and max value "
   ]
  },
  {
   "cell_type": "code",
   "execution_count": 43,
   "id": "1b542003",
   "metadata": {},
   "outputs": [
    {
     "data": {
      "image/png": "[encoded data removed]",
      "text/plain": [
       "<Figure size 640x480 with 1 Axes>"
      ]
     },
     "metadata": {},
     "output_type": "display_data"
    }
   ],
   "source": [
    "plt.plot(df.altitude_mean_meters)\n",
    "plt.xlabel('index')\n",
    "plt.ylabel('altitude_mean_meters')\n",
    "plt.show()"
   ]
  },
  {
   "cell_type": "code",
   "execution_count": 44,
   "id": "01ae3020",
   "metadata": {},
   "outputs": [
    {
     "data": {
      "text/html": [
       "<div>\n",
       "<style scoped>\n",
       "    .dataframe tbody tr th:only-of-type {\n",
       "        vertical-align: middle;\n",
       "    }\n",
       "\n",
       "    .dataframe tbody tr th {\n",
       "        vertical-align: top;\n",
       "    }\n",
       "\n",
       "    .dataframe thead th {\n",
       "        text-align: right;\n",
       "    }\n",
       "</style>\n",
       "<table border=\"1\" class=\"dataframe\">\n",
       "  <thead>\n",
       "    <tr style=\"text-align: right;\">\n",
       "      <th></th>\n",
       "      <th>owner</th>\n",
       "      <th>country_of_origin</th>\n",
       "      <th>variety</th>\n",
       "      <th>processing_method</th>\n",
       "      <th>aroma</th>\n",
       "      <th>flavor</th>\n",
       "      <th>aftertaste</th>\n",
       "      <th>acidity</th>\n",
       "      <th>body</th>\n",
       "      <th>balance</th>\n",
       "      <th>uniformity</th>\n",
       "      <th>clean_cup</th>\n",
       "      <th>sweetness</th>\n",
       "      <th>cupper_points</th>\n",
       "      <th>total_cup_points</th>\n",
       "      <th>altitude_mean_meters</th>\n",
       "    </tr>\n",
       "  </thead>\n",
       "  <tbody>\n",
       "    <tr>\n",
       "      <th>897</th>\n",
       "      <td>juan luis alvarado romero</td>\n",
       "      <td>Guatemala</td>\n",
       "      <td>Bourbon</td>\n",
       "      <td>Washed / Wet</td>\n",
       "      <td>7.42</td>\n",
       "      <td>7.42</td>\n",
       "      <td>7.08</td>\n",
       "      <td>7.50</td>\n",
       "      <td>7.42</td>\n",
       "      <td>7.33</td>\n",
       "      <td>10.00</td>\n",
       "      <td>10.00</td>\n",
       "      <td>10.00</td>\n",
       "      <td>7.42</td>\n",
       "      <td>81.58</td>\n",
       "      <td>190164.0</td>\n",
       "    </tr>\n",
       "    <tr>\n",
       "      <th>1145</th>\n",
       "      <td>juan luis alvarado romero</td>\n",
       "      <td>Guatemala</td>\n",
       "      <td>Bourbon</td>\n",
       "      <td>Washed / Wet</td>\n",
       "      <td>7.50</td>\n",
       "      <td>7.42</td>\n",
       "      <td>7.25</td>\n",
       "      <td>7.58</td>\n",
       "      <td>7.33</td>\n",
       "      <td>7.42</td>\n",
       "      <td>9.33</td>\n",
       "      <td>9.33</td>\n",
       "      <td>9.33</td>\n",
       "      <td>7.25</td>\n",
       "      <td>79.75</td>\n",
       "      <td>190164.0</td>\n",
       "    </tr>\n",
       "  </tbody>\n",
       "</table>\n",
       "</div>"
      ],
      "text/plain": [
       "                          owner country_of_origin  variety processing_method  \\\n",
       "897   juan luis alvarado romero         Guatemala  Bourbon      Washed / Wet   \n",
       "1145  juan luis alvarado romero         Guatemala  Bourbon      Washed / Wet   \n",
       "\n",
       "      aroma  flavor  aftertaste  acidity  body  balance  uniformity  \\\n",
       "897    7.42    7.42        7.08     7.50  7.42     7.33       10.00   \n",
       "1145   7.50    7.42        7.25     7.58  7.33     7.42        9.33   \n",
       "\n",
       "      clean_cup  sweetness  cupper_points  total_cup_points  \\\n",
       "897       10.00      10.00           7.42             81.58   \n",
       "1145       9.33       9.33           7.25             79.75   \n",
       "\n",
       "      altitude_mean_meters  \n",
       "897               190164.0  \n",
       "1145              190164.0  "
      ]
     },
     "execution_count": 44,
     "metadata": {},
     "output_type": "execute_result"
    }
   ],
   "source": [
    "df[df.altitude_mean_meters == df.altitude_mean_meters.max()]"
   ]
  },
  {
   "cell_type": "code",
   "execution_count": 45,
   "id": "294712ba",
   "metadata": {},
   "outputs": [
    {
     "data": {
      "text/plain": [
       "count       181.000000\n",
       "mean       3519.811176\n",
       "std       19786.540052\n",
       "min         157.886400\n",
       "25%        1310.640000\n",
       "50%        1395.401200\n",
       "75%        1524.000000\n",
       "max      190164.000000\n",
       "Name: altitude_mean_meters, dtype: float64"
      ]
     },
     "execution_count": 45,
     "metadata": {},
     "output_type": "execute_result"
    }
   ],
   "source": [
    "df[df.country_of_origin =='Guatemala'].altitude_mean_meters.describe()"
   ]
  },
  {
   "cell_type": "markdown",
   "id": "22933510",
   "metadata": {},
   "source": [
    "## I have some \"funny\" values in altitude_mean_meters column. I dont want to delete any records. My idea is to replace some outliers with median value ( not mean ! ). Let`s just look at min and max value"
   ]
  },
  {
   "cell_type": "code",
   "execution_count": 46,
   "id": "434dff3e",
   "metadata": {},
   "outputs": [],
   "source": [
    "df = df.replace(to_replace = 190164.000000, value = 1395.4012 ) #  max value - in Guatemala - replace with median value from Guatemala"
   ]
  },
  {
   "cell_type": "code",
   "execution_count": 47,
   "id": "28474a35",
   "metadata": {},
   "outputs": [
    {
     "data": {
      "text/plain": [
       "count     181.000000\n",
       "mean     1433.970305\n",
       "std       339.340664\n",
       "min       157.886400\n",
       "25%      1310.640000\n",
       "50%      1395.401200\n",
       "75%      1524.000000\n",
       "max      3280.000000\n",
       "Name: altitude_mean_meters, dtype: float64"
      ]
     },
     "execution_count": 47,
     "metadata": {},
     "output_type": "execute_result"
    }
   ],
   "source": [
    "df[df.country_of_origin =='Guatemala'].altitude_mean_meters.describe() # lets look again"
   ]
  },
  {
   "cell_type": "code",
   "execution_count": 48,
   "id": "1f6b1718",
   "metadata": {},
   "outputs": [
    {
     "data": {
      "text/plain": [
       "count     181.00000\n",
       "mean     1454.48160\n",
       "std       295.99661\n",
       "min      1099.41360\n",
       "25%      1310.64000\n",
       "50%      1395.40120\n",
       "75%      1524.00000\n",
       "max      3280.00000\n",
       "Name: altitude_mean_meters, dtype: float64"
      ]
     },
     "execution_count": 48,
     "metadata": {},
     "output_type": "execute_result"
    }
   ],
   "source": [
    "df.loc[(df.country_of_origin =='Guatemala') & (df.altitude_mean_meters == 157.886400), 'altitude_mean_meters'] =   1395.401200 # replace min with median\n",
    "df[df.country_of_origin =='Guatemala'].altitude_mean_meters.describe()"
   ]
  },
  {
   "cell_type": "code",
   "execution_count": 49,
   "id": "bf1552f3",
   "metadata": {},
   "outputs": [
    {
     "data": {
      "text/plain": [
       "count     181.000000\n",
       "mean     1423.245156\n",
       "std       176.491004\n",
       "min      1099.413600\n",
       "25%      1310.640000\n",
       "50%      1395.401200\n",
       "75%      1524.000000\n",
       "max      2100.000000\n",
       "Name: altitude_mean_meters, dtype: float64"
      ]
     },
     "execution_count": 49,
     "metadata": {},
     "output_type": "execute_result"
    }
   ],
   "source": [
    "df.loc[(df.country_of_origin =='Guatemala') & (df.altitude_mean_meters ==  3280), 'altitude_mean_meters'] =  1395.40120 # replace max with median\n",
    "df[df.country_of_origin =='Guatemala'].altitude_mean_meters.describe()"
   ]
  },
  {
   "cell_type": "markdown",
   "id": "09f08095",
   "metadata": {},
   "source": [
    "## Minimum altitude_mean_meters value for Guatemala is 1099 - and it is possible. Same with max value - 2100. "
   ]
  },
  {
   "cell_type": "code",
   "execution_count": 50,
   "id": "e9770f5f",
   "metadata": {},
   "outputs": [
    {
     "data": {
      "text/plain": [
       "<AxesSubplot: ylabel='Density'>"
      ]
     },
     "execution_count": 50,
     "metadata": {},
     "output_type": "execute_result"
    },
    {
     "data": {
      "image/png": "[encoded data removed]",
      "text/plain": [
       "<Figure size 640x480 with 1 Axes>"
      ]
     },
     "metadata": {},
     "output_type": "display_data"
    }
   ],
   "source": [
    "filter_guatemala = df[df.country_of_origin =='Guatemala']['altitude_mean_meters']\n",
    "filter_guatemala.plot.kde()"
   ]
  },
  {
   "cell_type": "code",
   "execution_count": 51,
   "id": "e5fc92d8",
   "metadata": {},
   "outputs": [
    {
     "data": {
      "text/plain": [
       "<AxesSubplot: >"
      ]
     },
     "execution_count": 51,
     "metadata": {},
     "output_type": "execute_result"
    },
    {
     "data": {
      "image/png": "[encoded data removed]",
      "text/plain": [
       "<Figure size 640x480 with 1 Axes>"
      ]
     },
     "metadata": {},
     "output_type": "display_data"
    }
   ],
   "source": [
    "filter_guatemala.hist(bins = 20)"
   ]
  },
  {
   "cell_type": "code",
   "execution_count": 52,
   "id": "57819f77",
   "metadata": {},
   "outputs": [
    {
     "data": {
      "image/png": "[encoded data removed]",
      "text/plain": [
       "<Figure size 640x480 with 1 Axes>"
      ]
     },
     "metadata": {},
     "output_type": "display_data"
    }
   ],
   "source": [
    "sns.boxplot(y = filter_guatemala ) # lets look at outliers \n",
    "plt.show()"
   ]
  },
  {
   "cell_type": "code",
   "execution_count": 53,
   "id": "2f1e4318",
   "metadata": {},
   "outputs": [
    {
     "data": {
      "image/png": "[encoded data removed]",
      "text/plain": [
       "<Figure size 640x480 with 1 Axes>"
      ]
     },
     "metadata": {},
     "output_type": "display_data"
    }
   ],
   "source": [
    "sns.boxplot(y = df.altitude_mean_meters ) # lets look at outliers in dataset\n",
    "plt.show()"
   ]
  },
  {
   "cell_type": "code",
   "execution_count": 54,
   "id": "7f92a1dd",
   "metadata": {},
   "outputs": [
    {
     "data": {
      "text/plain": [
       "count      1309.000000\n",
       "mean       1377.022777\n",
       "std        3053.012989\n",
       "min           1.000000\n",
       "25%        1020.000000\n",
       "50%        1310.640000\n",
       "75%        1600.000000\n",
       "max      110000.000000\n",
       "Name: altitude_mean_meters, dtype: float64"
      ]
     },
     "execution_count": 54,
     "metadata": {},
     "output_type": "execute_result"
    }
   ],
   "source": [
    "df.altitude_mean_meters.describe()"
   ]
  },
  {
   "cell_type": "code",
   "execution_count": 55,
   "id": "33d02b33",
   "metadata": {},
   "outputs": [
    {
     "data": {
      "text/html": [
       "<div>\n",
       "<style scoped>\n",
       "    .dataframe tbody tr th:only-of-type {\n",
       "        vertical-align: middle;\n",
       "    }\n",
       "\n",
       "    .dataframe tbody tr th {\n",
       "        vertical-align: top;\n",
       "    }\n",
       "\n",
       "    .dataframe thead th {\n",
       "        text-align: right;\n",
       "    }\n",
       "</style>\n",
       "<table border=\"1\" class=\"dataframe\">\n",
       "  <thead>\n",
       "    <tr style=\"text-align: right;\">\n",
       "      <th></th>\n",
       "      <th>owner</th>\n",
       "      <th>country_of_origin</th>\n",
       "      <th>variety</th>\n",
       "      <th>processing_method</th>\n",
       "      <th>aroma</th>\n",
       "      <th>flavor</th>\n",
       "      <th>aftertaste</th>\n",
       "      <th>acidity</th>\n",
       "      <th>body</th>\n",
       "      <th>balance</th>\n",
       "      <th>uniformity</th>\n",
       "      <th>clean_cup</th>\n",
       "      <th>sweetness</th>\n",
       "      <th>cupper_points</th>\n",
       "      <th>total_cup_points</th>\n",
       "      <th>altitude_mean_meters</th>\n",
       "    </tr>\n",
       "  </thead>\n",
       "  <tbody>\n",
       "    <tr>\n",
       "      <th>1041</th>\n",
       "      <td>comercial internacional exportadora, s.a.</td>\n",
       "      <td>Nicaragua</td>\n",
       "      <td>Other</td>\n",
       "      <td>Washed / Wet</td>\n",
       "      <td>7.25</td>\n",
       "      <td>7.25</td>\n",
       "      <td>7.17</td>\n",
       "      <td>7.25</td>\n",
       "      <td>7.33</td>\n",
       "      <td>7.25</td>\n",
       "      <td>10.0</td>\n",
       "      <td>10.0</td>\n",
       "      <td>10.0</td>\n",
       "      <td>7.25</td>\n",
       "      <td>80.75</td>\n",
       "      <td>110000.0</td>\n",
       "    </tr>\n",
       "  </tbody>\n",
       "</table>\n",
       "</div>"
      ],
      "text/plain": [
       "                                          owner country_of_origin variety  \\\n",
       "1041  comercial internacional exportadora, s.a.         Nicaragua   Other   \n",
       "\n",
       "     processing_method  aroma  flavor  aftertaste  acidity  body  balance  \\\n",
       "1041      Washed / Wet   7.25    7.25        7.17     7.25  7.33     7.25   \n",
       "\n",
       "      uniformity  clean_cup  sweetness  cupper_points  total_cup_points  \\\n",
       "1041        10.0       10.0       10.0           7.25             80.75   \n",
       "\n",
       "      altitude_mean_meters  \n",
       "1041              110000.0  "
      ]
     },
     "execution_count": 55,
     "metadata": {},
     "output_type": "execute_result"
    }
   ],
   "source": [
    "df[df.altitude_mean_meters == df.altitude_mean_meters.max()]  # max value for altitude_mean_meters again"
   ]
  },
  {
   "cell_type": "code",
   "execution_count": 56,
   "id": "a57d84f1",
   "metadata": {},
   "outputs": [
    {
     "data": {
      "text/plain": [
       "count        26.000000\n",
       "mean       5283.173077\n",
       "std       21358.303696\n",
       "min         900.000000\n",
       "25%        1062.500000\n",
       "50%        1100.000000\n",
       "75%        1100.000000\n",
       "max      110000.000000\n",
       "Name: altitude_mean_meters, dtype: float64"
      ]
     },
     "execution_count": 56,
     "metadata": {},
     "output_type": "execute_result"
    }
   ],
   "source": [
    "df[df.country_of_origin =='Nicaragua'].altitude_mean_meters.describe() # lets replace max with median value"
   ]
  },
  {
   "cell_type": "code",
   "execution_count": 57,
   "id": "cc200bbb",
   "metadata": {},
   "outputs": [
    {
     "data": {
      "text/plain": [
       "count      26.000000\n",
       "mean     1094.711538\n",
       "std        87.190386\n",
       "min       900.000000\n",
       "25%      1062.500000\n",
       "50%      1100.000000\n",
       "75%      1100.000000\n",
       "max      1250.000000\n",
       "Name: altitude_mean_meters, dtype: float64"
      ]
     },
     "execution_count": 57,
     "metadata": {},
     "output_type": "execute_result"
    }
   ],
   "source": [
    "df.loc[(df.country_of_origin =='Nicaragua') & (df.altitude_mean_meters ==  110000.000000), 'altitude_mean_meters' ] =  1100.000000\n",
    "df[df.country_of_origin =='Nicaragua'].altitude_mean_meters.describe()"
   ]
  },
  {
   "cell_type": "code",
   "execution_count": 58,
   "id": "a49206f3",
   "metadata": {},
   "outputs": [
    {
     "data": {
      "text/plain": [
       "<AxesSubplot: ylabel='Density'>"
      ]
     },
     "execution_count": 58,
     "metadata": {},
     "output_type": "execute_result"
    },
    {
     "data": {
      "image/png": "[encoded data removed]",
      "text/plain": [
       "<Figure size 640x480 with 1 Axes>"
      ]
     },
     "metadata": {},
     "output_type": "display_data"
    }
   ],
   "source": [
    "filter_nicaragua = df[df.country_of_origin == 'Nicaragua'].altitude_mean_meters\n",
    "filter_nicaragua.plot.kde()"
   ]
  },
  {
   "cell_type": "code",
   "execution_count": 59,
   "id": "492669c9",
   "metadata": {},
   "outputs": [
    {
     "data": {
      "text/plain": [
       "count     1309.000000\n",
       "mean      1293.829499\n",
       "std        541.678586\n",
       "min          1.000000\n",
       "25%       1020.000000\n",
       "50%       1310.640000\n",
       "75%       1600.000000\n",
       "max      11000.000000\n",
       "Name: altitude_mean_meters, dtype: float64"
      ]
     },
     "execution_count": 59,
     "metadata": {},
     "output_type": "execute_result"
    }
   ],
   "source": [
    "df.altitude_mean_meters.describe() # Again DataFrame"
   ]
  },
  {
   "cell_type": "code",
   "execution_count": 60,
   "id": "7b0e9f26",
   "metadata": {},
   "outputs": [
    {
     "data": {
      "text/html": [
       "<div>\n",
       "<style scoped>\n",
       "    .dataframe tbody tr th:only-of-type {\n",
       "        vertical-align: middle;\n",
       "    }\n",
       "\n",
       "    .dataframe tbody tr th {\n",
       "        vertical-align: top;\n",
       "    }\n",
       "\n",
       "    .dataframe thead th {\n",
       "        text-align: right;\n",
       "    }\n",
       "</style>\n",
       "<table border=\"1\" class=\"dataframe\">\n",
       "  <thead>\n",
       "    <tr style=\"text-align: right;\">\n",
       "      <th></th>\n",
       "      <th>owner</th>\n",
       "      <th>country_of_origin</th>\n",
       "      <th>variety</th>\n",
       "      <th>processing_method</th>\n",
       "      <th>aroma</th>\n",
       "      <th>flavor</th>\n",
       "      <th>aftertaste</th>\n",
       "      <th>acidity</th>\n",
       "      <th>body</th>\n",
       "      <th>balance</th>\n",
       "      <th>uniformity</th>\n",
       "      <th>clean_cup</th>\n",
       "      <th>sweetness</th>\n",
       "      <th>cupper_points</th>\n",
       "      <th>total_cup_points</th>\n",
       "      <th>altitude_mean_meters</th>\n",
       "    </tr>\n",
       "  </thead>\n",
       "  <tbody>\n",
       "    <tr>\n",
       "      <th>544</th>\n",
       "      <td>expocaccer coop dos cafeic do cerrado ltda</td>\n",
       "      <td>Brazil</td>\n",
       "      <td>Moka Peaberry</td>\n",
       "      <td>Semi-washed / Semi-pulped</td>\n",
       "      <td>7.08</td>\n",
       "      <td>7.5</td>\n",
       "      <td>7.5</td>\n",
       "      <td>7.83</td>\n",
       "      <td>7.75</td>\n",
       "      <td>7.67</td>\n",
       "      <td>10.0</td>\n",
       "      <td>10.0</td>\n",
       "      <td>10.0</td>\n",
       "      <td>7.58</td>\n",
       "      <td>82.92</td>\n",
       "      <td>11000.0</td>\n",
       "    </tr>\n",
       "  </tbody>\n",
       "</table>\n",
       "</div>"
      ],
      "text/plain": [
       "                                          owner country_of_origin  \\\n",
       "544  expocaccer coop dos cafeic do cerrado ltda            Brazil   \n",
       "\n",
       "           variety          processing_method  aroma  flavor  aftertaste  \\\n",
       "544  Moka Peaberry  Semi-washed / Semi-pulped   7.08     7.5         7.5   \n",
       "\n",
       "     acidity  body  balance  uniformity  clean_cup  sweetness  cupper_points  \\\n",
       "544     7.83  7.75     7.67        10.0       10.0       10.0           7.58   \n",
       "\n",
       "     total_cup_points  altitude_mean_meters  \n",
       "544             82.92               11000.0  "
      ]
     },
     "execution_count": 60,
     "metadata": {},
     "output_type": "execute_result"
    }
   ],
   "source": [
    "df[df.altitude_mean_meters  == df.altitude_mean_meters.max()]"
   ]
  },
  {
   "cell_type": "code",
   "execution_count": 61,
   "id": "df6ff54e",
   "metadata": {},
   "outputs": [
    {
     "data": {
      "text/plain": [
       "count      132.000000\n",
       "mean      1013.340909\n",
       "std        940.489450\n",
       "min          1.000000\n",
       "25%        905.000000\n",
       "50%       1000.000000\n",
       "75%       1100.000000\n",
       "max      11000.000000\n",
       "Name: altitude_mean_meters, dtype: float64"
      ]
     },
     "execution_count": 61,
     "metadata": {},
     "output_type": "execute_result"
    }
   ],
   "source": [
    "df[df.country_of_origin == 'Brazil'].altitude_mean_meters.describe() # "
   ]
  },
  {
   "cell_type": "code",
   "execution_count": 62,
   "id": "4113cbf1",
   "metadata": {},
   "outputs": [
    {
     "data": {
      "text/plain": [
       "count     132.000000\n",
       "mean      937.583333\n",
       "std       342.659286\n",
       "min         1.000000\n",
       "25%       905.000000\n",
       "50%      1000.000000\n",
       "75%      1100.000000\n",
       "max      1300.000000\n",
       "Name: altitude_mean_meters, dtype: float64"
      ]
     },
     "execution_count": 62,
     "metadata": {},
     "output_type": "execute_result"
    }
   ],
   "source": [
    "df.loc[(df.country_of_origin == 'Brazil') & ( df.altitude_mean_meters == 11000), 'altitude_mean_meters'] = 1000\n",
    "df[df.country_of_origin == 'Brazil'].altitude_mean_meters.describe() # "
   ]
  },
  {
   "cell_type": "code",
   "execution_count": 63,
   "id": "26ec1397",
   "metadata": {
    "scrolled": true
   },
   "outputs": [
    {
     "data": {
      "text/html": [
       "<div>\n",
       "<style scoped>\n",
       "    .dataframe tbody tr th:only-of-type {\n",
       "        vertical-align: middle;\n",
       "    }\n",
       "\n",
       "    .dataframe tbody tr th {\n",
       "        vertical-align: top;\n",
       "    }\n",
       "\n",
       "    .dataframe thead th {\n",
       "        text-align: right;\n",
       "    }\n",
       "</style>\n",
       "<table border=\"1\" class=\"dataframe\">\n",
       "  <thead>\n",
       "    <tr style=\"text-align: right;\">\n",
       "      <th></th>\n",
       "      <th>owner</th>\n",
       "      <th>country_of_origin</th>\n",
       "      <th>variety</th>\n",
       "      <th>processing_method</th>\n",
       "      <th>aroma</th>\n",
       "      <th>flavor</th>\n",
       "      <th>aftertaste</th>\n",
       "      <th>acidity</th>\n",
       "      <th>body</th>\n",
       "      <th>balance</th>\n",
       "      <th>uniformity</th>\n",
       "      <th>clean_cup</th>\n",
       "      <th>sweetness</th>\n",
       "      <th>cupper_points</th>\n",
       "      <th>total_cup_points</th>\n",
       "      <th>altitude_mean_meters</th>\n",
       "    </tr>\n",
       "  </thead>\n",
       "  <tbody>\n",
       "    <tr>\n",
       "      <th>101</th>\n",
       "      <td>simon mahinda</td>\n",
       "      <td>Kenya</td>\n",
       "      <td>unknown</td>\n",
       "      <td>Washed / Wet</td>\n",
       "      <td>8.17</td>\n",
       "      <td>7.83</td>\n",
       "      <td>7.92</td>\n",
       "      <td>7.75</td>\n",
       "      <td>7.67</td>\n",
       "      <td>7.83</td>\n",
       "      <td>10.0</td>\n",
       "      <td>10.0</td>\n",
       "      <td>10.0</td>\n",
       "      <td>7.83</td>\n",
       "      <td>85.00</td>\n",
       "      <td>1.0</td>\n",
       "    </tr>\n",
       "    <tr>\n",
       "      <th>280</th>\n",
       "      <td>ipanema coffees</td>\n",
       "      <td>Brazil</td>\n",
       "      <td>Yellow Bourbon</td>\n",
       "      <td>Natural / Dry</td>\n",
       "      <td>7.25</td>\n",
       "      <td>7.58</td>\n",
       "      <td>7.42</td>\n",
       "      <td>8.00</td>\n",
       "      <td>7.75</td>\n",
       "      <td>7.83</td>\n",
       "      <td>10.0</td>\n",
       "      <td>10.0</td>\n",
       "      <td>10.0</td>\n",
       "      <td>8.00</td>\n",
       "      <td>83.83</td>\n",
       "      <td>1.0</td>\n",
       "    </tr>\n",
       "    <tr>\n",
       "      <th>482</th>\n",
       "      <td>ipanema coffees</td>\n",
       "      <td>Brazil</td>\n",
       "      <td>Yellow Bourbon</td>\n",
       "      <td>Natural / Dry</td>\n",
       "      <td>7.33</td>\n",
       "      <td>7.67</td>\n",
       "      <td>7.67</td>\n",
       "      <td>7.33</td>\n",
       "      <td>7.75</td>\n",
       "      <td>7.42</td>\n",
       "      <td>10.0</td>\n",
       "      <td>10.0</td>\n",
       "      <td>10.0</td>\n",
       "      <td>7.92</td>\n",
       "      <td>83.08</td>\n",
       "      <td>1.0</td>\n",
       "    </tr>\n",
       "    <tr>\n",
       "      <th>614</th>\n",
       "      <td>ipanema coffees</td>\n",
       "      <td>Brazil</td>\n",
       "      <td>Yellow Bourbon</td>\n",
       "      <td>Natural / Dry</td>\n",
       "      <td>7.58</td>\n",
       "      <td>7.50</td>\n",
       "      <td>7.42</td>\n",
       "      <td>7.67</td>\n",
       "      <td>7.50</td>\n",
       "      <td>7.50</td>\n",
       "      <td>10.0</td>\n",
       "      <td>10.0</td>\n",
       "      <td>10.0</td>\n",
       "      <td>7.50</td>\n",
       "      <td>82.67</td>\n",
       "      <td>1.0</td>\n",
       "    </tr>\n",
       "    <tr>\n",
       "      <th>684</th>\n",
       "      <td>ipanema coffees</td>\n",
       "      <td>Brazil</td>\n",
       "      <td>Yellow Bourbon</td>\n",
       "      <td>Natural / Dry</td>\n",
       "      <td>7.17</td>\n",
       "      <td>7.83</td>\n",
       "      <td>7.33</td>\n",
       "      <td>7.50</td>\n",
       "      <td>7.75</td>\n",
       "      <td>7.42</td>\n",
       "      <td>10.0</td>\n",
       "      <td>10.0</td>\n",
       "      <td>10.0</td>\n",
       "      <td>7.42</td>\n",
       "      <td>82.42</td>\n",
       "      <td>1.0</td>\n",
       "    </tr>\n",
       "    <tr>\n",
       "      <th>738</th>\n",
       "      <td>ipanema coffees</td>\n",
       "      <td>Brazil</td>\n",
       "      <td>Yellow Bourbon</td>\n",
       "      <td>Natural / Dry</td>\n",
       "      <td>7.42</td>\n",
       "      <td>7.67</td>\n",
       "      <td>7.50</td>\n",
       "      <td>7.08</td>\n",
       "      <td>7.50</td>\n",
       "      <td>7.42</td>\n",
       "      <td>10.0</td>\n",
       "      <td>10.0</td>\n",
       "      <td>10.0</td>\n",
       "      <td>7.67</td>\n",
       "      <td>82.25</td>\n",
       "      <td>1.0</td>\n",
       "    </tr>\n",
       "    <tr>\n",
       "      <th>762</th>\n",
       "      <td>ipanema coffees</td>\n",
       "      <td>Brazil</td>\n",
       "      <td>Yellow Bourbon</td>\n",
       "      <td>Natural / Dry</td>\n",
       "      <td>6.92</td>\n",
       "      <td>7.58</td>\n",
       "      <td>7.42</td>\n",
       "      <td>7.33</td>\n",
       "      <td>7.83</td>\n",
       "      <td>7.50</td>\n",
       "      <td>10.0</td>\n",
       "      <td>10.0</td>\n",
       "      <td>10.0</td>\n",
       "      <td>7.58</td>\n",
       "      <td>82.17</td>\n",
       "      <td>1.0</td>\n",
       "    </tr>\n",
       "    <tr>\n",
       "      <th>781</th>\n",
       "      <td>ipanema coffees</td>\n",
       "      <td>Brazil</td>\n",
       "      <td>Yellow Bourbon</td>\n",
       "      <td>Natural / Dry</td>\n",
       "      <td>7.25</td>\n",
       "      <td>7.25</td>\n",
       "      <td>7.58</td>\n",
       "      <td>7.58</td>\n",
       "      <td>7.25</td>\n",
       "      <td>7.92</td>\n",
       "      <td>10.0</td>\n",
       "      <td>10.0</td>\n",
       "      <td>10.0</td>\n",
       "      <td>7.25</td>\n",
       "      <td>82.08</td>\n",
       "      <td>1.0</td>\n",
       "    </tr>\n",
       "    <tr>\n",
       "      <th>839</th>\n",
       "      <td>ipanema coffees</td>\n",
       "      <td>Brazil</td>\n",
       "      <td>Yellow Bourbon</td>\n",
       "      <td>Natural / Dry</td>\n",
       "      <td>7.17</td>\n",
       "      <td>7.58</td>\n",
       "      <td>6.83</td>\n",
       "      <td>7.50</td>\n",
       "      <td>7.75</td>\n",
       "      <td>7.25</td>\n",
       "      <td>10.0</td>\n",
       "      <td>10.0</td>\n",
       "      <td>10.0</td>\n",
       "      <td>7.75</td>\n",
       "      <td>81.83</td>\n",
       "      <td>1.0</td>\n",
       "    </tr>\n",
       "    <tr>\n",
       "      <th>840</th>\n",
       "      <td>ipanema coffees</td>\n",
       "      <td>Brazil</td>\n",
       "      <td>Yellow Bourbon</td>\n",
       "      <td>Natural / Dry</td>\n",
       "      <td>7.58</td>\n",
       "      <td>7.00</td>\n",
       "      <td>6.92</td>\n",
       "      <td>6.92</td>\n",
       "      <td>7.67</td>\n",
       "      <td>7.50</td>\n",
       "      <td>10.0</td>\n",
       "      <td>10.0</td>\n",
       "      <td>10.0</td>\n",
       "      <td>8.25</td>\n",
       "      <td>81.83</td>\n",
       "      <td>1.0</td>\n",
       "    </tr>\n",
       "    <tr>\n",
       "      <th>878</th>\n",
       "      <td>ipanema coffees</td>\n",
       "      <td>Brazil</td>\n",
       "      <td>Yellow Bourbon</td>\n",
       "      <td>Natural / Dry</td>\n",
       "      <td>7.25</td>\n",
       "      <td>7.75</td>\n",
       "      <td>6.92</td>\n",
       "      <td>7.42</td>\n",
       "      <td>7.50</td>\n",
       "      <td>7.58</td>\n",
       "      <td>10.0</td>\n",
       "      <td>10.0</td>\n",
       "      <td>10.0</td>\n",
       "      <td>7.25</td>\n",
       "      <td>81.67</td>\n",
       "      <td>1.0</td>\n",
       "    </tr>\n",
       "    <tr>\n",
       "      <th>964</th>\n",
       "      <td>ipanema coffees</td>\n",
       "      <td>Brazil</td>\n",
       "      <td>Yellow Bourbon</td>\n",
       "      <td>Natural / Dry</td>\n",
       "      <td>7.17</td>\n",
       "      <td>7.42</td>\n",
       "      <td>7.17</td>\n",
       "      <td>7.08</td>\n",
       "      <td>6.92</td>\n",
       "      <td>8.17</td>\n",
       "      <td>10.0</td>\n",
       "      <td>10.0</td>\n",
       "      <td>10.0</td>\n",
       "      <td>7.33</td>\n",
       "      <td>81.25</td>\n",
       "      <td>1.0</td>\n",
       "    </tr>\n",
       "  </tbody>\n",
       "</table>\n",
       "</div>"
      ],
      "text/plain": [
       "               owner country_of_origin         variety processing_method  \\\n",
       "101    simon mahinda             Kenya         unknown      Washed / Wet   \n",
       "280  ipanema coffees            Brazil  Yellow Bourbon     Natural / Dry   \n",
       "482  ipanema coffees            Brazil  Yellow Bourbon     Natural / Dry   \n",
       "614  ipanema coffees            Brazil  Yellow Bourbon     Natural / Dry   \n",
       "684  ipanema coffees            Brazil  Yellow Bourbon     Natural / Dry   \n",
       "738  ipanema coffees            Brazil  Yellow Bourbon     Natural / Dry   \n",
       "762  ipanema coffees            Brazil  Yellow Bourbon     Natural / Dry   \n",
       "781  ipanema coffees            Brazil  Yellow Bourbon     Natural / Dry   \n",
       "839  ipanema coffees            Brazil  Yellow Bourbon     Natural / Dry   \n",
       "840  ipanema coffees            Brazil  Yellow Bourbon     Natural / Dry   \n",
       "878  ipanema coffees            Brazil  Yellow Bourbon     Natural / Dry   \n",
       "964  ipanema coffees            Brazil  Yellow Bourbon     Natural / Dry   \n",
       "\n",
       "     aroma  flavor  aftertaste  acidity  body  balance  uniformity  clean_cup  \\\n",
       "101   8.17    7.83        7.92     7.75  7.67     7.83        10.0       10.0   \n",
       "280   7.25    7.58        7.42     8.00  7.75     7.83        10.0       10.0   \n",
       "482   7.33    7.67        7.67     7.33  7.75     7.42        10.0       10.0   \n",
       "614   7.58    7.50        7.42     7.67  7.50     7.50        10.0       10.0   \n",
       "684   7.17    7.83        7.33     7.50  7.75     7.42        10.0       10.0   \n",
       "738   7.42    7.67        7.50     7.08  7.50     7.42        10.0       10.0   \n",
       "762   6.92    7.58        7.42     7.33  7.83     7.50        10.0       10.0   \n",
       "781   7.25    7.25        7.58     7.58  7.25     7.92        10.0       10.0   \n",
       "839   7.17    7.58        6.83     7.50  7.75     7.25        10.0       10.0   \n",
       "840   7.58    7.00        6.92     6.92  7.67     7.50        10.0       10.0   \n",
       "878   7.25    7.75        6.92     7.42  7.50     7.58        10.0       10.0   \n",
       "964   7.17    7.42        7.17     7.08  6.92     8.17        10.0       10.0   \n",
       "\n",
       "     sweetness  cupper_points  total_cup_points  altitude_mean_meters  \n",
       "101       10.0           7.83             85.00                   1.0  \n",
       "280       10.0           8.00             83.83                   1.0  \n",
       "482       10.0           7.92             83.08                   1.0  \n",
       "614       10.0           7.50             82.67                   1.0  \n",
       "684       10.0           7.42             82.42                   1.0  \n",
       "738       10.0           7.67             82.25                   1.0  \n",
       "762       10.0           7.58             82.17                   1.0  \n",
       "781       10.0           7.25             82.08                   1.0  \n",
       "839       10.0           7.75             81.83                   1.0  \n",
       "840       10.0           8.25             81.83                   1.0  \n",
       "878       10.0           7.25             81.67                   1.0  \n",
       "964       10.0           7.33             81.25                   1.0  "
      ]
     },
     "execution_count": 63,
     "metadata": {},
     "output_type": "execute_result"
    }
   ],
   "source": [
    "df[df.altitude_mean_meters == df.altitude_mean_meters.min()] # lets look at the min value"
   ]
  },
  {
   "cell_type": "code",
   "execution_count": 64,
   "id": "7eb69f41",
   "metadata": {},
   "outputs": [
    {
     "data": {
      "text/plain": [
       "count      25.000000\n",
       "mean     1522.480000\n",
       "std       547.263942\n",
       "min         1.000000\n",
       "25%      1580.000000\n",
       "50%      1754.000000\n",
       "75%      1800.000000\n",
       "max      2000.000000\n",
       "Name: altitude_mean_meters, dtype: float64"
      ]
     },
     "execution_count": 64,
     "metadata": {},
     "output_type": "execute_result"
    }
   ],
   "source": [
    "df[df.country_of_origin == 'Kenya'].altitude_mean_meters.describe() # just one record from Kenya "
   ]
  },
  {
   "cell_type": "code",
   "execution_count": 65,
   "id": "db95ecbc",
   "metadata": {},
   "outputs": [
    {
     "data": {
      "text/plain": [
       "<AxesSubplot: ylabel='Density'>"
      ]
     },
     "execution_count": 65,
     "metadata": {},
     "output_type": "execute_result"
    },
    {
     "data": {
      "image/png": "[encoded data removed]",
      "text/plain": [
       "<Figure size 640x480 with 1 Axes>"
      ]
     },
     "metadata": {},
     "output_type": "display_data"
    }
   ],
   "source": [
    "filter_kenya  = df[df.country_of_origin == 'Kenya'].altitude_mean_meters\n",
    "filter_kenya.plot.kde()"
   ]
  },
  {
   "cell_type": "code",
   "execution_count": 66,
   "id": "3afc505e",
   "metadata": {},
   "outputs": [
    {
     "data": {
      "image/png": "[encoded data removed]",
      "text/plain": [
       "<Figure size 640x480 with 1 Axes>"
      ]
     },
     "metadata": {},
     "output_type": "display_data"
    }
   ],
   "source": [
    "sns.boxplot(y = filter_kenya) # lets look at outliers \n",
    "plt.show()"
   ]
  },
  {
   "cell_type": "code",
   "execution_count": 67,
   "id": "c9d0e405",
   "metadata": {
    "scrolled": true
   },
   "outputs": [
    {
     "data": {
      "text/plain": [
       "count      25.000000\n",
       "mean     1522.480000\n",
       "std       547.263942\n",
       "min         1.000000\n",
       "25%      1580.000000\n",
       "50%      1754.000000\n",
       "75%      1800.000000\n",
       "max      2000.000000\n",
       "Name: altitude_mean_meters, dtype: float64"
      ]
     },
     "execution_count": 67,
     "metadata": {},
     "output_type": "execute_result"
    }
   ],
   "source": [
    "df[df.country_of_origin == 'Kenya'].altitude_mean_meters.describe()"
   ]
  },
  {
   "cell_type": "code",
   "execution_count": 68,
   "id": "3ef852bd",
   "metadata": {},
   "outputs": [
    {
     "data": {
      "text/plain": [
       "count      25.000000\n",
       "mean     1592.600000\n",
       "std       447.387206\n",
       "min       250.500000\n",
       "25%      1600.000000\n",
       "50%      1754.000000\n",
       "75%      1800.000000\n",
       "max      2000.000000\n",
       "Name: altitude_mean_meters, dtype: float64"
      ]
     },
     "execution_count": 68,
     "metadata": {},
     "output_type": "execute_result"
    }
   ],
   "source": [
    "df.loc[(df.country_of_origin == 'Kenya') & (df.altitude_mean_meters == 1) , 'altitude_mean_meters'] = 1754.000000\n",
    "df[df.country_of_origin == 'Kenya'].altitude_mean_meters.describe()"
   ]
  },
  {
   "cell_type": "code",
   "execution_count": 69,
   "id": "e32f8c24",
   "metadata": {},
   "outputs": [
    {
     "data": {
      "text/plain": [
       "count      25.000000\n",
       "mean     1712.880000\n",
       "std       192.752069\n",
       "min      1200.000000\n",
       "25%      1650.000000\n",
       "50%      1754.000000\n",
       "75%      1800.000000\n",
       "max      2000.000000\n",
       "Name: altitude_mean_meters, dtype: float64"
      ]
     },
     "execution_count": 69,
     "metadata": {},
     "output_type": "execute_result"
    }
   ],
   "source": [
    "df.loc[(df.country_of_origin == 'Kenya') & (df.altitude_mean_meters == 250.5 ) , 'altitude_mean_meters'] =  1754.000000\n",
    "df[df.country_of_origin == 'Kenya']['altitude_mean_meters'].describe()"
   ]
  },
  {
   "cell_type": "code",
   "execution_count": 70,
   "id": "3d4bf078",
   "metadata": {},
   "outputs": [
    {
     "data": {
      "text/plain": [
       "<AxesSubplot: >"
      ]
     },
     "execution_count": 70,
     "metadata": {},
     "output_type": "execute_result"
    },
    {
     "data": {
      "image/png": "[encoded data removed]",
      "text/plain": [
       "<Figure size 640x480 with 1 Axes>"
      ]
     },
     "metadata": {},
     "output_type": "display_data"
    }
   ],
   "source": [
    "df[df.country_of_origin == 'Kenya'].altitude_mean_meters.hist(bins = 25)"
   ]
  },
  {
   "cell_type": "code",
   "execution_count": 71,
   "id": "18139aea",
   "metadata": {},
   "outputs": [
    {
     "data": {
      "text/plain": [
       "<AxesSubplot: ylabel='Density'>"
      ]
     },
     "execution_count": 71,
     "metadata": {},
     "output_type": "execute_result"
    },
    {
     "data": {
      "image/png": "[encoded data removed]",
      "text/plain": [
       "<Figure size 640x480 with 1 Axes>"
      ]
     },
     "metadata": {},
     "output_type": "display_data"
    }
   ],
   "source": [
    "filter_kenya  = df[df.country_of_origin == 'Kenya'].altitude_mean_meters\n",
    "filter_kenya.plot.kde()"
   ]
  },
  {
   "cell_type": "code",
   "execution_count": 72,
   "id": "4467ed40",
   "metadata": {},
   "outputs": [
    {
     "data": {
      "text/plain": [
       "count     132.000000\n",
       "mean      937.583333\n",
       "std       342.659286\n",
       "min         1.000000\n",
       "25%       905.000000\n",
       "50%      1000.000000\n",
       "75%      1100.000000\n",
       "max      1300.000000\n",
       "Name: altitude_mean_meters, dtype: float64"
      ]
     },
     "execution_count": 72,
     "metadata": {},
     "output_type": "execute_result"
    }
   ],
   "source": [
    "df[df.country_of_origin == 'Brazil'].altitude_mean_meters.describe() # Brazil "
   ]
  },
  {
   "cell_type": "code",
   "execution_count": 73,
   "id": "11a389c3",
   "metadata": {},
   "outputs": [],
   "source": [
    "df.loc[(df.country_of_origin == 'Brazil') & (df.altitude_mean_meters  == 1 ), 'altitude_mean_meters'] = 1000"
   ]
  },
  {
   "cell_type": "code",
   "execution_count": 74,
   "id": "214c5cd3",
   "metadata": {},
   "outputs": [
    {
     "data": {
      "text/plain": [
       "count     132.000000\n",
       "mean     1020.833333\n",
       "std       192.618831\n",
       "min        12.000000\n",
       "25%       967.250000\n",
       "50%      1000.000000\n",
       "75%      1100.000000\n",
       "max      1300.000000\n",
       "Name: altitude_mean_meters, dtype: float64"
      ]
     },
     "execution_count": 74,
     "metadata": {},
     "output_type": "execute_result"
    }
   ],
   "source": [
    "df[df.country_of_origin == 'Brazil'].altitude_mean_meters.describe()"
   ]
  },
  {
   "cell_type": "code",
   "execution_count": 75,
   "id": "1b7babd5",
   "metadata": {},
   "outputs": [
    {
     "data": {
      "text/plain": [
       "<AxesSubplot: ylabel='Density'>"
      ]
     },
     "execution_count": 75,
     "metadata": {},
     "output_type": "execute_result"
    },
    {
     "data": {
      "image/png": "[encoded data removed]",
      "text/plain": [
       "<Figure size 640x480 with 1 Axes>"
      ]
     },
     "metadata": {},
     "output_type": "display_data"
    }
   ],
   "source": [
    "filter_brazil  = df[df.country_of_origin == 'Brazil'].altitude_mean_meters\n",
    "filter_brazil.plot.kde()"
   ]
  },
  {
   "cell_type": "code",
   "execution_count": 76,
   "id": "a24abeb2",
   "metadata": {},
   "outputs": [
    {
     "data": {
      "text/plain": [
       "<AxesSubplot: >"
      ]
     },
     "execution_count": 76,
     "metadata": {},
     "output_type": "execute_result"
    },
    {
     "data": {
      "image/png": "[encoded data removed]",
      "text/plain": [
       "<Figure size 640x480 with 1 Axes>"
      ]
     },
     "metadata": {},
     "output_type": "display_data"
    }
   ],
   "source": [
    "filter_brazil.hist()"
   ]
  },
  {
   "cell_type": "code",
   "execution_count": 77,
   "id": "29f75c67",
   "metadata": {},
   "outputs": [],
   "source": [
    "df.loc[(df.country_of_origin == 'Brazil') & (df.altitude_mean_meters  < 800 ), 'altitude_mean_meters'] = 1000"
   ]
  },
  {
   "cell_type": "code",
   "execution_count": 78,
   "id": "743c5ea4",
   "metadata": {},
   "outputs": [
    {
     "data": {
      "text/plain": [
       "count     132.000000\n",
       "mean     1044.742424\n",
       "std       118.594464\n",
       "min       872.000000\n",
       "25%       998.750000\n",
       "50%      1000.000000\n",
       "75%      1100.000000\n",
       "max      1300.000000\n",
       "Name: altitude_mean_meters, dtype: float64"
      ]
     },
     "execution_count": 78,
     "metadata": {},
     "output_type": "execute_result"
    }
   ],
   "source": [
    "df[df.country_of_origin == 'Brazil'].altitude_mean_meters.describe()"
   ]
  },
  {
   "cell_type": "code",
   "execution_count": 79,
   "id": "1352f486",
   "metadata": {},
   "outputs": [
    {
     "data": {
      "text/plain": [
       "<AxesSubplot: >"
      ]
     },
     "execution_count": 79,
     "metadata": {},
     "output_type": "execute_result"
    },
    {
     "data": {
      "image/png": "[encoded data removed]",
      "text/plain": [
       "<Figure size 640x480 with 1 Axes>"
      ]
     },
     "metadata": {},
     "output_type": "display_data"
    }
   ],
   "source": [
    "df[df.country_of_origin == 'Brazil'].altitude_mean_meters.hist() "
   ]
  },
  {
   "cell_type": "code",
   "execution_count": 80,
   "id": "d4790c0d",
   "metadata": {},
   "outputs": [
    {
     "data": {
      "text/plain": [
       "count    1309.000000\n",
       "mean     1300.632402\n",
       "std       449.506302\n",
       "min        12.000000\n",
       "25%      1038.500000\n",
       "50%      1310.640000\n",
       "75%      1600.000000\n",
       "max      4287.000000\n",
       "Name: altitude_mean_meters, dtype: float64"
      ]
     },
     "execution_count": 80,
     "metadata": {},
     "output_type": "execute_result"
    }
   ],
   "source": [
    "df.altitude_mean_meters.describe()"
   ]
  },
  {
   "cell_type": "code",
   "execution_count": 81,
   "id": "bd53755e",
   "metadata": {},
   "outputs": [
    {
     "data": {
      "text/html": [
       "<div>\n",
       "<style scoped>\n",
       "    .dataframe tbody tr th:only-of-type {\n",
       "        vertical-align: middle;\n",
       "    }\n",
       "\n",
       "    .dataframe tbody tr th {\n",
       "        vertical-align: top;\n",
       "    }\n",
       "\n",
       "    .dataframe thead th {\n",
       "        text-align: right;\n",
       "    }\n",
       "</style>\n",
       "<table border=\"1\" class=\"dataframe\">\n",
       "  <thead>\n",
       "    <tr style=\"text-align: right;\">\n",
       "      <th></th>\n",
       "      <th>owner</th>\n",
       "      <th>country_of_origin</th>\n",
       "      <th>variety</th>\n",
       "      <th>processing_method</th>\n",
       "      <th>aroma</th>\n",
       "      <th>flavor</th>\n",
       "      <th>aftertaste</th>\n",
       "      <th>acidity</th>\n",
       "      <th>body</th>\n",
       "      <th>balance</th>\n",
       "      <th>uniformity</th>\n",
       "      <th>clean_cup</th>\n",
       "      <th>sweetness</th>\n",
       "      <th>cupper_points</th>\n",
       "      <th>total_cup_points</th>\n",
       "      <th>altitude_mean_meters</th>\n",
       "    </tr>\n",
       "  </thead>\n",
       "  <tbody>\n",
       "    <tr>\n",
       "      <th>1204</th>\n",
       "      <td>juan avenamar rodriguez funez</td>\n",
       "      <td>Mexico</td>\n",
       "      <td>Typica</td>\n",
       "      <td>Washed / Wet</td>\n",
       "      <td>7.17</td>\n",
       "      <td>6.83</td>\n",
       "      <td>6.83</td>\n",
       "      <td>7.25</td>\n",
       "      <td>7.17</td>\n",
       "      <td>6.92</td>\n",
       "      <td>10.0</td>\n",
       "      <td>10.0</td>\n",
       "      <td>10.0</td>\n",
       "      <td>6.83</td>\n",
       "      <td>79.0</td>\n",
       "      <td>12.0</td>\n",
       "    </tr>\n",
       "  </tbody>\n",
       "</table>\n",
       "</div>"
      ],
      "text/plain": [
       "                              owner country_of_origin variety  \\\n",
       "1204  juan avenamar rodriguez funez            Mexico  Typica   \n",
       "\n",
       "     processing_method  aroma  flavor  aftertaste  acidity  body  balance  \\\n",
       "1204      Washed / Wet   7.17    6.83        6.83     7.25  7.17     6.92   \n",
       "\n",
       "      uniformity  clean_cup  sweetness  cupper_points  total_cup_points  \\\n",
       "1204        10.0       10.0       10.0           6.83              79.0   \n",
       "\n",
       "      altitude_mean_meters  \n",
       "1204                  12.0  "
      ]
     },
     "execution_count": 81,
     "metadata": {},
     "output_type": "execute_result"
    }
   ],
   "source": [
    "df[df.altitude_mean_meters == 12 ] # still hamve some min() value wrong "
   ]
  },
  {
   "cell_type": "code",
   "execution_count": 82,
   "id": "f89faa48",
   "metadata": {},
   "outputs": [
    {
     "data": {
      "text/plain": [
       "count     236.000000\n",
       "mean     1235.610169\n",
       "std       263.481907\n",
       "min        12.000000\n",
       "25%      1100.000000\n",
       "50%      1250.000000\n",
       "75%      1400.000000\n",
       "max      1800.000000\n",
       "Name: altitude_mean_meters, dtype: float64"
      ]
     },
     "execution_count": 82,
     "metadata": {},
     "output_type": "execute_result"
    }
   ],
   "source": [
    "df[df.country_of_origin == 'Mexico'].altitude_mean_meters.describe()"
   ]
  },
  {
   "cell_type": "code",
   "execution_count": 83,
   "id": "25e6cf65",
   "metadata": {},
   "outputs": [
    {
     "data": {
      "text/plain": [
       "<AxesSubplot: >"
      ]
     },
     "execution_count": 83,
     "metadata": {},
     "output_type": "execute_result"
    },
    {
     "data": {
      "image/png": "[encoded data removed]",
      "text/plain": [
       "<Figure size 640x480 with 1 Axes>"
      ]
     },
     "metadata": {},
     "output_type": "display_data"
    }
   ],
   "source": [
    "df[df.country_of_origin == 'Mexico'].altitude_mean_meters.hist()"
   ]
  },
  {
   "cell_type": "code",
   "execution_count": 84,
   "id": "0a2ac263",
   "metadata": {},
   "outputs": [],
   "source": [
    "df.loc[(df.country_of_origin == 'Mexico') & (df.altitude_mean_meters  < 800 ), 'altitude_mean_meters'] = 1250 # decision is to replace all the value below 800 with median value"
   ]
  },
  {
   "cell_type": "code",
   "execution_count": 85,
   "id": "0ab230a8",
   "metadata": {},
   "outputs": [
    {
     "data": {
      "text/plain": [
       "<AxesSubplot: >"
      ]
     },
     "execution_count": 85,
     "metadata": {},
     "output_type": "execute_result"
    },
    {
     "data": {
      "image/png": "[encoded data removed]",
      "text/plain": [
       "<Figure size 640x480 with 1 Axes>"
      ]
     },
     "metadata": {},
     "output_type": "display_data"
    }
   ],
   "source": [
    "df[df.country_of_origin == 'Mexico'].altitude_mean_meters.hist()"
   ]
  },
  {
   "cell_type": "code",
   "execution_count": 86,
   "id": "1bf3cae8",
   "metadata": {},
   "outputs": [
    {
     "data": {
      "text/plain": [
       "count    1309.000000\n",
       "mean     1306.938743\n",
       "std       443.246601\n",
       "min        13.000000\n",
       "25%      1050.000000\n",
       "50%      1310.640000\n",
       "75%      1600.000000\n",
       "max      4287.000000\n",
       "Name: altitude_mean_meters, dtype: float64"
      ]
     },
     "execution_count": 86,
     "metadata": {},
     "output_type": "execute_result"
    }
   ],
   "source": [
    "df.altitude_mean_meters.describe()"
   ]
  },
  {
   "cell_type": "code",
   "execution_count": 87,
   "id": "61ab63ae",
   "metadata": {},
   "outputs": [
    {
     "data": {
      "text/plain": [
       "array(['Hawaii', 'Taiwan', 'Japan', 'Colombia', 'Tanzania', 'Costa Rica',\n",
       "       'Mauritius', 'Cote d?Ivoire', 'Haiti'], dtype=object)"
      ]
     },
     "execution_count": 87,
     "metadata": {},
     "output_type": "execute_result"
    }
   ],
   "source": [
    "df[df.altitude_mean_meters < 800].country_of_origin.unique() # still a lot of values are somehow wrong - I dont want to delete those records"
   ]
  },
  {
   "cell_type": "code",
   "execution_count": 88,
   "id": "8172c821",
   "metadata": {},
   "outputs": [
    {
     "data": {
      "text/plain": [
       "count     73.00\n",
       "mean     518.16\n",
       "std       15.24\n",
       "min      426.72\n",
       "25%      518.16\n",
       "50%      518.16\n",
       "75%      518.16\n",
       "max      609.60\n",
       "Name: altitude_mean_meters, dtype: float64"
      ]
     },
     "execution_count": 88,
     "metadata": {},
     "output_type": "execute_result"
    }
   ],
   "source": [
    "df[df.country_of_origin == 'Hawaii'].altitude_mean_meters.describe() # island with few area to grow coffee -"
   ]
  },
  {
   "cell_type": "code",
   "execution_count": 89,
   "id": "feca539e",
   "metadata": {},
   "outputs": [
    {
     "data": {
      "text/plain": [
       "count      75.000000\n",
       "mean      730.653333\n",
       "std       317.341895\n",
       "min        50.000000\n",
       "25%       600.000000\n",
       "50%       750.000000\n",
       "75%       984.000000\n",
       "max      1300.000000\n",
       "Name: altitude_mean_meters, dtype: float64"
      ]
     },
     "execution_count": 89,
     "metadata": {},
     "output_type": "execute_result"
    }
   ],
   "source": [
    "df[df.country_of_origin == 'Taiwan'].altitude_mean_meters.describe()"
   ]
  },
  {
   "cell_type": "code",
   "execution_count": 90,
   "id": "23b21843",
   "metadata": {},
   "outputs": [
    {
     "data": {
      "text/plain": [
       "<AxesSubplot: >"
      ]
     },
     "execution_count": 90,
     "metadata": {},
     "output_type": "execute_result"
    },
    {
     "data": {
      "image/png": "[encoded data removed]",
      "text/plain": [
       "<Figure size 640x480 with 1 Axes>"
      ]
     },
     "metadata": {},
     "output_type": "display_data"
    }
   ],
   "source": [
    "df[df.country_of_origin == 'Taiwan'].altitude_mean_meters.hist()"
   ]
  },
  {
   "cell_type": "code",
   "execution_count": 91,
   "id": "00bb1dd5",
   "metadata": {},
   "outputs": [
    {
     "data": {
      "text/html": [
       "<div>\n",
       "<style scoped>\n",
       "    .dataframe tbody tr th:only-of-type {\n",
       "        vertical-align: middle;\n",
       "    }\n",
       "\n",
       "    .dataframe tbody tr th {\n",
       "        vertical-align: top;\n",
       "    }\n",
       "\n",
       "    .dataframe thead th {\n",
       "        text-align: right;\n",
       "    }\n",
       "</style>\n",
       "<table border=\"1\" class=\"dataframe\">\n",
       "  <thead>\n",
       "    <tr style=\"text-align: right;\">\n",
       "      <th></th>\n",
       "      <th>owner</th>\n",
       "      <th>country_of_origin</th>\n",
       "      <th>variety</th>\n",
       "      <th>processing_method</th>\n",
       "      <th>aroma</th>\n",
       "      <th>flavor</th>\n",
       "      <th>aftertaste</th>\n",
       "      <th>acidity</th>\n",
       "      <th>body</th>\n",
       "      <th>balance</th>\n",
       "      <th>uniformity</th>\n",
       "      <th>clean_cup</th>\n",
       "      <th>sweetness</th>\n",
       "      <th>cupper_points</th>\n",
       "      <th>total_cup_points</th>\n",
       "      <th>altitude_mean_meters</th>\n",
       "    </tr>\n",
       "  </thead>\n",
       "  <tbody>\n",
       "    <tr>\n",
       "      <th>116</th>\n",
       "      <td>lin, che-hao krude 林哲豪</td>\n",
       "      <td>Taiwan</td>\n",
       "      <td>Typica</td>\n",
       "      <td>Natural / Dry</td>\n",
       "      <td>7.92</td>\n",
       "      <td>7.58</td>\n",
       "      <td>7.83</td>\n",
       "      <td>7.83</td>\n",
       "      <td>7.83</td>\n",
       "      <td>7.83</td>\n",
       "      <td>10.0</td>\n",
       "      <td>10.0</td>\n",
       "      <td>10.0</td>\n",
       "      <td>8.00</td>\n",
       "      <td>84.83</td>\n",
       "      <td>350.0</td>\n",
       "    </tr>\n",
       "    <tr>\n",
       "      <th>281</th>\n",
       "      <td>lin, che-hao krude 林哲豪</td>\n",
       "      <td>Taiwan</td>\n",
       "      <td>Typica</td>\n",
       "      <td>Washed / Wet</td>\n",
       "      <td>7.67</td>\n",
       "      <td>7.75</td>\n",
       "      <td>7.67</td>\n",
       "      <td>7.75</td>\n",
       "      <td>7.42</td>\n",
       "      <td>7.75</td>\n",
       "      <td>10.0</td>\n",
       "      <td>10.0</td>\n",
       "      <td>10.0</td>\n",
       "      <td>7.83</td>\n",
       "      <td>83.83</td>\n",
       "      <td>525.0</td>\n",
       "    </tr>\n",
       "    <tr>\n",
       "      <th>537</th>\n",
       "      <td>lin, che-hao krude 林哲豪</td>\n",
       "      <td>Taiwan</td>\n",
       "      <td>Caturra</td>\n",
       "      <td>Natural / Dry</td>\n",
       "      <td>7.17</td>\n",
       "      <td>7.83</td>\n",
       "      <td>7.25</td>\n",
       "      <td>7.67</td>\n",
       "      <td>7.67</td>\n",
       "      <td>7.58</td>\n",
       "      <td>10.0</td>\n",
       "      <td>10.0</td>\n",
       "      <td>10.0</td>\n",
       "      <td>7.75</td>\n",
       "      <td>82.92</td>\n",
       "      <td>350.0</td>\n",
       "    </tr>\n",
       "    <tr>\n",
       "      <th>637</th>\n",
       "      <td>cqi taiwan icp cqi台灣合作夥伴</td>\n",
       "      <td>Taiwan</td>\n",
       "      <td>unknown</td>\n",
       "      <td>unknown</td>\n",
       "      <td>7.25</td>\n",
       "      <td>7.25</td>\n",
       "      <td>7.00</td>\n",
       "      <td>7.08</td>\n",
       "      <td>7.00</td>\n",
       "      <td>7.00</td>\n",
       "      <td>10.0</td>\n",
       "      <td>10.0</td>\n",
       "      <td>10.0</td>\n",
       "      <td>10.00</td>\n",
       "      <td>82.58</td>\n",
       "      <td>200.0</td>\n",
       "    </tr>\n",
       "    <tr>\n",
       "      <th>721</th>\n",
       "      <td>cqi taiwan icp cqi台灣合作夥伴</td>\n",
       "      <td>Taiwan</td>\n",
       "      <td>Typica</td>\n",
       "      <td>Semi-washed / Semi-pulped</td>\n",
       "      <td>7.50</td>\n",
       "      <td>7.50</td>\n",
       "      <td>7.50</td>\n",
       "      <td>7.50</td>\n",
       "      <td>7.50</td>\n",
       "      <td>7.50</td>\n",
       "      <td>10.0</td>\n",
       "      <td>10.0</td>\n",
       "      <td>10.0</td>\n",
       "      <td>7.33</td>\n",
       "      <td>82.33</td>\n",
       "      <td>200.0</td>\n",
       "    </tr>\n",
       "    <tr>\n",
       "      <th>886</th>\n",
       "      <td>cqi taiwan icp cqi台灣合作夥伴</td>\n",
       "      <td>Taiwan</td>\n",
       "      <td>Typica</td>\n",
       "      <td>Semi-washed / Semi-pulped</td>\n",
       "      <td>7.50</td>\n",
       "      <td>7.50</td>\n",
       "      <td>7.50</td>\n",
       "      <td>7.25</td>\n",
       "      <td>7.42</td>\n",
       "      <td>7.25</td>\n",
       "      <td>10.0</td>\n",
       "      <td>10.0</td>\n",
       "      <td>10.0</td>\n",
       "      <td>7.25</td>\n",
       "      <td>81.67</td>\n",
       "      <td>150.0</td>\n",
       "    </tr>\n",
       "    <tr>\n",
       "      <th>915</th>\n",
       "      <td>cqi taiwan icp cqi台灣合作夥伴</td>\n",
       "      <td>Taiwan</td>\n",
       "      <td>Typica</td>\n",
       "      <td>Natural / Dry</td>\n",
       "      <td>7.50</td>\n",
       "      <td>7.42</td>\n",
       "      <td>7.33</td>\n",
       "      <td>7.08</td>\n",
       "      <td>7.58</td>\n",
       "      <td>7.25</td>\n",
       "      <td>10.0</td>\n",
       "      <td>10.0</td>\n",
       "      <td>10.0</td>\n",
       "      <td>7.33</td>\n",
       "      <td>81.50</td>\n",
       "      <td>180.0</td>\n",
       "    </tr>\n",
       "    <tr>\n",
       "      <th>939</th>\n",
       "      <td>cqi taiwan icp cqi台灣合作夥伴</td>\n",
       "      <td>Taiwan</td>\n",
       "      <td>Typica</td>\n",
       "      <td>Washed / Wet</td>\n",
       "      <td>7.83</td>\n",
       "      <td>7.75</td>\n",
       "      <td>7.42</td>\n",
       "      <td>7.17</td>\n",
       "      <td>7.08</td>\n",
       "      <td>7.08</td>\n",
       "      <td>10.0</td>\n",
       "      <td>10.0</td>\n",
       "      <td>10.0</td>\n",
       "      <td>7.08</td>\n",
       "      <td>81.42</td>\n",
       "      <td>110.0</td>\n",
       "    </tr>\n",
       "    <tr>\n",
       "      <th>1014</th>\n",
       "      <td>cqi taiwan icp cqi台灣合作夥伴</td>\n",
       "      <td>Taiwan</td>\n",
       "      <td>Other</td>\n",
       "      <td>Washed / Wet</td>\n",
       "      <td>7.33</td>\n",
       "      <td>7.17</td>\n",
       "      <td>7.25</td>\n",
       "      <td>7.33</td>\n",
       "      <td>7.33</td>\n",
       "      <td>7.25</td>\n",
       "      <td>10.0</td>\n",
       "      <td>10.0</td>\n",
       "      <td>10.0</td>\n",
       "      <td>7.25</td>\n",
       "      <td>80.92</td>\n",
       "      <td>200.0</td>\n",
       "    </tr>\n",
       "    <tr>\n",
       "      <th>1022</th>\n",
       "      <td>cqi taiwan icp cqi台灣合作夥伴</td>\n",
       "      <td>Taiwan</td>\n",
       "      <td>Typica</td>\n",
       "      <td>Washed / Wet</td>\n",
       "      <td>7.92</td>\n",
       "      <td>7.67</td>\n",
       "      <td>7.33</td>\n",
       "      <td>7.08</td>\n",
       "      <td>7.08</td>\n",
       "      <td>7.08</td>\n",
       "      <td>10.0</td>\n",
       "      <td>10.0</td>\n",
       "      <td>10.0</td>\n",
       "      <td>6.75</td>\n",
       "      <td>80.92</td>\n",
       "      <td>550.0</td>\n",
       "    </tr>\n",
       "    <tr>\n",
       "      <th>1028</th>\n",
       "      <td>cqi taiwan icp cqi台灣合作夥伴</td>\n",
       "      <td>Taiwan</td>\n",
       "      <td>Typica</td>\n",
       "      <td>Washed / Wet</td>\n",
       "      <td>7.42</td>\n",
       "      <td>7.25</td>\n",
       "      <td>7.25</td>\n",
       "      <td>7.25</td>\n",
       "      <td>7.25</td>\n",
       "      <td>7.25</td>\n",
       "      <td>10.0</td>\n",
       "      <td>10.0</td>\n",
       "      <td>10.0</td>\n",
       "      <td>7.25</td>\n",
       "      <td>80.92</td>\n",
       "      <td>300.0</td>\n",
       "    </tr>\n",
       "    <tr>\n",
       "      <th>1069</th>\n",
       "      <td>cqi taiwan icp cqi台灣合作夥伴</td>\n",
       "      <td>Taiwan</td>\n",
       "      <td>Other</td>\n",
       "      <td>Natural / Dry</td>\n",
       "      <td>7.17</td>\n",
       "      <td>7.17</td>\n",
       "      <td>7.17</td>\n",
       "      <td>7.42</td>\n",
       "      <td>7.17</td>\n",
       "      <td>7.25</td>\n",
       "      <td>10.0</td>\n",
       "      <td>10.0</td>\n",
       "      <td>10.0</td>\n",
       "      <td>7.17</td>\n",
       "      <td>80.50</td>\n",
       "      <td>50.0</td>\n",
       "    </tr>\n",
       "    <tr>\n",
       "      <th>1118</th>\n",
       "      <td>cqi taiwan icp cqi台灣合作夥伴</td>\n",
       "      <td>Taiwan</td>\n",
       "      <td>Typica</td>\n",
       "      <td>Other</td>\n",
       "      <td>7.25</td>\n",
       "      <td>7.25</td>\n",
       "      <td>7.25</td>\n",
       "      <td>7.25</td>\n",
       "      <td>7.08</td>\n",
       "      <td>7.00</td>\n",
       "      <td>10.0</td>\n",
       "      <td>10.0</td>\n",
       "      <td>10.0</td>\n",
       "      <td>7.00</td>\n",
       "      <td>80.08</td>\n",
       "      <td>200.0</td>\n",
       "    </tr>\n",
       "    <tr>\n",
       "      <th>1119</th>\n",
       "      <td>cqi taiwan icp cqi台灣合作夥伴</td>\n",
       "      <td>Taiwan</td>\n",
       "      <td>Typica</td>\n",
       "      <td>Washed / Wet</td>\n",
       "      <td>7.25</td>\n",
       "      <td>7.25</td>\n",
       "      <td>7.25</td>\n",
       "      <td>7.00</td>\n",
       "      <td>7.25</td>\n",
       "      <td>7.08</td>\n",
       "      <td>10.0</td>\n",
       "      <td>10.0</td>\n",
       "      <td>10.0</td>\n",
       "      <td>7.00</td>\n",
       "      <td>80.08</td>\n",
       "      <td>150.0</td>\n",
       "    </tr>\n",
       "    <tr>\n",
       "      <th>1120</th>\n",
       "      <td>cqi taiwan icp cqi台灣合作夥伴</td>\n",
       "      <td>Taiwan</td>\n",
       "      <td>Typica</td>\n",
       "      <td>Semi-washed / Semi-pulped</td>\n",
       "      <td>7.25</td>\n",
       "      <td>7.25</td>\n",
       "      <td>7.25</td>\n",
       "      <td>7.08</td>\n",
       "      <td>7.17</td>\n",
       "      <td>7.08</td>\n",
       "      <td>10.0</td>\n",
       "      <td>10.0</td>\n",
       "      <td>10.0</td>\n",
       "      <td>7.00</td>\n",
       "      <td>80.08</td>\n",
       "      <td>250.0</td>\n",
       "    </tr>\n",
       "    <tr>\n",
       "      <th>1126</th>\n",
       "      <td>cqi taiwan icp cqi台灣合作夥伴</td>\n",
       "      <td>Taiwan</td>\n",
       "      <td>Typica</td>\n",
       "      <td>Washed / Wet</td>\n",
       "      <td>7.25</td>\n",
       "      <td>7.25</td>\n",
       "      <td>7.25</td>\n",
       "      <td>7.00</td>\n",
       "      <td>7.25</td>\n",
       "      <td>7.00</td>\n",
       "      <td>10.0</td>\n",
       "      <td>10.0</td>\n",
       "      <td>10.0</td>\n",
       "      <td>7.00</td>\n",
       "      <td>80.00</td>\n",
       "      <td>250.0</td>\n",
       "    </tr>\n",
       "  </tbody>\n",
       "</table>\n",
       "</div>"
      ],
      "text/plain": [
       "                         owner country_of_origin  variety  \\\n",
       "116     lin, che-hao krude 林哲豪            Taiwan   Typica   \n",
       "281     lin, che-hao krude 林哲豪            Taiwan   Typica   \n",
       "537     lin, che-hao krude 林哲豪            Taiwan  Caturra   \n",
       "637   cqi taiwan icp cqi台灣合作夥伴            Taiwan  unknown   \n",
       "721   cqi taiwan icp cqi台灣合作夥伴            Taiwan   Typica   \n",
       "886   cqi taiwan icp cqi台灣合作夥伴            Taiwan   Typica   \n",
       "915   cqi taiwan icp cqi台灣合作夥伴            Taiwan   Typica   \n",
       "939   cqi taiwan icp cqi台灣合作夥伴            Taiwan   Typica   \n",
       "1014  cqi taiwan icp cqi台灣合作夥伴            Taiwan    Other   \n",
       "1022  cqi taiwan icp cqi台灣合作夥伴            Taiwan   Typica   \n",
       "1028  cqi taiwan icp cqi台灣合作夥伴            Taiwan   Typica   \n",
       "1069  cqi taiwan icp cqi台灣合作夥伴            Taiwan    Other   \n",
       "1118  cqi taiwan icp cqi台灣合作夥伴            Taiwan   Typica   \n",
       "1119  cqi taiwan icp cqi台灣合作夥伴            Taiwan   Typica   \n",
       "1120  cqi taiwan icp cqi台灣合作夥伴            Taiwan   Typica   \n",
       "1126  cqi taiwan icp cqi台灣合作夥伴            Taiwan   Typica   \n",
       "\n",
       "              processing_method  aroma  flavor  aftertaste  acidity  body  \\\n",
       "116               Natural / Dry   7.92    7.58        7.83     7.83  7.83   \n",
       "281                Washed / Wet   7.67    7.75        7.67     7.75  7.42   \n",
       "537               Natural / Dry   7.17    7.83        7.25     7.67  7.67   \n",
       "637                     unknown   7.25    7.25        7.00     7.08  7.00   \n",
       "721   Semi-washed / Semi-pulped   7.50    7.50        7.50     7.50  7.50   \n",
       "886   Semi-washed / Semi-pulped   7.50    7.50        7.50     7.25  7.42   \n",
       "915               Natural / Dry   7.50    7.42        7.33     7.08  7.58   \n",
       "939                Washed / Wet   7.83    7.75        7.42     7.17  7.08   \n",
       "1014               Washed / Wet   7.33    7.17        7.25     7.33  7.33   \n",
       "1022               Washed / Wet   7.92    7.67        7.33     7.08  7.08   \n",
       "1028               Washed / Wet   7.42    7.25        7.25     7.25  7.25   \n",
       "1069              Natural / Dry   7.17    7.17        7.17     7.42  7.17   \n",
       "1118                      Other   7.25    7.25        7.25     7.25  7.08   \n",
       "1119               Washed / Wet   7.25    7.25        7.25     7.00  7.25   \n",
       "1120  Semi-washed / Semi-pulped   7.25    7.25        7.25     7.08  7.17   \n",
       "1126               Washed / Wet   7.25    7.25        7.25     7.00  7.25   \n",
       "\n",
       "      balance  uniformity  clean_cup  sweetness  cupper_points  \\\n",
       "116      7.83        10.0       10.0       10.0           8.00   \n",
       "281      7.75        10.0       10.0       10.0           7.83   \n",
       "537      7.58        10.0       10.0       10.0           7.75   \n",
       "637      7.00        10.0       10.0       10.0          10.00   \n",
       "721      7.50        10.0       10.0       10.0           7.33   \n",
       "886      7.25        10.0       10.0       10.0           7.25   \n",
       "915      7.25        10.0       10.0       10.0           7.33   \n",
       "939      7.08        10.0       10.0       10.0           7.08   \n",
       "1014     7.25        10.0       10.0       10.0           7.25   \n",
       "1022     7.08        10.0       10.0       10.0           6.75   \n",
       "1028     7.25        10.0       10.0       10.0           7.25   \n",
       "1069     7.25        10.0       10.0       10.0           7.17   \n",
       "1118     7.00        10.0       10.0       10.0           7.00   \n",
       "1119     7.08        10.0       10.0       10.0           7.00   \n",
       "1120     7.08        10.0       10.0       10.0           7.00   \n",
       "1126     7.00        10.0       10.0       10.0           7.00   \n",
       "\n",
       "      total_cup_points  altitude_mean_meters  \n",
       "116              84.83                 350.0  \n",
       "281              83.83                 525.0  \n",
       "537              82.92                 350.0  \n",
       "637              82.58                 200.0  \n",
       "721              82.33                 200.0  \n",
       "886              81.67                 150.0  \n",
       "915              81.50                 180.0  \n",
       "939              81.42                 110.0  \n",
       "1014             80.92                 200.0  \n",
       "1022             80.92                 550.0  \n",
       "1028             80.92                 300.0  \n",
       "1069             80.50                  50.0  \n",
       "1118             80.08                 200.0  \n",
       "1119             80.08                 150.0  \n",
       "1120             80.08                 250.0  \n",
       "1126             80.00                 250.0  "
      ]
     },
     "execution_count": 91,
     "metadata": {},
     "output_type": "execute_result"
    }
   ],
   "source": [
    "df.loc[(df.country_of_origin == 'Taiwan') & (df.altitude_mean_meters < 600)] # I dont know nothing about coffee from Taiwan - in fact it is an island with limited area for coffee "
   ]
  },
  {
   "cell_type": "code",
   "execution_count": 92,
   "id": "6c68bbee",
   "metadata": {},
   "outputs": [
    {
     "data": {
      "text/plain": [
       "count     183.000000\n",
       "mean     1615.278689\n",
       "std       441.900558\n",
       "min       165.000000\n",
       "25%      1600.000000\n",
       "50%      1750.000000\n",
       "75%      1775.000000\n",
       "max      3850.000000\n",
       "Name: altitude_mean_meters, dtype: float64"
      ]
     },
     "execution_count": 92,
     "metadata": {},
     "output_type": "execute_result"
    }
   ],
   "source": [
    "df[df.country_of_origin == 'Colombia'].altitude_mean_meters.describe() # "
   ]
  },
  {
   "cell_type": "code",
   "execution_count": 93,
   "id": "2b1bb806",
   "metadata": {},
   "outputs": [],
   "source": [
    "df.loc[(df.country_of_origin == 'Colombia') & (df.altitude_mean_meters < 1000 ), 'altitude_mean_meters'] = 1750"
   ]
  },
  {
   "cell_type": "code",
   "execution_count": 94,
   "id": "c9fafbda",
   "metadata": {},
   "outputs": [
    {
     "data": {
      "text/plain": [
       "count     183.000000\n",
       "mean     1725.480874\n",
       "std       251.476013\n",
       "min      1000.000000\n",
       "25%      1700.000000\n",
       "50%      1750.000000\n",
       "75%      1775.000000\n",
       "max      3850.000000\n",
       "Name: altitude_mean_meters, dtype: float64"
      ]
     },
     "execution_count": 94,
     "metadata": {},
     "output_type": "execute_result"
    }
   ],
   "source": [
    "df[df.country_of_origin == 'Colombia'].altitude_mean_meters.describe()"
   ]
  },
  {
   "cell_type": "code",
   "execution_count": 95,
   "id": "d509c1da",
   "metadata": {},
   "outputs": [
    {
     "data": {
      "text/plain": [
       "<AxesSubplot: >"
      ]
     },
     "execution_count": 95,
     "metadata": {},
     "output_type": "execute_result"
    },
    {
     "data": {
      "image/png": "[encoded data removed]",
      "text/plain": [
       "<Figure size 640x480 with 1 Axes>"
      ]
     },
     "metadata": {},
     "output_type": "display_data"
    }
   ],
   "source": [
    "df[df.country_of_origin == 'Colombia'].altitude_mean_meters.hist()"
   ]
  },
  {
   "cell_type": "code",
   "execution_count": 96,
   "id": "f3bad0e3",
   "metadata": {},
   "outputs": [],
   "source": [
    "df.loc[(df.country_of_origin == 'Colombia') & (df.altitude_mean_meters == 3850), 'altitude_mean_meters'] = 1750"
   ]
  },
  {
   "cell_type": "code",
   "execution_count": 97,
   "id": "09a5afa7",
   "metadata": {},
   "outputs": [
    {
     "data": {
      "text/plain": [
       "<AxesSubplot: >"
      ]
     },
     "execution_count": 97,
     "metadata": {},
     "output_type": "execute_result"
    },
    {
     "data": {
      "image/png": "[encoded data removed]",
      "text/plain": [
       "<Figure size 640x480 with 1 Axes>"
      ]
     },
     "metadata": {},
     "output_type": "display_data"
    }
   ],
   "source": [
    "df[df.country_of_origin == 'Colombia'].altitude_mean_meters.hist()"
   ]
  },
  {
   "cell_type": "code",
   "execution_count": 98,
   "id": "9b7cb38a",
   "metadata": {},
   "outputs": [
    {
     "data": {
      "text/plain": [
       "count      51.000000\n",
       "mean     1372.278431\n",
       "std       415.096984\n",
       "min        13.000000\n",
       "25%      1300.000000\n",
       "50%      1300.000000\n",
       "75%      1700.000000\n",
       "max      1900.000000\n",
       "Name: altitude_mean_meters, dtype: float64"
      ]
     },
     "execution_count": 98,
     "metadata": {},
     "output_type": "execute_result"
    }
   ],
   "source": [
    "df[df.country_of_origin == 'Costa Rica'].altitude_mean_meters.describe()"
   ]
  },
  {
   "cell_type": "code",
   "execution_count": 99,
   "id": "f624cda5",
   "metadata": {},
   "outputs": [
    {
     "data": {
      "text/html": [
       "<div>\n",
       "<style scoped>\n",
       "    .dataframe tbody tr th:only-of-type {\n",
       "        vertical-align: middle;\n",
       "    }\n",
       "\n",
       "    .dataframe tbody tr th {\n",
       "        vertical-align: top;\n",
       "    }\n",
       "\n",
       "    .dataframe thead th {\n",
       "        text-align: right;\n",
       "    }\n",
       "</style>\n",
       "<table border=\"1\" class=\"dataframe\">\n",
       "  <thead>\n",
       "    <tr style=\"text-align: right;\">\n",
       "      <th></th>\n",
       "      <th>owner</th>\n",
       "      <th>country_of_origin</th>\n",
       "      <th>variety</th>\n",
       "      <th>processing_method</th>\n",
       "      <th>aroma</th>\n",
       "      <th>flavor</th>\n",
       "      <th>aftertaste</th>\n",
       "      <th>acidity</th>\n",
       "      <th>body</th>\n",
       "      <th>balance</th>\n",
       "      <th>uniformity</th>\n",
       "      <th>clean_cup</th>\n",
       "      <th>sweetness</th>\n",
       "      <th>cupper_points</th>\n",
       "      <th>total_cup_points</th>\n",
       "      <th>altitude_mean_meters</th>\n",
       "    </tr>\n",
       "  </thead>\n",
       "  <tbody>\n",
       "    <tr>\n",
       "      <th>786</th>\n",
       "      <td>ceca, s.a.</td>\n",
       "      <td>Costa Rica</td>\n",
       "      <td>Caturra</td>\n",
       "      <td>Washed / Wet</td>\n",
       "      <td>7.58</td>\n",
       "      <td>7.33</td>\n",
       "      <td>7.33</td>\n",
       "      <td>7.33</td>\n",
       "      <td>7.50</td>\n",
       "      <td>7.67</td>\n",
       "      <td>10.0</td>\n",
       "      <td>10.0</td>\n",
       "      <td>10.0</td>\n",
       "      <td>7.33</td>\n",
       "      <td>82.08</td>\n",
       "      <td>13.0</td>\n",
       "    </tr>\n",
       "    <tr>\n",
       "      <th>899</th>\n",
       "      <td>ceca, s.a.</td>\n",
       "      <td>Costa Rica</td>\n",
       "      <td>Caturra</td>\n",
       "      <td>Washed / Wet</td>\n",
       "      <td>7.58</td>\n",
       "      <td>7.42</td>\n",
       "      <td>7.50</td>\n",
       "      <td>7.17</td>\n",
       "      <td>7.08</td>\n",
       "      <td>7.58</td>\n",
       "      <td>10.0</td>\n",
       "      <td>10.0</td>\n",
       "      <td>10.0</td>\n",
       "      <td>7.25</td>\n",
       "      <td>81.58</td>\n",
       "      <td>13.0</td>\n",
       "    </tr>\n",
       "  </tbody>\n",
       "</table>\n",
       "</div>"
      ],
      "text/plain": [
       "          owner country_of_origin  variety processing_method  aroma  flavor  \\\n",
       "786  ceca, s.a.        Costa Rica  Caturra      Washed / Wet   7.58    7.33   \n",
       "899  ceca, s.a.        Costa Rica  Caturra      Washed / Wet   7.58    7.42   \n",
       "\n",
       "     aftertaste  acidity  body  balance  uniformity  clean_cup  sweetness  \\\n",
       "786        7.33     7.33  7.50     7.67        10.0       10.0       10.0   \n",
       "899        7.50     7.17  7.08     7.58        10.0       10.0       10.0   \n",
       "\n",
       "     cupper_points  total_cup_points  altitude_mean_meters  \n",
       "786           7.33             82.08                  13.0  \n",
       "899           7.25             81.58                  13.0  "
      ]
     },
     "execution_count": 99,
     "metadata": {},
     "output_type": "execute_result"
    }
   ],
   "source": [
    "df[(df.country_of_origin == 'Costa Rica') & (df.altitude_mean_meters == 13)]"
   ]
  },
  {
   "cell_type": "code",
   "execution_count": 100,
   "id": "efa15b0f",
   "metadata": {},
   "outputs": [],
   "source": [
    "df.loc[(df.country_of_origin == 'Costa Rica') & (df.altitude_mean_meters == 13), 'altitude_mean_meters' ] = 1300 #  min to median "
   ]
  },
  {
   "cell_type": "code",
   "execution_count": 101,
   "id": "aac0e400",
   "metadata": {},
   "outputs": [
    {
     "data": {
      "text/plain": [
       "count      51.000000\n",
       "mean     1422.749020\n",
       "std       309.855987\n",
       "min       185.000000\n",
       "25%      1300.000000\n",
       "50%      1300.000000\n",
       "75%      1700.000000\n",
       "max      1900.000000\n",
       "Name: altitude_mean_meters, dtype: float64"
      ]
     },
     "execution_count": 101,
     "metadata": {},
     "output_type": "execute_result"
    }
   ],
   "source": [
    "df[df.country_of_origin == 'Costa Rica'].altitude_mean_meters.describe()"
   ]
  },
  {
   "cell_type": "code",
   "execution_count": 102,
   "id": "ea0e53da",
   "metadata": {},
   "outputs": [],
   "source": [
    "df.loc[(df.country_of_origin == 'Costa Rica') & (df.altitude_mean_meters == 185), 'altitude_mean_meters'] = 1300"
   ]
  },
  {
   "cell_type": "code",
   "execution_count": 103,
   "id": "ca5b87a3",
   "metadata": {},
   "outputs": [
    {
     "data": {
      "text/plain": [
       "<AxesSubplot: >"
      ]
     },
     "execution_count": 103,
     "metadata": {},
     "output_type": "execute_result"
    },
    {
     "data": {
      "image/png": "[encoded data removed]",
      "text/plain": [
       "<Figure size 640x480 with 1 Axes>"
      ]
     },
     "metadata": {},
     "output_type": "display_data"
    }
   ],
   "source": [
    "df[df.country_of_origin == 'Costa Rica'].altitude_mean_meters.hist()"
   ]
  },
  {
   "cell_type": "code",
   "execution_count": 104,
   "id": "b4d3f8a7",
   "metadata": {},
   "outputs": [
    {
     "data": {
      "text/plain": [
       "array(['Hawaii', 'Taiwan', 'Japan', 'Tanzania', 'Mauritius',\n",
       "       'Cote d?Ivoire', 'Haiti'], dtype=object)"
      ]
     },
     "execution_count": 104,
     "metadata": {},
     "output_type": "execute_result"
    }
   ],
   "source": [
    "df[df.altitude_mean_meters < 800].country_of_origin.unique() # quick look again "
   ]
  },
  {
   "cell_type": "code",
   "execution_count": 105,
   "id": "f0cbcfb4",
   "metadata": {
    "scrolled": true
   },
   "outputs": [
    {
     "data": {
      "text/html": [
       "<div>\n",
       "<style scoped>\n",
       "    .dataframe tbody tr th:only-of-type {\n",
       "        vertical-align: middle;\n",
       "    }\n",
       "\n",
       "    .dataframe tbody tr th {\n",
       "        vertical-align: top;\n",
       "    }\n",
       "\n",
       "    .dataframe thead th {\n",
       "        text-align: right;\n",
       "    }\n",
       "</style>\n",
       "<table border=\"1\" class=\"dataframe\">\n",
       "  <thead>\n",
       "    <tr style=\"text-align: right;\">\n",
       "      <th></th>\n",
       "      <th>owner</th>\n",
       "      <th>country_of_origin</th>\n",
       "      <th>variety</th>\n",
       "      <th>processing_method</th>\n",
       "      <th>aroma</th>\n",
       "      <th>flavor</th>\n",
       "      <th>aftertaste</th>\n",
       "      <th>acidity</th>\n",
       "      <th>body</th>\n",
       "      <th>balance</th>\n",
       "      <th>uniformity</th>\n",
       "      <th>clean_cup</th>\n",
       "      <th>sweetness</th>\n",
       "      <th>cupper_points</th>\n",
       "      <th>total_cup_points</th>\n",
       "      <th>altitude_mean_meters</th>\n",
       "    </tr>\n",
       "  </thead>\n",
       "  <tbody>\n",
       "    <tr>\n",
       "      <th>128</th>\n",
       "      <td>松澤宏樹 koju matsuzawa</td>\n",
       "      <td>Japan</td>\n",
       "      <td>Mundo Novo</td>\n",
       "      <td>Pulped natural / honey</td>\n",
       "      <td>7.75</td>\n",
       "      <td>7.75</td>\n",
       "      <td>7.75</td>\n",
       "      <td>7.42</td>\n",
       "      <td>8.08</td>\n",
       "      <td>7.83</td>\n",
       "      <td>10.0</td>\n",
       "      <td>10.0</td>\n",
       "      <td>10.0</td>\n",
       "      <td>8.08</td>\n",
       "      <td>84.67</td>\n",
       "      <td>170.0</td>\n",
       "    </tr>\n",
       "  </tbody>\n",
       "</table>\n",
       "</div>"
      ],
      "text/plain": [
       "                   owner country_of_origin     variety  \\\n",
       "128  松澤宏樹 koju matsuzawa             Japan  Mundo Novo   \n",
       "\n",
       "          processing_method  aroma  flavor  aftertaste  acidity  body  \\\n",
       "128  Pulped natural / honey   7.75    7.75        7.75     7.42  8.08   \n",
       "\n",
       "     balance  uniformity  clean_cup  sweetness  cupper_points  \\\n",
       "128     7.83        10.0       10.0       10.0           8.08   \n",
       "\n",
       "     total_cup_points  altitude_mean_meters  \n",
       "128             84.67                 170.0  "
      ]
     },
     "execution_count": 105,
     "metadata": {},
     "output_type": "execute_result"
    }
   ],
   "source": [
    "df[df.country_of_origin == 'Japan'] # one record from Japan - lets delete it "
   ]
  },
  {
   "cell_type": "code",
   "execution_count": 106,
   "id": "d5c369f9",
   "metadata": {},
   "outputs": [],
   "source": [
    "df.drop(index = 128, inplace = True)"
   ]
  },
  {
   "cell_type": "code",
   "execution_count": 107,
   "id": "8b6c0aa5",
   "metadata": {},
   "outputs": [
    {
     "data": {
      "text/plain": [
       "count      40.000000\n",
       "mean     1565.525000\n",
       "std       295.439524\n",
       "min       168.000000\n",
       "25%      1500.000000\n",
       "50%      1600.000000\n",
       "75%      1700.000000\n",
       "max      2285.000000\n",
       "Name: altitude_mean_meters, dtype: float64"
      ]
     },
     "execution_count": 107,
     "metadata": {},
     "output_type": "execute_result"
    }
   ],
   "source": [
    "df[df.country_of_origin == 'Tanzania' ].altitude_mean_meters.describe()"
   ]
  },
  {
   "cell_type": "code",
   "execution_count": 108,
   "id": "1bd17814",
   "metadata": {},
   "outputs": [
    {
     "data": {
      "text/plain": [
       "<AxesSubplot: >"
      ]
     },
     "execution_count": 108,
     "metadata": {},
     "output_type": "execute_result"
    },
    {
     "data": {
      "image/png": "[encoded data removed]",
      "text/plain": [
       "<Figure size 640x480 with 1 Axes>"
      ]
     },
     "metadata": {},
     "output_type": "display_data"
    }
   ],
   "source": [
    "df[df.country_of_origin == 'Tanzania' ].altitude_mean_meters.hist()"
   ]
  },
  {
   "cell_type": "code",
   "execution_count": 109,
   "id": "eda799f8",
   "metadata": {},
   "outputs": [],
   "source": [
    "df.loc[(df.country_of_origin == 'Tanzania') & (df.altitude_mean_meters < 1000), 'altitude_mean_meters'] = 1600"
   ]
  },
  {
   "cell_type": "code",
   "execution_count": 110,
   "id": "a3dc3c93",
   "metadata": {},
   "outputs": [
    {
     "data": {
      "text/plain": [
       "<AxesSubplot: >"
      ]
     },
     "execution_count": 110,
     "metadata": {},
     "output_type": "execute_result"
    },
    {
     "data": {
      "image/png": "[encoded data removed]",
      "text/plain": [
       "<Figure size 640x480 with 1 Axes>"
      ]
     },
     "metadata": {},
     "output_type": "display_data"
    }
   ],
   "source": [
    "df[df.country_of_origin == 'Tanzania' ].altitude_mean_meters.hist()"
   ]
  },
  {
   "cell_type": "code",
   "execution_count": 111,
   "id": "da20ea76",
   "metadata": {},
   "outputs": [
    {
     "data": {
      "text/plain": [
       "count      1.0\n",
       "mean     280.0\n",
       "std        NaN\n",
       "min      280.0\n",
       "25%      280.0\n",
       "50%      280.0\n",
       "75%      280.0\n",
       "max      280.0\n",
       "Name: altitude_mean_meters, dtype: float64"
      ]
     },
     "execution_count": 111,
     "metadata": {},
     "output_type": "execute_result"
    }
   ],
   "source": [
    "df[df.country_of_origin == 'Mauritius'].altitude_mean_meters.describe()"
   ]
  },
  {
   "cell_type": "code",
   "execution_count": 112,
   "id": "f0655551",
   "metadata": {},
   "outputs": [
    {
     "data": {
      "text/html": [
       "<div>\n",
       "<style scoped>\n",
       "    .dataframe tbody tr th:only-of-type {\n",
       "        vertical-align: middle;\n",
       "    }\n",
       "\n",
       "    .dataframe tbody tr th {\n",
       "        vertical-align: top;\n",
       "    }\n",
       "\n",
       "    .dataframe thead th {\n",
       "        text-align: right;\n",
       "    }\n",
       "</style>\n",
       "<table border=\"1\" class=\"dataframe\">\n",
       "  <thead>\n",
       "    <tr style=\"text-align: right;\">\n",
       "      <th></th>\n",
       "      <th>owner</th>\n",
       "      <th>country_of_origin</th>\n",
       "      <th>variety</th>\n",
       "      <th>processing_method</th>\n",
       "      <th>aroma</th>\n",
       "      <th>flavor</th>\n",
       "      <th>aftertaste</th>\n",
       "      <th>acidity</th>\n",
       "      <th>body</th>\n",
       "      <th>balance</th>\n",
       "      <th>uniformity</th>\n",
       "      <th>clean_cup</th>\n",
       "      <th>sweetness</th>\n",
       "      <th>cupper_points</th>\n",
       "      <th>total_cup_points</th>\n",
       "      <th>altitude_mean_meters</th>\n",
       "    </tr>\n",
       "  </thead>\n",
       "  <tbody>\n",
       "    <tr>\n",
       "      <th>1072</th>\n",
       "      <td>case noyale ltd</td>\n",
       "      <td>Mauritius</td>\n",
       "      <td>unknown</td>\n",
       "      <td>unknown</td>\n",
       "      <td>7.25</td>\n",
       "      <td>7.25</td>\n",
       "      <td>7.17</td>\n",
       "      <td>7.17</td>\n",
       "      <td>7.25</td>\n",
       "      <td>7.17</td>\n",
       "      <td>10.0</td>\n",
       "      <td>10.0</td>\n",
       "      <td>10.0</td>\n",
       "      <td>7.25</td>\n",
       "      <td>80.5</td>\n",
       "      <td>280.0</td>\n",
       "    </tr>\n",
       "  </tbody>\n",
       "</table>\n",
       "</div>"
      ],
      "text/plain": [
       "                owner country_of_origin  variety processing_method  aroma  \\\n",
       "1072  case noyale ltd         Mauritius  unknown           unknown   7.25   \n",
       "\n",
       "      flavor  aftertaste  acidity  body  balance  uniformity  clean_cup  \\\n",
       "1072    7.25        7.17     7.17  7.25     7.17        10.0       10.0   \n",
       "\n",
       "      sweetness  cupper_points  total_cup_points  altitude_mean_meters  \n",
       "1072       10.0           7.25              80.5                 280.0  "
      ]
     },
     "execution_count": 112,
     "metadata": {},
     "output_type": "execute_result"
    }
   ],
   "source": [
    "df[df.country_of_origin == 'Mauritius']"
   ]
  },
  {
   "cell_type": "code",
   "execution_count": 113,
   "id": "72fe67f9",
   "metadata": {},
   "outputs": [],
   "source": [
    "df.drop(index=1072, inplace =True)"
   ]
  },
  {
   "cell_type": "code",
   "execution_count": 114,
   "id": "ce9ed387",
   "metadata": {},
   "outputs": [
    {
     "data": {
      "text/html": [
       "<div>\n",
       "<style scoped>\n",
       "    .dataframe tbody tr th:only-of-type {\n",
       "        vertical-align: middle;\n",
       "    }\n",
       "\n",
       "    .dataframe tbody tr th {\n",
       "        vertical-align: top;\n",
       "    }\n",
       "\n",
       "    .dataframe thead th {\n",
       "        text-align: right;\n",
       "    }\n",
       "</style>\n",
       "<table border=\"1\" class=\"dataframe\">\n",
       "  <thead>\n",
       "    <tr style=\"text-align: right;\">\n",
       "      <th></th>\n",
       "      <th>owner</th>\n",
       "      <th>country_of_origin</th>\n",
       "      <th>variety</th>\n",
       "      <th>processing_method</th>\n",
       "      <th>aroma</th>\n",
       "      <th>flavor</th>\n",
       "      <th>aftertaste</th>\n",
       "      <th>acidity</th>\n",
       "      <th>body</th>\n",
       "      <th>balance</th>\n",
       "      <th>uniformity</th>\n",
       "      <th>clean_cup</th>\n",
       "      <th>sweetness</th>\n",
       "      <th>cupper_points</th>\n",
       "      <th>total_cup_points</th>\n",
       "      <th>altitude_mean_meters</th>\n",
       "    </tr>\n",
       "  </thead>\n",
       "  <tbody>\n",
       "    <tr>\n",
       "      <th>1178</th>\n",
       "      <td>rre kunene</td>\n",
       "      <td>Cote d?Ivoire</td>\n",
       "      <td>unknown</td>\n",
       "      <td>Washed / Wet</td>\n",
       "      <td>7.42</td>\n",
       "      <td>7.25</td>\n",
       "      <td>6.83</td>\n",
       "      <td>7.0</td>\n",
       "      <td>7.33</td>\n",
       "      <td>7.08</td>\n",
       "      <td>9.33</td>\n",
       "      <td>10.0</td>\n",
       "      <td>10.0</td>\n",
       "      <td>7.08</td>\n",
       "      <td>79.33</td>\n",
       "      <td>200.0</td>\n",
       "    </tr>\n",
       "  </tbody>\n",
       "</table>\n",
       "</div>"
      ],
      "text/plain": [
       "           owner country_of_origin  variety processing_method  aroma  flavor  \\\n",
       "1178  rre kunene     Cote d?Ivoire  unknown      Washed / Wet   7.42    7.25   \n",
       "\n",
       "      aftertaste  acidity  body  balance  uniformity  clean_cup  sweetness  \\\n",
       "1178        6.83      7.0  7.33     7.08        9.33       10.0       10.0   \n",
       "\n",
       "      cupper_points  total_cup_points  altitude_mean_meters  \n",
       "1178           7.08             79.33                 200.0  "
      ]
     },
     "execution_count": 114,
     "metadata": {},
     "output_type": "execute_result"
    }
   ],
   "source": [
    "df.loc[(df.country_of_origin == 'Cote d?Ivoire')]"
   ]
  },
  {
   "cell_type": "code",
   "execution_count": 115,
   "id": "eccdef3a",
   "metadata": {},
   "outputs": [],
   "source": [
    "df.drop(index = 1178, inplace = True)"
   ]
  },
  {
   "cell_type": "code",
   "execution_count": 116,
   "id": "765c5685",
   "metadata": {},
   "outputs": [
    {
     "data": {
      "text/plain": [
       "count       6.000000\n",
       "mean      883.360000\n",
       "std       310.164565\n",
       "min       350.000000\n",
       "25%       825.000000\n",
       "50%       912.500000\n",
       "75%      1015.000000\n",
       "max      1280.160000\n",
       "Name: altitude_mean_meters, dtype: float64"
      ]
     },
     "execution_count": 116,
     "metadata": {},
     "output_type": "execute_result"
    }
   ],
   "source": [
    "df[df.country_of_origin == 'Haiti'].altitude_mean_meters.describe()"
   ]
  },
  {
   "cell_type": "code",
   "execution_count": 117,
   "id": "c10f7c08",
   "metadata": {},
   "outputs": [
    {
     "data": {
      "text/plain": [
       "<AxesSubplot: >"
      ]
     },
     "execution_count": 117,
     "metadata": {},
     "output_type": "execute_result"
    },
    {
     "data": {
      "image/png": "[encoded data removed]",
      "text/plain": [
       "<Figure size 640x480 with 1 Axes>"
      ]
     },
     "metadata": {},
     "output_type": "display_data"
    }
   ],
   "source": [
    "df[df.country_of_origin == 'Haiti'].altitude_mean_meters.hist()"
   ]
  },
  {
   "cell_type": "code",
   "execution_count": 118,
   "id": "87498928",
   "metadata": {},
   "outputs": [
    {
     "data": {
      "text/plain": [
       "count    1306.000000\n",
       "mean     1327.198174\n",
       "std       421.100684\n",
       "min        50.000000\n",
       "25%      1100.000000\n",
       "50%      1310.640000\n",
       "75%      1600.000000\n",
       "max      4287.000000\n",
       "Name: altitude_mean_meters, dtype: float64"
      ]
     },
     "execution_count": 118,
     "metadata": {},
     "output_type": "execute_result"
    }
   ],
   "source": [
    "df.altitude_mean_meters.describe()"
   ]
  },
  {
   "cell_type": "code",
   "execution_count": 119,
   "id": "f3e573c7",
   "metadata": {},
   "outputs": [
    {
     "data": {
      "text/plain": [
       "<AxesSubplot: >"
      ]
     },
     "execution_count": 119,
     "metadata": {},
     "output_type": "execute_result"
    },
    {
     "data": {
      "image/png": "[encoded data removed]",
      "text/plain": [
       "<Figure size 640x480 with 1 Axes>"
      ]
     },
     "metadata": {},
     "output_type": "display_data"
    }
   ],
   "source": [
    "df.altitude_mean_meters.hist(bins=50)"
   ]
  },
  {
   "cell_type": "code",
   "execution_count": 120,
   "id": "9402095b",
   "metadata": {},
   "outputs": [
    {
     "data": {
      "text/plain": [
       "array(['Hawaii', 'Taiwan', 'Haiti'], dtype=object)"
      ]
     },
     "execution_count": 120,
     "metadata": {},
     "output_type": "execute_result"
    }
   ],
   "source": [
    "df[df.altitude_mean_meters < 800 ].country_of_origin.unique()"
   ]
  },
  {
   "cell_type": "code",
   "execution_count": 121,
   "id": "64c38b7c",
   "metadata": {},
   "outputs": [
    {
     "data": {
      "text/plain": [
       "array(['Colombia', 'Myanmar', 'Indonesia'], dtype=object)"
      ]
     },
     "execution_count": 121,
     "metadata": {},
     "output_type": "execute_result"
    }
   ],
   "source": [
    "df[df.altitude_mean_meters > 2500 ].country_of_origin.unique()"
   ]
  },
  {
   "cell_type": "code",
   "execution_count": 122,
   "id": "77645b08",
   "metadata": {},
   "outputs": [
    {
     "data": {
      "text/plain": [
       "count       8.000000\n",
       "mean     2869.800000\n",
       "std      1503.122556\n",
       "min       914.400000\n",
       "25%      1181.100000\n",
       "50%      3812.500000\n",
       "75%      3884.000000\n",
       "max      4287.000000\n",
       "Name: altitude_mean_meters, dtype: float64"
      ]
     },
     "execution_count": 122,
     "metadata": {},
     "output_type": "execute_result"
    }
   ],
   "source": [
    "df[df.country_of_origin =='Myanmar'].altitude_mean_meters.describe() # its impossible to grow coffee as high as 4200 . What I found is that coffee in Myanmar is growing at avarage 1300 asl"
   ]
  },
  {
   "cell_type": "code",
   "execution_count": 123,
   "id": "60db3a7f",
   "metadata": {},
   "outputs": [
    {
     "data": {
      "text/plain": [
       "<AxesSubplot: >"
      ]
     },
     "execution_count": 123,
     "metadata": {},
     "output_type": "execute_result"
    },
    {
     "data": {
      "image/png": "[encoded data removed]",
      "text/plain": [
       "<Figure size 640x480 with 1 Axes>"
      ]
     },
     "metadata": {},
     "output_type": "display_data"
    }
   ],
   "source": [
    "df[df.country_of_origin =='Myanmar'].altitude_mean_meters.hist() # its impossible to grow coffee as high as 4200 "
   ]
  },
  {
   "cell_type": "code",
   "execution_count": 124,
   "id": "f24f62fe",
   "metadata": {},
   "outputs": [],
   "source": [
    "df.loc[(df.country_of_origin =='Myanmar') & (df.altitude_mean_meters > 2500), 'altitude_mean_meters' ] = 1181.100000"
   ]
  },
  {
   "cell_type": "code",
   "execution_count": 125,
   "id": "a983f901",
   "metadata": {},
   "outputs": [
    {
     "data": {
      "text/plain": [
       "<AxesSubplot: >"
      ]
     },
     "execution_count": 125,
     "metadata": {},
     "output_type": "execute_result"
    },
    {
     "data": {
      "image/png": "[encoded data removed]",
      "text/plain": [
       "<Figure size 640x480 with 1 Axes>"
      ]
     },
     "metadata": {},
     "output_type": "display_data"
    }
   ],
   "source": [
    "df[df.country_of_origin =='Myanmar'].altitude_mean_meters.hist() "
   ]
  },
  {
   "cell_type": "code",
   "execution_count": 126,
   "id": "ad2fa2e8",
   "metadata": {},
   "outputs": [
    {
     "data": {
      "text/plain": [
       "count      20.000000\n",
       "mean     1468.750000\n",
       "std       488.746719\n",
       "min      1200.000000\n",
       "25%      1300.000000\n",
       "50%      1350.000000\n",
       "75%      1425.000000\n",
       "max      3500.000000\n",
       "Name: altitude_mean_meters, dtype: float64"
      ]
     },
     "execution_count": 126,
     "metadata": {},
     "output_type": "execute_result"
    }
   ],
   "source": [
    "df[df.country_of_origin =='Indonesia'].altitude_mean_meters.describe() "
   ]
  },
  {
   "cell_type": "code",
   "execution_count": 127,
   "id": "9455836b",
   "metadata": {},
   "outputs": [
    {
     "data": {
      "text/plain": [
       "<AxesSubplot: >"
      ]
     },
     "execution_count": 127,
     "metadata": {},
     "output_type": "execute_result"
    },
    {
     "data": {
      "image/png": "[encoded data removed]",
      "text/plain": [
       "<Figure size 640x480 with 1 Axes>"
      ]
     },
     "metadata": {},
     "output_type": "display_data"
    }
   ],
   "source": [
    "df[df.country_of_origin =='Indonesia'].altitude_mean_meters.hist()"
   ]
  },
  {
   "cell_type": "code",
   "execution_count": 128,
   "id": "05b7fed6",
   "metadata": {},
   "outputs": [],
   "source": [
    "df.loc[(df.country_of_origin == 'Indonesia') & (df.altitude_mean_meters > 1800), 'altitude_mean_meters'] = 1350"
   ]
  },
  {
   "cell_type": "code",
   "execution_count": 129,
   "id": "206eb499",
   "metadata": {},
   "outputs": [
    {
     "data": {
      "text/plain": [
       "<AxesSubplot: ylabel='Density'>"
      ]
     },
     "execution_count": 129,
     "metadata": {},
     "output_type": "execute_result"
    },
    {
     "data": {
      "image/png": "[encoded data removed]",
      "text/plain": [
       "<Figure size 640x480 with 1 Axes>"
      ]
     },
     "metadata": {},
     "output_type": "display_data"
    }
   ],
   "source": [
    "df[df.country_of_origin =='Indonesia'].altitude_mean_meters.plot.kde()"
   ]
  },
  {
   "cell_type": "markdown",
   "id": "d9d40775",
   "metadata": {},
   "source": [
    "## Still - some coffee get zero points (?). Let`s look at that."
   ]
  },
  {
   "cell_type": "code",
   "execution_count": 130,
   "id": "cd33685b",
   "metadata": {},
   "outputs": [
    {
     "data": {
      "text/plain": [
       "count    1306.000000\n",
       "mean       82.123714\n",
       "std         3.516596\n",
       "min         0.000000\n",
       "25%        81.170000\n",
       "50%        82.500000\n",
       "75%        83.670000\n",
       "max        90.580000\n",
       "Name: total_cup_points, dtype: float64"
      ]
     },
     "execution_count": 130,
     "metadata": {},
     "output_type": "execute_result"
    }
   ],
   "source": [
    "df.total_cup_points.describe()"
   ]
  },
  {
   "cell_type": "code",
   "execution_count": 131,
   "id": "ffffc170",
   "metadata": {},
   "outputs": [
    {
     "data": {
      "text/html": [
       "<div>\n",
       "<style scoped>\n",
       "    .dataframe tbody tr th:only-of-type {\n",
       "        vertical-align: middle;\n",
       "    }\n",
       "\n",
       "    .dataframe tbody tr th {\n",
       "        vertical-align: top;\n",
       "    }\n",
       "\n",
       "    .dataframe thead th {\n",
       "        text-align: right;\n",
       "    }\n",
       "</style>\n",
       "<table border=\"1\" class=\"dataframe\">\n",
       "  <thead>\n",
       "    <tr style=\"text-align: right;\">\n",
       "      <th></th>\n",
       "      <th>owner</th>\n",
       "      <th>country_of_origin</th>\n",
       "      <th>variety</th>\n",
       "      <th>processing_method</th>\n",
       "      <th>aroma</th>\n",
       "      <th>flavor</th>\n",
       "      <th>aftertaste</th>\n",
       "      <th>acidity</th>\n",
       "      <th>body</th>\n",
       "      <th>balance</th>\n",
       "      <th>uniformity</th>\n",
       "      <th>clean_cup</th>\n",
       "      <th>sweetness</th>\n",
       "      <th>cupper_points</th>\n",
       "      <th>total_cup_points</th>\n",
       "      <th>altitude_mean_meters</th>\n",
       "    </tr>\n",
       "  </thead>\n",
       "  <tbody>\n",
       "    <tr>\n",
       "      <th>1312</th>\n",
       "      <td>bismarck castro</td>\n",
       "      <td>Honduras</td>\n",
       "      <td>Caturra</td>\n",
       "      <td>unknown</td>\n",
       "      <td>0.0</td>\n",
       "      <td>0.0</td>\n",
       "      <td>0.0</td>\n",
       "      <td>0.0</td>\n",
       "      <td>0.0</td>\n",
       "      <td>0.0</td>\n",
       "      <td>0.0</td>\n",
       "      <td>0.0</td>\n",
       "      <td>0.0</td>\n",
       "      <td>0.0</td>\n",
       "      <td>0.0</td>\n",
       "      <td>1400.0</td>\n",
       "    </tr>\n",
       "  </tbody>\n",
       "</table>\n",
       "</div>"
      ],
      "text/plain": [
       "                owner country_of_origin  variety processing_method  aroma  \\\n",
       "1312  bismarck castro          Honduras  Caturra           unknown    0.0   \n",
       "\n",
       "      flavor  aftertaste  acidity  body  balance  uniformity  clean_cup  \\\n",
       "1312     0.0         0.0      0.0   0.0      0.0         0.0        0.0   \n",
       "\n",
       "      sweetness  cupper_points  total_cup_points  altitude_mean_meters  \n",
       "1312        0.0            0.0               0.0                1400.0  "
      ]
     },
     "execution_count": 131,
     "metadata": {},
     "output_type": "execute_result"
    }
   ],
   "source": [
    "df[df.total_cup_points == 0]"
   ]
  },
  {
   "cell_type": "code",
   "execution_count": 132,
   "id": "9d016ffe",
   "metadata": {},
   "outputs": [],
   "source": [
    "df.drop(index=1312, inplace = True) ## drop that row - it looks like 'bad' record"
   ]
  },
  {
   "cell_type": "code",
   "execution_count": 133,
   "id": "0722c43e",
   "metadata": {},
   "outputs": [
    {
     "data": {
      "text/html": [
       "<div>\n",
       "<style scoped>\n",
       "    .dataframe tbody tr th:only-of-type {\n",
       "        vertical-align: middle;\n",
       "    }\n",
       "\n",
       "    .dataframe tbody tr th {\n",
       "        vertical-align: top;\n",
       "    }\n",
       "\n",
       "    .dataframe thead th {\n",
       "        text-align: right;\n",
       "    }\n",
       "</style>\n",
       "<table border=\"1\" class=\"dataframe\">\n",
       "  <thead>\n",
       "    <tr style=\"text-align: right;\">\n",
       "      <th></th>\n",
       "      <th>aroma</th>\n",
       "      <th>flavor</th>\n",
       "      <th>aftertaste</th>\n",
       "      <th>acidity</th>\n",
       "      <th>body</th>\n",
       "      <th>balance</th>\n",
       "      <th>uniformity</th>\n",
       "      <th>clean_cup</th>\n",
       "      <th>sweetness</th>\n",
       "      <th>cupper_points</th>\n",
       "      <th>total_cup_points</th>\n",
       "      <th>altitude_mean_meters</th>\n",
       "    </tr>\n",
       "  </thead>\n",
       "  <tbody>\n",
       "    <tr>\n",
       "      <th>count</th>\n",
       "      <td>1305.000000</td>\n",
       "      <td>1305.000000</td>\n",
       "      <td>1305.000000</td>\n",
       "      <td>1305.000000</td>\n",
       "      <td>1305.000000</td>\n",
       "      <td>1305.000000</td>\n",
       "      <td>1305.000000</td>\n",
       "      <td>1305.000000</td>\n",
       "      <td>1305.000000</td>\n",
       "      <td>1305.000000</td>\n",
       "      <td>1305.000000</td>\n",
       "      <td>1305.000000</td>\n",
       "    </tr>\n",
       "    <tr>\n",
       "      <th>mean</th>\n",
       "      <td>7.570352</td>\n",
       "      <td>7.524797</td>\n",
       "      <td>7.404628</td>\n",
       "      <td>7.540858</td>\n",
       "      <td>7.523625</td>\n",
       "      <td>7.523716</td>\n",
       "      <td>9.841318</td>\n",
       "      <td>9.840015</td>\n",
       "      <td>9.913042</td>\n",
       "      <td>7.503923</td>\n",
       "      <td>82.186644</td>\n",
       "      <td>1314.879935</td>\n",
       "    </tr>\n",
       "    <tr>\n",
       "      <th>std</th>\n",
       "      <td>0.315431</td>\n",
       "      <td>0.341612</td>\n",
       "      <td>0.348863</td>\n",
       "      <td>0.318481</td>\n",
       "      <td>0.292971</td>\n",
       "      <td>0.349505</td>\n",
       "      <td>0.489526</td>\n",
       "      <td>0.723474</td>\n",
       "      <td>0.446908</td>\n",
       "      <td>0.427375</td>\n",
       "      <td>2.683274</td>\n",
       "      <td>383.707969</td>\n",
       "    </tr>\n",
       "    <tr>\n",
       "      <th>min</th>\n",
       "      <td>5.080000</td>\n",
       "      <td>6.080000</td>\n",
       "      <td>6.170000</td>\n",
       "      <td>5.250000</td>\n",
       "      <td>5.250000</td>\n",
       "      <td>6.080000</td>\n",
       "      <td>6.000000</td>\n",
       "      <td>0.000000</td>\n",
       "      <td>1.330000</td>\n",
       "      <td>5.170000</td>\n",
       "      <td>59.830000</td>\n",
       "      <td>50.000000</td>\n",
       "    </tr>\n",
       "    <tr>\n",
       "      <th>25%</th>\n",
       "      <td>7.420000</td>\n",
       "      <td>7.330000</td>\n",
       "      <td>7.250000</td>\n",
       "      <td>7.330000</td>\n",
       "      <td>7.330000</td>\n",
       "      <td>7.330000</td>\n",
       "      <td>10.000000</td>\n",
       "      <td>10.000000</td>\n",
       "      <td>10.000000</td>\n",
       "      <td>7.250000</td>\n",
       "      <td>81.170000</td>\n",
       "      <td>1100.000000</td>\n",
       "    </tr>\n",
       "    <tr>\n",
       "      <th>50%</th>\n",
       "      <td>7.580000</td>\n",
       "      <td>7.580000</td>\n",
       "      <td>7.420000</td>\n",
       "      <td>7.500000</td>\n",
       "      <td>7.500000</td>\n",
       "      <td>7.500000</td>\n",
       "      <td>10.000000</td>\n",
       "      <td>10.000000</td>\n",
       "      <td>10.000000</td>\n",
       "      <td>7.500000</td>\n",
       "      <td>82.500000</td>\n",
       "      <td>1310.640000</td>\n",
       "    </tr>\n",
       "    <tr>\n",
       "      <th>75%</th>\n",
       "      <td>7.750000</td>\n",
       "      <td>7.750000</td>\n",
       "      <td>7.580000</td>\n",
       "      <td>7.750000</td>\n",
       "      <td>7.670000</td>\n",
       "      <td>7.750000</td>\n",
       "      <td>10.000000</td>\n",
       "      <td>10.000000</td>\n",
       "      <td>10.000000</td>\n",
       "      <td>7.750000</td>\n",
       "      <td>83.670000</td>\n",
       "      <td>1600.000000</td>\n",
       "    </tr>\n",
       "    <tr>\n",
       "      <th>max</th>\n",
       "      <td>8.750000</td>\n",
       "      <td>8.830000</td>\n",
       "      <td>8.670000</td>\n",
       "      <td>8.750000</td>\n",
       "      <td>8.580000</td>\n",
       "      <td>8.750000</td>\n",
       "      <td>10.000000</td>\n",
       "      <td>10.000000</td>\n",
       "      <td>10.000000</td>\n",
       "      <td>10.000000</td>\n",
       "      <td>90.580000</td>\n",
       "      <td>2560.000000</td>\n",
       "    </tr>\n",
       "  </tbody>\n",
       "</table>\n",
       "</div>"
      ],
      "text/plain": [
       "             aroma       flavor   aftertaste      acidity         body  \\\n",
       "count  1305.000000  1305.000000  1305.000000  1305.000000  1305.000000   \n",
       "mean      7.570352     7.524797     7.404628     7.540858     7.523625   \n",
       "std       0.315431     0.341612     0.348863     0.318481     0.292971   \n",
       "min       5.080000     6.080000     6.170000     5.250000     5.250000   \n",
       "25%       7.420000     7.330000     7.250000     7.330000     7.330000   \n",
       "50%       7.580000     7.580000     7.420000     7.500000     7.500000   \n",
       "75%       7.750000     7.750000     7.580000     7.750000     7.670000   \n",
       "max       8.750000     8.830000     8.670000     8.750000     8.580000   \n",
       "\n",
       "           balance   uniformity    clean_cup    sweetness  cupper_points  \\\n",
       "count  1305.000000  1305.000000  1305.000000  1305.000000    1305.000000   \n",
       "mean      7.523716     9.841318     9.840015     9.913042       7.503923   \n",
       "std       0.349505     0.489526     0.723474     0.446908       0.427375   \n",
       "min       6.080000     6.000000     0.000000     1.330000       5.170000   \n",
       "25%       7.330000    10.000000    10.000000    10.000000       7.250000   \n",
       "50%       7.500000    10.000000    10.000000    10.000000       7.500000   \n",
       "75%       7.750000    10.000000    10.000000    10.000000       7.750000   \n",
       "max       8.750000    10.000000    10.000000    10.000000      10.000000   \n",
       "\n",
       "       total_cup_points  altitude_mean_meters  \n",
       "count       1305.000000           1305.000000  \n",
       "mean          82.186644           1314.879935  \n",
       "std            2.683274            383.707969  \n",
       "min           59.830000             50.000000  \n",
       "25%           81.170000           1100.000000  \n",
       "50%           82.500000           1310.640000  \n",
       "75%           83.670000           1600.000000  \n",
       "max           90.580000           2560.000000  "
      ]
     },
     "execution_count": 133,
     "metadata": {},
     "output_type": "execute_result"
    }
   ],
   "source": [
    "df.describe()"
   ]
  },
  {
   "cell_type": "markdown",
   "id": "5c6b9f13",
   "metadata": {},
   "source": [
    "## It looks like someone gave '0' points for clean_cup. Let`s delete this record"
   ]
  },
  {
   "cell_type": "code",
   "execution_count": 134,
   "id": "b35001b5",
   "metadata": {},
   "outputs": [
    {
     "data": {
      "text/html": [
       "<div>\n",
       "<style scoped>\n",
       "    .dataframe tbody tr th:only-of-type {\n",
       "        vertical-align: middle;\n",
       "    }\n",
       "\n",
       "    .dataframe tbody tr th {\n",
       "        vertical-align: top;\n",
       "    }\n",
       "\n",
       "    .dataframe thead th {\n",
       "        text-align: right;\n",
       "    }\n",
       "</style>\n",
       "<table border=\"1\" class=\"dataframe\">\n",
       "  <thead>\n",
       "    <tr style=\"text-align: right;\">\n",
       "      <th></th>\n",
       "      <th>owner</th>\n",
       "      <th>country_of_origin</th>\n",
       "      <th>variety</th>\n",
       "      <th>processing_method</th>\n",
       "      <th>aroma</th>\n",
       "      <th>flavor</th>\n",
       "      <th>aftertaste</th>\n",
       "      <th>acidity</th>\n",
       "      <th>body</th>\n",
       "      <th>balance</th>\n",
       "      <th>uniformity</th>\n",
       "      <th>clean_cup</th>\n",
       "      <th>sweetness</th>\n",
       "      <th>cupper_points</th>\n",
       "      <th>total_cup_points</th>\n",
       "      <th>altitude_mean_meters</th>\n",
       "    </tr>\n",
       "  </thead>\n",
       "  <tbody>\n",
       "    <tr>\n",
       "      <th>1307</th>\n",
       "      <td>juan carlos garcia lopez</td>\n",
       "      <td>Mexico</td>\n",
       "      <td>Bourbon</td>\n",
       "      <td>Washed / Wet</td>\n",
       "      <td>7.08</td>\n",
       "      <td>6.83</td>\n",
       "      <td>6.25</td>\n",
       "      <td>7.42</td>\n",
       "      <td>7.25</td>\n",
       "      <td>6.75</td>\n",
       "      <td>10.0</td>\n",
       "      <td>0.0</td>\n",
       "      <td>10.0</td>\n",
       "      <td>6.75</td>\n",
       "      <td>68.33</td>\n",
       "      <td>900.0</td>\n",
       "    </tr>\n",
       "  </tbody>\n",
       "</table>\n",
       "</div>"
      ],
      "text/plain": [
       "                         owner country_of_origin  variety processing_method  \\\n",
       "1307  juan carlos garcia lopez            Mexico  Bourbon      Washed / Wet   \n",
       "\n",
       "      aroma  flavor  aftertaste  acidity  body  balance  uniformity  \\\n",
       "1307   7.08    6.83        6.25     7.42  7.25     6.75        10.0   \n",
       "\n",
       "      clean_cup  sweetness  cupper_points  total_cup_points  \\\n",
       "1307        0.0       10.0           6.75             68.33   \n",
       "\n",
       "      altitude_mean_meters  \n",
       "1307                 900.0  "
      ]
     },
     "execution_count": 134,
     "metadata": {},
     "output_type": "execute_result"
    }
   ],
   "source": [
    "df[df.clean_cup == 0]"
   ]
  },
  {
   "cell_type": "code",
   "execution_count": 135,
   "id": "501682d8",
   "metadata": {},
   "outputs": [],
   "source": [
    "df.drop(index=1307, inplace = True)"
   ]
  },
  {
   "cell_type": "code",
   "execution_count": 136,
   "id": "842a9ffc",
   "metadata": {},
   "outputs": [
    {
     "data": {
      "text/html": [
       "<div>\n",
       "<style scoped>\n",
       "    .dataframe tbody tr th:only-of-type {\n",
       "        vertical-align: middle;\n",
       "    }\n",
       "\n",
       "    .dataframe tbody tr th {\n",
       "        vertical-align: top;\n",
       "    }\n",
       "\n",
       "    .dataframe thead th {\n",
       "        text-align: right;\n",
       "    }\n",
       "</style>\n",
       "<table border=\"1\" class=\"dataframe\">\n",
       "  <thead>\n",
       "    <tr style=\"text-align: right;\">\n",
       "      <th></th>\n",
       "      <th>aroma</th>\n",
       "      <th>flavor</th>\n",
       "      <th>aftertaste</th>\n",
       "      <th>acidity</th>\n",
       "      <th>body</th>\n",
       "      <th>balance</th>\n",
       "      <th>uniformity</th>\n",
       "      <th>clean_cup</th>\n",
       "      <th>sweetness</th>\n",
       "      <th>cupper_points</th>\n",
       "      <th>total_cup_points</th>\n",
       "      <th>altitude_mean_meters</th>\n",
       "    </tr>\n",
       "  </thead>\n",
       "  <tbody>\n",
       "    <tr>\n",
       "      <th>count</th>\n",
       "      <td>1304.000000</td>\n",
       "      <td>1304.00000</td>\n",
       "      <td>1304.000000</td>\n",
       "      <td>1304.000000</td>\n",
       "      <td>1304.000000</td>\n",
       "      <td>1304.000000</td>\n",
       "      <td>1304.000000</td>\n",
       "      <td>1304.000000</td>\n",
       "      <td>1304.000000</td>\n",
       "      <td>1304.000000</td>\n",
       "      <td>1304.000000</td>\n",
       "      <td>1304.000000</td>\n",
       "    </tr>\n",
       "    <tr>\n",
       "      <th>mean</th>\n",
       "      <td>7.570729</td>\n",
       "      <td>7.52533</td>\n",
       "      <td>7.405514</td>\n",
       "      <td>7.540951</td>\n",
       "      <td>7.523834</td>\n",
       "      <td>7.524310</td>\n",
       "      <td>9.841196</td>\n",
       "      <td>9.847561</td>\n",
       "      <td>9.912975</td>\n",
       "      <td>7.504502</td>\n",
       "      <td>82.197270</td>\n",
       "      <td>1315.198094</td>\n",
       "    </tr>\n",
       "    <tr>\n",
       "      <th>std</th>\n",
       "      <td>0.315260</td>\n",
       "      <td>0.34120</td>\n",
       "      <td>0.347527</td>\n",
       "      <td>0.318585</td>\n",
       "      <td>0.292985</td>\n",
       "      <td>0.348981</td>\n",
       "      <td>0.489694</td>\n",
       "      <td>0.670410</td>\n",
       "      <td>0.447073</td>\n",
       "      <td>0.427029</td>\n",
       "      <td>2.656692</td>\n",
       "      <td>383.682941</td>\n",
       "    </tr>\n",
       "    <tr>\n",
       "      <th>min</th>\n",
       "      <td>5.080000</td>\n",
       "      <td>6.08000</td>\n",
       "      <td>6.170000</td>\n",
       "      <td>5.250000</td>\n",
       "      <td>5.250000</td>\n",
       "      <td>6.080000</td>\n",
       "      <td>6.000000</td>\n",
       "      <td>1.330000</td>\n",
       "      <td>1.330000</td>\n",
       "      <td>5.170000</td>\n",
       "      <td>59.830000</td>\n",
       "      <td>50.000000</td>\n",
       "    </tr>\n",
       "    <tr>\n",
       "      <th>25%</th>\n",
       "      <td>7.420000</td>\n",
       "      <td>7.33000</td>\n",
       "      <td>7.250000</td>\n",
       "      <td>7.330000</td>\n",
       "      <td>7.330000</td>\n",
       "      <td>7.330000</td>\n",
       "      <td>10.000000</td>\n",
       "      <td>10.000000</td>\n",
       "      <td>10.000000</td>\n",
       "      <td>7.250000</td>\n",
       "      <td>81.170000</td>\n",
       "      <td>1100.000000</td>\n",
       "    </tr>\n",
       "    <tr>\n",
       "      <th>50%</th>\n",
       "      <td>7.580000</td>\n",
       "      <td>7.58000</td>\n",
       "      <td>7.420000</td>\n",
       "      <td>7.500000</td>\n",
       "      <td>7.500000</td>\n",
       "      <td>7.500000</td>\n",
       "      <td>10.000000</td>\n",
       "      <td>10.000000</td>\n",
       "      <td>10.000000</td>\n",
       "      <td>7.500000</td>\n",
       "      <td>82.540000</td>\n",
       "      <td>1310.640000</td>\n",
       "    </tr>\n",
       "    <tr>\n",
       "      <th>75%</th>\n",
       "      <td>7.750000</td>\n",
       "      <td>7.75000</td>\n",
       "      <td>7.580000</td>\n",
       "      <td>7.750000</td>\n",
       "      <td>7.670000</td>\n",
       "      <td>7.750000</td>\n",
       "      <td>10.000000</td>\n",
       "      <td>10.000000</td>\n",
       "      <td>10.000000</td>\n",
       "      <td>7.750000</td>\n",
       "      <td>83.670000</td>\n",
       "      <td>1600.000000</td>\n",
       "    </tr>\n",
       "    <tr>\n",
       "      <th>max</th>\n",
       "      <td>8.750000</td>\n",
       "      <td>8.83000</td>\n",
       "      <td>8.670000</td>\n",
       "      <td>8.750000</td>\n",
       "      <td>8.580000</td>\n",
       "      <td>8.750000</td>\n",
       "      <td>10.000000</td>\n",
       "      <td>10.000000</td>\n",
       "      <td>10.000000</td>\n",
       "      <td>10.000000</td>\n",
       "      <td>90.580000</td>\n",
       "      <td>2560.000000</td>\n",
       "    </tr>\n",
       "  </tbody>\n",
       "</table>\n",
       "</div>"
      ],
      "text/plain": [
       "             aroma      flavor   aftertaste      acidity         body  \\\n",
       "count  1304.000000  1304.00000  1304.000000  1304.000000  1304.000000   \n",
       "mean      7.570729     7.52533     7.405514     7.540951     7.523834   \n",
       "std       0.315260     0.34120     0.347527     0.318585     0.292985   \n",
       "min       5.080000     6.08000     6.170000     5.250000     5.250000   \n",
       "25%       7.420000     7.33000     7.250000     7.330000     7.330000   \n",
       "50%       7.580000     7.58000     7.420000     7.500000     7.500000   \n",
       "75%       7.750000     7.75000     7.580000     7.750000     7.670000   \n",
       "max       8.750000     8.83000     8.670000     8.750000     8.580000   \n",
       "\n",
       "           balance   uniformity    clean_cup    sweetness  cupper_points  \\\n",
       "count  1304.000000  1304.000000  1304.000000  1304.000000    1304.000000   \n",
       "mean      7.524310     9.841196     9.847561     9.912975       7.504502   \n",
       "std       0.348981     0.489694     0.670410     0.447073       0.427029   \n",
       "min       6.080000     6.000000     1.330000     1.330000       5.170000   \n",
       "25%       7.330000    10.000000    10.000000    10.000000       7.250000   \n",
       "50%       7.500000    10.000000    10.000000    10.000000       7.500000   \n",
       "75%       7.750000    10.000000    10.000000    10.000000       7.750000   \n",
       "max       8.750000    10.000000    10.000000    10.000000      10.000000   \n",
       "\n",
       "       total_cup_points  altitude_mean_meters  \n",
       "count       1304.000000           1304.000000  \n",
       "mean          82.197270           1315.198094  \n",
       "std            2.656692            383.682941  \n",
       "min           59.830000             50.000000  \n",
       "25%           81.170000           1100.000000  \n",
       "50%           82.540000           1310.640000  \n",
       "75%           83.670000           1600.000000  \n",
       "max           90.580000           2560.000000  "
      ]
     },
     "execution_count": 136,
     "metadata": {},
     "output_type": "execute_result"
    }
   ],
   "source": [
    "df.describe()"
   ]
  },
  {
   "cell_type": "code",
   "execution_count": 137,
   "id": "bde35b3b",
   "metadata": {},
   "outputs": [
    {
     "data": {
      "text/plain": [
       "Mexico              235\n",
       "Colombia            183\n",
       "Guatemala           181\n",
       "Brazil              132\n",
       "Taiwan               75\n",
       "Hawaii               73\n",
       "Honduras             52\n",
       "Costa Rica           51\n",
       "Ethiopia             44\n",
       "Tanzania             40\n",
       "Thailand             32\n",
       "Uganda               26\n",
       "Nicaragua            26\n",
       "Kenya                25\n",
       "El Salvador          21\n",
       "Indonesia            20\n",
       "China                16\n",
       "Malawi               11\n",
       "Peru                 10\n",
       "Myanmar               8\n",
       "United States         8\n",
       "Vietnam               7\n",
       "Haiti                 6\n",
       "Philippines           5\n",
       "Panama                4\n",
       "Puerto Rico           4\n",
       "Laos                  3\n",
       "Burundi               2\n",
       "Papua New Guinea      1\n",
       "Rwanda                1\n",
       "Zambia                1\n",
       "Ecuador               1\n",
       "Name: country_of_origin, dtype: int64"
      ]
     },
     "execution_count": 137,
     "metadata": {},
     "output_type": "execute_result"
    }
   ],
   "source": [
    "df.country_of_origin.value_counts() # Who is the biggest producer - in our dataset "
   ]
  },
  {
   "cell_type": "markdown",
   "id": "863ec334",
   "metadata": {},
   "source": [
    "## Country that produce the most coffee is Mexico - in fact - Mexico is a big producer but not as big as Brazil ! It is a big producer of specialty coffee but Brazil is not as big as Mexico in that field. As our dataset is about specialty coffee - that make sense. Let`s look at the biggest producers from our dataset"
   ]
  },
  {
   "cell_type": "code",
   "execution_count": 163,
   "id": "f2f7da08",
   "metadata": {},
   "outputs": [
    {
     "data": {
      "image/png": "[encoded data removed]",
      "text/plain": [
       "<Figure size 200x200 with 4 Axes>"
      ]
     },
     "metadata": {},
     "output_type": "display_data"
    }
   ],
   "source": [
    "#mexico varieties # do poprawy \n",
    "fig = plt.figure(figsize=(2, 2))\n",
    "\n",
    "mexico_variety = df[df.country_of_origin == 'Mexico'].variety.value_counts()\n",
    "sizes = mexico_variety\n",
    "labels = mexico_variety.index\n",
    "ax1 = plt.subplot(2,2,1)\n",
    "ax1.pie(mexico_variety, labels=[f'{label}: {size}' for label, size in zip(labels, sizes)], autopct='%1.2f%%')\n",
    "ax1.set_title('Coffee varieties from Mexico')\n",
    "ax1.axis('equal')\n",
    "# plt.show()\n",
    "\n",
    "#colombian varieties\n",
    "colombia_variety = df[df.country_of_origin == 'Colombia'].variety.value_counts()\n",
    "sizes = colombia_variety\n",
    "labels = colombia_variety.index\n",
    "ax2 = plt.subplot(2,2,2)\n",
    "ax2.pie(colombia_variety, labels=[f'{label}: {size}' for label, size in zip(labels, sizes)], autopct='%1.2f%%')\n",
    "ax2.set_title('Coffee varieties from Colombia')\n",
    "ax2.axis('equal')\n",
    "# plt.show()\n",
    "\n",
    "#guatemala varieties\n",
    "guatemala_variety = df[df.country_of_origin == 'Guatemala'].variety.value_counts()\n",
    "sizes = guatemala_variety\n",
    "labels = guatemala_variety.index\n",
    "ax3 = plt.subplot(2,2,3)\n",
    "ax3.pie(guatemala_variety, labels=[f'{label}: {size}' for label, size in zip(labels, sizes)], autopct='%1.2f%%')\n",
    "ax3.set_title('Coffee varieties from Guatemala')\n",
    "ax3.axis('equal')\n",
    "# plt.show()\n",
    "\n",
    "\n",
    "#brazil varieties\n",
    "brazil_variety = df[df.country_of_origin == 'Brazil'].variety.value_counts()\n",
    "sizes = brazil_variety\n",
    "labels = brazil_variety.index\n",
    "ax4 = plt.subplot(2,2,4)\n",
    "ax4.pie(brazil_variety, labels=[f'{label}: {size}' for label, size in zip(labels, sizes)], autopct='%1.2f%%')\n",
    "ax4.set_title('Coffee varieties from Brazil')\n",
    "ax4.axis('equal')\n",
    "\n",
    "# plt.axis('equal')\n",
    "# plt.tight_layout()\n",
    "# plt.subplots_adjust(left=10, right=8)\n",
    "plt.show()\n",
    "\n"
   ]
  },
  {
   "cell_type": "markdown",
   "id": "a80903ac",
   "metadata": {},
   "source": [
    "## Let`s look for 'biggest' coffee owner in our dataset"
   ]
  },
  {
   "cell_type": "code",
   "execution_count": null,
   "id": "ee3be296",
   "metadata": {},
   "outputs": [],
   "source": [
    "df.owner.value_counts()"
   ]
  },
  {
   "cell_type": "markdown",
   "id": "829ca87c",
   "metadata": {},
   "source": [
    "## The most popular producer is 'juan luis alvarado romero' - 155records. Lets find out what is his most popular coffee variety and processing_method. What is the mean_cupping points that his coffee got."
   ]
  },
  {
   "cell_type": "code",
   "execution_count": null,
   "id": "77b664c5",
   "metadata": {},
   "outputs": [],
   "source": [
    "df[df.owner == 'juan luis alvarado romero']"
   ]
  },
  {
   "cell_type": "code",
   "execution_count": null,
   "id": "34ef412b",
   "metadata": {},
   "outputs": [],
   "source": [
    "juan_variety = df[df.owner == 'juan luis alvarado romero'].variety.value_counts() ## most popular variety\n",
    "juan_variety"
   ]
  },
  {
   "cell_type": "code",
   "execution_count": null,
   "id": "471c1b97",
   "metadata": {},
   "outputs": [],
   "source": [
    "plt.bar(juan_variety.index, juan_variety)\n",
    "plt.xlabel('variety')\n",
    "plt.xticks(rotation=90)\n",
    "plt.ylabel('records')\n",
    "plt.title('juan luis alvarado romero coffee varieties')\n",
    "plt.show()"
   ]
  },
  {
   "cell_type": "code",
   "execution_count": null,
   "id": "970d62dd",
   "metadata": {},
   "outputs": [],
   "source": [
    "df.variety.value_counts()"
   ]
  },
  {
   "cell_type": "markdown",
   "id": "c5f9682c",
   "metadata": {},
   "source": [
    "## The most popular variety in our dataset is Caturra but the second one is Bourbon. Those varieties are very popular in the word of coffee "
   ]
  },
  {
   "cell_type": "code",
   "execution_count": null,
   "id": "a9c4df56",
   "metadata": {},
   "outputs": [],
   "source": [
    "juan_method = df[df.owner == 'juan luis alvarado romero'].processing_method.value_counts() ## most popular processing method\n",
    "juan_method "
   ]
  },
  {
   "cell_type": "code",
   "execution_count": null,
   "id": "08d6b4e4",
   "metadata": {},
   "outputs": [],
   "source": [
    "sizes = juan_method\n",
    "labels = juan_method.index\n",
    "plt.pie(juan_method, labels=[f'{label}: {size}' for label, size in zip(labels, sizes)], autopct='%1.2f%%')\n",
    "plt.title('juan luis alvarado romero processing method')\n",
    "plt.show()"
   ]
  },
  {
   "cell_type": "code",
   "execution_count": null,
   "id": "72f0a9ce",
   "metadata": {},
   "outputs": [],
   "source": [
    "filtered_juan_bourbon = df.query(\"owner == 'juan luis alvarado romero' and variety == 'Bourbon'\")"
   ]
  },
  {
   "cell_type": "code",
   "execution_count": null,
   "id": "d2eecc5e",
   "metadata": {},
   "outputs": [],
   "source": [
    "filtered_juan_bourbon.processing_method.value_counts()"
   ]
  },
  {
   "cell_type": "code",
   "execution_count": null,
   "id": "da422b0b",
   "metadata": {},
   "outputs": [],
   "source": [
    "df[df.owner == 'juan luis alvarado romero'].total_cup_points.mean() ## cuppig points"
   ]
  },
  {
   "cell_type": "code",
   "execution_count": null,
   "id": "aa0af708",
   "metadata": {},
   "outputs": [],
   "source": [
    "df[(df.owner == 'juan luis alvarado romero') & (df.processing_method == 'Washed / Wet' )].total_cup_points.mean()"
   ]
  },
  {
   "cell_type": "markdown",
   "id": "cf176e1b",
   "metadata": {},
   "source": [
    "## The most popular country of origin with coffee points above 80+"
   ]
  },
  {
   "cell_type": "code",
   "execution_count": null,
   "id": "80ebe470",
   "metadata": {},
   "outputs": [],
   "source": [
    "country_with_points = df[df.total_cup_points > 80].country_of_origin.value_counts() "
   ]
  },
  {
   "cell_type": "code",
   "execution_count": null,
   "id": "e3529128",
   "metadata": {},
   "outputs": [],
   "source": [
    "plt.bar(country_with_points.index, country_with_points)\n",
    "plt.xlabel('country')\n",
    "plt.xticks(rotation=90)\n",
    "plt.ylabel('records')\n",
    "plt.title('countries with coffee points above 80')\n",
    "plt.show()"
   ]
  },
  {
   "cell_type": "markdown",
   "id": "70e0d493",
   "metadata": {},
   "source": [
    "## The most popular country with coffee above 80points is Colombia. In fact - Colombia has got really good quality coffees. Let`s look at Colombian coffee"
   ]
  },
  {
   "cell_type": "code",
   "execution_count": null,
   "id": "b8adbeb1",
   "metadata": {},
   "outputs": [],
   "source": [
    "colombia_coffee = df[df.country_of_origin == 'Colombia'].owner.value_counts() ## most popolar owner / producer"
   ]
  },
  {
   "cell_type": "code",
   "execution_count": null,
   "id": "29157979",
   "metadata": {},
   "outputs": [],
   "source": [
    "plt.bar(colombia_coffee.index, colombia_coffee)\n",
    "plt.xlabel('owner')\n",
    "plt.xticks(rotation=90)\n",
    "plt.ylabel('records')\n",
    "plt.title('colombia coffee owner')\n",
    "plt.show()"
   ]
  },
  {
   "cell_type": "code",
   "execution_count": null,
   "id": "dca9ab9a",
   "metadata": {},
   "outputs": [],
   "source": [
    "variety_of_colombia = df[df.country_of_origin == 'Colombia'].variety.value_counts() ## most popular variety \n",
    "labels = variety_of_colombia.index\n",
    "plt.pie(variety_of_colombia, labels=[f'{label}' for label, size in zip(labels, variety_of_colombia)], autopct='%1.2f%%')\n",
    "plt.title('coffee variety of Colombia')\n",
    "plt.show()"
   ]
  },
  {
   "cell_type": "code",
   "execution_count": null,
   "id": "ee81834a",
   "metadata": {},
   "outputs": [],
   "source": [
    "df[df.owner =='racafe & cia s.c.a'].total_cup_points.mean()"
   ]
  },
  {
   "cell_type": "markdown",
   "id": "aa42afc3",
   "metadata": {},
   "source": [
    "## Let`s find out something about coffee from China (!). As we look at the world map, we can see that China can grow coffee as well. "
   ]
  },
  {
   "cell_type": "code",
   "execution_count": null,
   "id": "05bd3f8f",
   "metadata": {},
   "outputs": [],
   "source": [
    "df[df.country_of_origin == 'China']"
   ]
  },
  {
   "cell_type": "code",
   "execution_count": null,
   "id": "45bbc519",
   "metadata": {},
   "outputs": [],
   "source": [
    "df[df.country_of_origin == 'China'].owner.value_counts()"
   ]
  },
  {
   "cell_type": "code",
   "execution_count": null,
   "id": "5da39df4",
   "metadata": {},
   "outputs": [],
   "source": [
    "df[df.country_of_origin == 'China'].variety.value_counts()"
   ]
  },
  {
   "cell_type": "code",
   "execution_count": null,
   "id": "c0cd8ddf",
   "metadata": {},
   "outputs": [],
   "source": [
    "df[df.country_of_origin == 'China'].total_cup_points.mean()"
   ]
  },
  {
   "cell_type": "markdown",
   "id": "a5ed501b",
   "metadata": {},
   "source": [
    "## One of my favorite coffee comes from Kenya"
   ]
  },
  {
   "cell_type": "code",
   "execution_count": null,
   "id": "718c7adf",
   "metadata": {},
   "outputs": [],
   "source": [
    "df[df.country_of_origin == 'Kenya']"
   ]
  },
  {
   "cell_type": "code",
   "execution_count": null,
   "id": "844fb86f",
   "metadata": {},
   "outputs": [],
   "source": [
    "df[df.country_of_origin == 'Kenya'].variety.value_counts()"
   ]
  },
  {
   "cell_type": "markdown",
   "id": "708efe07",
   "metadata": {},
   "source": [
    "## In fact - the most popular coffee variety in Kenya is SL - that comes from Scott Agricultural Laboratories  from 1930s"
   ]
  },
  {
   "cell_type": "code",
   "execution_count": null,
   "id": "792d51f7",
   "metadata": {},
   "outputs": [],
   "source": [
    "df[df.country_of_origin == 'Kenya'].total_cup_points.mean()"
   ]
  },
  {
   "cell_type": "code",
   "execution_count": null,
   "id": "0572a4e6",
   "metadata": {},
   "outputs": [],
   "source": [
    "df.variety.value_counts()"
   ]
  },
  {
   "cell_type": "markdown",
   "id": "edc15b95",
   "metadata": {},
   "source": [
    "## Let`s look at one of the most expensive specialty coffee variety - Gesha."
   ]
  },
  {
   "cell_type": "code",
   "execution_count": null,
   "id": "02c01591",
   "metadata": {},
   "outputs": [],
   "source": [
    "df[df.variety == 'Gesha']"
   ]
  },
  {
   "cell_type": "markdown",
   "id": "b82c3fab",
   "metadata": {},
   "source": [
    "## Gesha - in fact - is grown in Africa and Panama as well. Which Gesha got better points ? "
   ]
  },
  {
   "cell_type": "code",
   "execution_count": null,
   "id": "3a14f874",
   "metadata": {},
   "outputs": [],
   "source": [
    "df[df.variety == 'Gesha'].total_cup_points.max()"
   ]
  },
  {
   "cell_type": "code",
   "execution_count": null,
   "id": "4051c9dd",
   "metadata": {},
   "outputs": [],
   "source": [
    "gesha_country = df.query('variety == \"Gesha\" & total_cup_points == 85.83') # One of the best GESHA are form Panama - in fact\n",
    "gesha_country"
   ]
  },
  {
   "cell_type": "code",
   "execution_count": null,
   "id": "4a33c33e",
   "metadata": {},
   "outputs": [],
   "source": [
    "df.total_cup_points.mean()"
   ]
  },
  {
   "cell_type": "markdown",
   "id": "a270024c",
   "metadata": {},
   "source": [
    "## 'The best' Gesha coffee got only 85.83 points and it is just a little bit above the mean (82.12) "
   ]
  },
  {
   "cell_type": "code",
   "execution_count": null,
   "id": "4984001c",
   "metadata": {},
   "outputs": [],
   "source": [
    "df.total_cup_points.max()"
   ]
  },
  {
   "cell_type": "markdown",
   "id": "d4b5f0a1",
   "metadata": {},
   "source": [
    "## What is 'the best' coffee with 90.58 points ?"
   ]
  },
  {
   "cell_type": "code",
   "execution_count": null,
   "id": "7d48b557",
   "metadata": {},
   "outputs": [],
   "source": [
    "df[df.total_cup_points == df.total_cup_points.max()]"
   ]
  },
  {
   "cell_type": "markdown",
   "id": "2e99c1d9",
   "metadata": {},
   "source": [
    "## It is coffee from Ethiopia !"
   ]
  },
  {
   "cell_type": "code",
   "execution_count": null,
   "id": "ae3b7fd7",
   "metadata": {},
   "outputs": [],
   "source": [
    "df.head()"
   ]
  },
  {
   "cell_type": "markdown",
   "id": "5f2472fe",
   "metadata": {},
   "source": [
    "## Checking the avarage points grouping by country"
   ]
  },
  {
   "cell_type": "code",
   "execution_count": null,
   "id": "a212acb8",
   "metadata": {},
   "outputs": [],
   "source": [
    "df[['country_of_origin', 'total_cup_points']].groupby('country_of_origin').mean().sort_values(by = 'total_cup_points', ascending = False)"
   ]
  },
  {
   "cell_type": "code",
   "execution_count": null,
   "id": "d02b89e3",
   "metadata": {},
   "outputs": [],
   "source": [
    "%config Completer.use_jedi = True"
   ]
  },
  {
   "cell_type": "code",
   "execution_count": null,
   "id": "1e032efe",
   "metadata": {},
   "outputs": [],
   "source": [
    "pip install jedi==0.17.2"
   ]
  },
  {
   "cell_type": "code",
   "execution_count": null,
   "id": "febbc8b6",
   "metadata": {},
   "outputs": [],
   "source": [
    "pip install --upgrade pip"
   ]
  },
  {
   "cell_type": "markdown",
   "id": "c1e06bdb",
   "metadata": {},
   "source": [
    "## What are the top rated varieties ? "
   ]
  },
  {
   "cell_type": "code",
   "execution_count": null,
   "id": "66176eb7",
   "metadata": {},
   "outputs": [],
   "source": [
    "df.variety.value_counts().index "
   ]
  },
  {
   "cell_type": "code",
   "execution_count": null,
   "id": "7c1a457e",
   "metadata": {
    "scrolled": true
   },
   "outputs": [],
   "source": [
    "top_rated_variety = df[['variety', 'total_cup_points']].groupby('variety').mean().sort_values(by = 'total_cup_points', ascending = False)\n",
    "top_rated_variety"
   ]
  },
  {
   "cell_type": "code",
   "execution_count": null,
   "id": "7047cb0a",
   "metadata": {},
   "outputs": [],
   "source": [
    "top_rated_variety = pd.DataFrame(top_rated_variety)\n",
    "top_rated_variety.index"
   ]
  },
  {
   "cell_type": "code",
   "execution_count": null,
   "id": "c230d202",
   "metadata": {},
   "outputs": [],
   "source": [
    "plt.bar(top_rated_variety.index, top_rated_variety.total_cup_points)\n",
    "plt.xlabel('variety')\n",
    "plt.xticks(rotation=90)\n",
    "plt.ylabel('total cup points')\n",
    "plt.title('top rated varieties')\n",
    "plt.show()"
   ]
  },
  {
   "cell_type": "markdown",
   "id": "ed40d3c2",
   "metadata": {},
   "source": [
    "## We see that the top rated variety is popular Yirga from Ethiopia. How many records are there with this variety ? "
   ]
  },
  {
   "cell_type": "code",
   "execution_count": null,
   "id": "3dc4199b",
   "metadata": {},
   "outputs": [],
   "source": [
    "df[df.variety == 'Ethiopian Yirgacheffe'] # in fact there are only two records with this variety AND both are above the mean of total_cup_points ( )\n"
   ]
  },
  {
   "cell_type": "code",
   "execution_count": null,
   "id": "b8efa692",
   "metadata": {},
   "outputs": [],
   "source": [
    "df.total_cup_points.mean()"
   ]
  },
  {
   "cell_type": "code",
   "execution_count": null,
   "id": "fce82387",
   "metadata": {},
   "outputs": [],
   "source": [
    "df[df.variety == 'Sumatra Lintong'] # only one recrds with Sumatra Lintong variety .."
   ]
  },
  {
   "cell_type": "code",
   "execution_count": null,
   "id": "c70a4de7",
   "metadata": {},
   "outputs": [],
   "source": [
    "df[df.variety == 'Sumatra'] # three records with Sumatra variety "
   ]
  },
  {
   "cell_type": "code",
   "execution_count": null,
   "id": "7405153e",
   "metadata": {},
   "outputs": [],
   "source": [
    "filtered_SL = df.query(\"variety == 'SL34' or variety == 'SL28' or  variety == 'SL14' \")\n",
    "filtered_SL.describe() "
   ]
  },
  {
   "cell_type": "markdown",
   "id": "9bd21fd1",
   "metadata": {},
   "source": [
    "## One of the top rated varieties are coffee from Scott Agricultural Laboratories - SL34, SL28, SL14. Let`s have look at the SL-coffees"
   ]
  },
  {
   "cell_type": "code",
   "execution_count": null,
   "id": "da8b1408",
   "metadata": {},
   "outputs": [],
   "source": [
    "filtered_SL.head()"
   ]
  },
  {
   "cell_type": "code",
   "execution_count": null,
   "id": "a86f169b",
   "metadata": {},
   "outputs": [],
   "source": [
    "filtered_SL.country_of_origin.value_counts() # most are from Kenya"
   ]
  },
  {
   "cell_type": "code",
   "execution_count": null,
   "id": "9bc26184",
   "metadata": {},
   "outputs": [],
   "source": [
    "filtered_SL.total_cup_points.mean() "
   ]
  },
  {
   "cell_type": "code",
   "execution_count": null,
   "id": "9d85d814",
   "metadata": {},
   "outputs": [],
   "source": []
  }
 ],
 "metadata": {
  "kernelspec": {
   "display_name": "Python 3 (ipykernel)",
   "language": "python",
   "name": "python3"
  },
  "language_info": {
   "codemirror_mode": {
    "name": "ipython",
    "version": 3
   },
   "file_extension": ".py",
   "mimetype": "text/x-python",
   "name": "python",
   "nbconvert_exporter": "python",
   "pygments_lexer": "ipython3",
   "version": "3.10.7"
  }
 },
 "nbformat": 4,
 "nbformat_minor": 5
}
